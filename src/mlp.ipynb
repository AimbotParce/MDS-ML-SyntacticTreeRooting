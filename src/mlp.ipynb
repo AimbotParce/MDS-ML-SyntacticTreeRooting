{
 "cells": [
  {
   "cell_type": "code",
   "execution_count": 2,
   "id": "30999563",
   "metadata": {},
   "outputs": [
    {
     "name": "stderr",
     "output_type": "stream",
     "text": [
      "2025-05-29 19:24:29.967729: E external/local_xla/xla/stream_executor/cuda/cuda_fft.cc:467] Unable to register cuFFT factory: Attempting to register factory for plugin cuFFT when one has already been registered\n",
      "WARNING: All log messages before absl::InitializeLog() is called are written to STDERR\n",
      "E0000 00:00:1748539469.982589 3277251 cuda_dnn.cc:8579] Unable to register cuDNN factory: Attempting to register factory for plugin cuDNN when one has already been registered\n",
      "E0000 00:00:1748539469.986952 3277251 cuda_blas.cc:1407] Unable to register cuBLAS factory: Attempting to register factory for plugin cuBLAS when one has already been registered\n",
      "W0000 00:00:1748539469.998467 3277251 computation_placer.cc:177] computation placer already registered. Please check linkage and avoid linking the same target more than once.\n",
      "W0000 00:00:1748539469.998495 3277251 computation_placer.cc:177] computation placer already registered. Please check linkage and avoid linking the same target more than once.\n",
      "W0000 00:00:1748539469.998496 3277251 computation_placer.cc:177] computation placer already registered. Please check linkage and avoid linking the same target more than once.\n",
      "W0000 00:00:1748539469.998498 3277251 computation_placer.cc:177] computation placer already registered. Please check linkage and avoid linking the same target more than once.\n",
      "2025-05-29 19:24:30.002079: I tensorflow/core/platform/cpu_feature_guard.cc:210] This TensorFlow binary is optimized to use available CPU instructions in performance-critical operations.\n",
      "To enable the following instructions: AVX2 FMA, in other operations, rebuild TensorFlow with the appropriate compiler flags.\n"
     ]
    }
   ],
   "source": [
    "import pandas as pd\n",
    "from pathlib import Path\n",
    "import json\n",
    "import numpy as np\n",
    "import tensorflow as tf\n",
    "from keras import backend as K\n",
    "from keras.utils import set_random_seed\n",
    "from typing import List\n",
    "from keras.callbacks import EarlyStopping, ModelCheckpoint, TensorBoard\n",
    "from keras.layers import Dense, Dropout, Input\n",
    "from keras.models import Model\n",
    "from keras.optimizers import Adam\n",
    "from keras.regularizers import l1_l2\n",
    "\n",
    "set_random_seed(42)"
   ]
  },
  {
   "cell_type": "code",
   "execution_count": 3,
   "id": "7021a6d3",
   "metadata": {},
   "outputs": [
    {
     "data": {
      "application/vnd.microsoft.datawrangler.viewer.v0+json": {
       "columns": [
        {
         "name": "index",
         "rawType": "int64",
         "type": "integer"
        },
        {
         "name": "row_index",
         "rawType": "int64",
         "type": "integer"
        },
        {
         "name": "node",
         "rawType": "int64",
         "type": "integer"
        },
        {
         "name": "is_root",
         "rawType": "bool",
         "type": "boolean"
        },
        {
         "name": "language",
         "rawType": "category",
         "type": "unknown"
        },
        {
         "name": "tree_diameter",
         "rawType": "int64",
         "type": "integer"
        },
        {
         "name": "tree_size",
         "rawType": "int64",
         "type": "integer"
        },
        {
         "name": "tree_edges",
         "rawType": "int64",
         "type": "integer"
        },
        {
         "name": "number_of_centroids",
         "rawType": "int64",
         "type": "integer"
        },
        {
         "name": "average_degree",
         "rawType": "float64",
         "type": "float"
        },
        {
         "name": "number_of_leaves",
         "rawType": "int64",
         "type": "integer"
        },
        {
         "name": "degree",
         "rawType": "int64",
         "type": "integer"
        },
        {
         "name": "is_leaf",
         "rawType": "bool",
         "type": "boolean"
        },
        {
         "name": "is_centroid",
         "rawType": "bool",
         "type": "boolean"
        },
        {
         "name": "distance_to_closest_centroid",
         "rawType": "int64",
         "type": "integer"
        },
        {
         "name": "distance_to_farthest_centroid",
         "rawType": "int64",
         "type": "integer"
        },
        {
         "name": "distance_to_closest_leaf",
         "rawType": "int64",
         "type": "integer"
        },
        {
         "name": "distance_to_farthest_leaf",
         "rawType": "int64",
         "type": "integer"
        },
        {
         "name": "is_in_longest_path",
         "rawType": "bool",
         "type": "boolean"
        },
        {
         "name": "tree_depth_if_root",
         "rawType": "int64",
         "type": "integer"
        },
        {
         "name": "min_subtree_size_if_root",
         "rawType": "int64",
         "type": "integer"
        },
        {
         "name": "max_subtree_size_if_root",
         "rawType": "int64",
         "type": "integer"
        },
        {
         "name": "average_subtree_size_if_root",
         "rawType": "float64",
         "type": "float"
        },
        {
         "name": "min_subtree_leaf_count_if_root",
         "rawType": "int64",
         "type": "integer"
        },
        {
         "name": "max_subtree_leaf_count_if_root",
         "rawType": "int64",
         "type": "integer"
        },
        {
         "name": "average_subtree_leaf_count_if_root",
         "rawType": "float64",
         "type": "float"
        },
        {
         "name": "min_subtree_depth_if_root",
         "rawType": "int64",
         "type": "integer"
        },
        {
         "name": "max_subtree_depth_if_root",
         "rawType": "int64",
         "type": "integer"
        },
        {
         "name": "average_subtree_depth_if_root",
         "rawType": "float64",
         "type": "float"
        },
        {
         "name": "depth_difference_if_root",
         "rawType": "int64",
         "type": "integer"
        },
        {
         "name": "number_of_subtrees_if_root",
         "rawType": "int64",
         "type": "integer"
        },
        {
         "name": "eccentricity",
         "rawType": "int64",
         "type": "integer"
        },
        {
         "name": "closeness_centrality",
         "rawType": "float64",
         "type": "float"
        },
        {
         "name": "closeness_centrality_inverse",
         "rawType": "float64",
         "type": "float"
        },
        {
         "name": "degree_centrality",
         "rawType": "float64",
         "type": "float"
        },
        {
         "name": "harmonic_centrality",
         "rawType": "float64",
         "type": "float"
        },
        {
         "name": "betweenness_centrality",
         "rawType": "float64",
         "type": "float"
        },
        {
         "name": "pagerank",
         "rawType": "float64",
         "type": "float"
        },
        {
         "name": "katz_centrality",
         "rawType": "float64",
         "type": "float"
        },
        {
         "name": "current_flow_closeness",
         "rawType": "float64",
         "type": "float"
        },
        {
         "name": "current_flow_betweenness",
         "rawType": "float64",
         "type": "float"
        },
        {
         "name": "load_centrality",
         "rawType": "float64",
         "type": "float"
        },
        {
         "name": "percolation_centrality",
         "rawType": "float64",
         "type": "float"
        },
        {
         "name": "second_order_centrality",
         "rawType": "float64",
         "type": "float"
        },
        {
         "name": "laplacian_centrality",
         "rawType": "float64",
         "type": "float"
        }
       ],
       "ref": "1092acc6-fce5-43ea-9f12-c499d01ed1f2",
       "rows": [
        [
         "0",
         "0",
         "6",
         "False",
         "Japanese",
         "14",
         "23",
         "22",
         "1",
         "1.9130434782608696",
         "6",
         "2",
         "False",
         "False",
         "5",
         "5",
         "1",
         "12",
         "False",
         "12",
         "23",
         "23",
         "23.0",
         "5",
         "6",
         "5.5",
         "11",
         "13",
         "12.0",
         "2",
         "2",
         "12",
         "0.1594202898550724",
         "6.272727272727273",
         "0.0909090909090909",
         "5.823845598845598",
         "0.0909090909090909",
         "0.0485651410802199",
         "0.20908573334499",
         "0.0072463768115942",
         "0.0909090909090909",
         "0.0909090909090909",
         "0.0909090909090908",
         "98.76234100100982",
         "0.101449275362318"
        ],
        [
         "1",
         "0",
         "4",
         "False",
         "Japanese",
         "14",
         "23",
         "22",
         "1",
         "1.9130434782608696",
         "6",
         "1",
         "True",
         "False",
         "6",
         "6",
         "0",
         "13",
         "False",
         "13",
         "23",
         "23",
         "23.0",
         "6",
         "6",
         "6.0",
         "12",
         "12",
         "12.0",
         "0",
         "1",
         "13",
         "0.1383647798742138",
         "7.227272727272727",
         "0.0454545454545454",
         "4.5611222111222105",
         "0.0",
         "0.0271615545987082",
         "0.1882984947956476",
         "0.0062893081761006",
         "0.0",
         "0.0",
         "0.0",
         "112.48110952510936",
         "0.043478260869565"
        ],
        [
         "2",
         "0",
         "2",
         "False",
         "Japanese",
         "14",
         "23",
         "22",
         "1",
         "1.9130434782608696",
         "6",
         "3",
         "False",
         "False",
         "4",
         "4",
         "1",
         "11",
         "False",
         "11",
         "23",
         "23",
         "23.0",
         "5",
         "6",
         "5.666666666666667",
         "10",
         "12",
         "11.333333333333334",
         "2",
         "3",
         "11",
         "0.1848739495798319",
         "5.409090909090909",
         "0.1363636363636363",
         "6.991702741702742",
         "0.2554112554112554",
         "0.0669012006149178",
         "0.2286597909305283",
         "0.0084033613445378",
         "0.2554112554112554",
         "0.2554112554112554",
         "0.2554112554112555",
         "84.45116932286875",
         "0.1594202898550723"
        ],
        [
         "3",
         "0",
         "23",
         "False",
         "Japanese",
         "14",
         "23",
         "22",
         "1",
         "1.9130434782608696",
         "6",
         "1",
         "True",
         "False",
         "5",
         "5",
         "0",
         "12",
         "False",
         "12",
         "23",
         "23",
         "23.0",
         "6",
         "6",
         "6.0",
         "11",
         "11",
         "11.0",
         "0",
         "1",
         "12",
         "0.1571428571428571",
         "6.363636363636364",
         "0.0454545454545454",
         "5.157178932178932",
         "0.0",
         "0.0254774511474812",
         "0.1902558897240728",
         "0.0071428571428571",
         "0.0",
         "0.0",
         "0.0",
         "100.14988766843294",
         "0.0579710144927538"
        ],
        [
         "4",
         "0",
         "20",
         "False",
         "Japanese",
         "14",
         "23",
         "22",
         "1",
         "1.9130434782608696",
         "6",
         "2",
         "False",
         "False",
         "3",
         "3",
         "2",
         "10",
         "False",
         "10",
         "23",
         "23",
         "23.0",
         "6",
         "6",
         "6.0",
         "9",
         "11",
         "10.0",
         "2",
         "2",
         "10",
         "0.2115384615384615",
         "4.727272727272728",
         "0.0909090909090909",
         "7.146825396825397",
         "0.3116883116883117",
         "0.0425519086854136",
         "0.2133573643897251",
         "0.0096153846153846",
         "0.3116883116883117",
         "0.3116883116883117",
         "0.3116883116883115",
         "71.14773362518238",
         "0.1304347826086955"
        ]
       ],
       "shape": {
        "columns": 44,
        "rows": 5
       }
      },
      "text/html": [
       "<div>\n",
       "<style scoped>\n",
       "    .dataframe tbody tr th:only-of-type {\n",
       "        vertical-align: middle;\n",
       "    }\n",
       "\n",
       "    .dataframe tbody tr th {\n",
       "        vertical-align: top;\n",
       "    }\n",
       "\n",
       "    .dataframe thead th {\n",
       "        text-align: right;\n",
       "    }\n",
       "</style>\n",
       "<table border=\"1\" class=\"dataframe\">\n",
       "  <thead>\n",
       "    <tr style=\"text-align: right;\">\n",
       "      <th></th>\n",
       "      <th>row_index</th>\n",
       "      <th>node</th>\n",
       "      <th>is_root</th>\n",
       "      <th>language</th>\n",
       "      <th>tree_diameter</th>\n",
       "      <th>tree_size</th>\n",
       "      <th>tree_edges</th>\n",
       "      <th>number_of_centroids</th>\n",
       "      <th>average_degree</th>\n",
       "      <th>number_of_leaves</th>\n",
       "      <th>...</th>\n",
       "      <th>harmonic_centrality</th>\n",
       "      <th>betweenness_centrality</th>\n",
       "      <th>pagerank</th>\n",
       "      <th>katz_centrality</th>\n",
       "      <th>current_flow_closeness</th>\n",
       "      <th>current_flow_betweenness</th>\n",
       "      <th>load_centrality</th>\n",
       "      <th>percolation_centrality</th>\n",
       "      <th>second_order_centrality</th>\n",
       "      <th>laplacian_centrality</th>\n",
       "    </tr>\n",
       "  </thead>\n",
       "  <tbody>\n",
       "    <tr>\n",
       "      <th>0</th>\n",
       "      <td>0</td>\n",
       "      <td>6</td>\n",
       "      <td>False</td>\n",
       "      <td>Japanese</td>\n",
       "      <td>14</td>\n",
       "      <td>23</td>\n",
       "      <td>22</td>\n",
       "      <td>1</td>\n",
       "      <td>1.913043</td>\n",
       "      <td>6</td>\n",
       "      <td>...</td>\n",
       "      <td>5.823846</td>\n",
       "      <td>0.090909</td>\n",
       "      <td>0.048565</td>\n",
       "      <td>0.209086</td>\n",
       "      <td>0.007246</td>\n",
       "      <td>0.090909</td>\n",
       "      <td>0.090909</td>\n",
       "      <td>0.090909</td>\n",
       "      <td>98.762341</td>\n",
       "      <td>0.101449</td>\n",
       "    </tr>\n",
       "    <tr>\n",
       "      <th>1</th>\n",
       "      <td>0</td>\n",
       "      <td>4</td>\n",
       "      <td>False</td>\n",
       "      <td>Japanese</td>\n",
       "      <td>14</td>\n",
       "      <td>23</td>\n",
       "      <td>22</td>\n",
       "      <td>1</td>\n",
       "      <td>1.913043</td>\n",
       "      <td>6</td>\n",
       "      <td>...</td>\n",
       "      <td>4.561122</td>\n",
       "      <td>0.000000</td>\n",
       "      <td>0.027162</td>\n",
       "      <td>0.188298</td>\n",
       "      <td>0.006289</td>\n",
       "      <td>0.000000</td>\n",
       "      <td>0.000000</td>\n",
       "      <td>0.000000</td>\n",
       "      <td>112.481110</td>\n",
       "      <td>0.043478</td>\n",
       "    </tr>\n",
       "    <tr>\n",
       "      <th>2</th>\n",
       "      <td>0</td>\n",
       "      <td>2</td>\n",
       "      <td>False</td>\n",
       "      <td>Japanese</td>\n",
       "      <td>14</td>\n",
       "      <td>23</td>\n",
       "      <td>22</td>\n",
       "      <td>1</td>\n",
       "      <td>1.913043</td>\n",
       "      <td>6</td>\n",
       "      <td>...</td>\n",
       "      <td>6.991703</td>\n",
       "      <td>0.255411</td>\n",
       "      <td>0.066901</td>\n",
       "      <td>0.228660</td>\n",
       "      <td>0.008403</td>\n",
       "      <td>0.255411</td>\n",
       "      <td>0.255411</td>\n",
       "      <td>0.255411</td>\n",
       "      <td>84.451169</td>\n",
       "      <td>0.159420</td>\n",
       "    </tr>\n",
       "    <tr>\n",
       "      <th>3</th>\n",
       "      <td>0</td>\n",
       "      <td>23</td>\n",
       "      <td>False</td>\n",
       "      <td>Japanese</td>\n",
       "      <td>14</td>\n",
       "      <td>23</td>\n",
       "      <td>22</td>\n",
       "      <td>1</td>\n",
       "      <td>1.913043</td>\n",
       "      <td>6</td>\n",
       "      <td>...</td>\n",
       "      <td>5.157179</td>\n",
       "      <td>0.000000</td>\n",
       "      <td>0.025477</td>\n",
       "      <td>0.190256</td>\n",
       "      <td>0.007143</td>\n",
       "      <td>0.000000</td>\n",
       "      <td>0.000000</td>\n",
       "      <td>0.000000</td>\n",
       "      <td>100.149888</td>\n",
       "      <td>0.057971</td>\n",
       "    </tr>\n",
       "    <tr>\n",
       "      <th>4</th>\n",
       "      <td>0</td>\n",
       "      <td>20</td>\n",
       "      <td>False</td>\n",
       "      <td>Japanese</td>\n",
       "      <td>14</td>\n",
       "      <td>23</td>\n",
       "      <td>22</td>\n",
       "      <td>1</td>\n",
       "      <td>1.913043</td>\n",
       "      <td>6</td>\n",
       "      <td>...</td>\n",
       "      <td>7.146825</td>\n",
       "      <td>0.311688</td>\n",
       "      <td>0.042552</td>\n",
       "      <td>0.213357</td>\n",
       "      <td>0.009615</td>\n",
       "      <td>0.311688</td>\n",
       "      <td>0.311688</td>\n",
       "      <td>0.311688</td>\n",
       "      <td>71.147734</td>\n",
       "      <td>0.130435</td>\n",
       "    </tr>\n",
       "  </tbody>\n",
       "</table>\n",
       "<p>5 rows × 44 columns</p>\n",
       "</div>"
      ],
      "text/plain": [
       "   row_index  node  is_root  language  tree_diameter  tree_size  tree_edges  \\\n",
       "0          0     6    False  Japanese             14         23          22   \n",
       "1          0     4    False  Japanese             14         23          22   \n",
       "2          0     2    False  Japanese             14         23          22   \n",
       "3          0    23    False  Japanese             14         23          22   \n",
       "4          0    20    False  Japanese             14         23          22   \n",
       "\n",
       "   number_of_centroids  average_degree  number_of_leaves  ...  \\\n",
       "0                    1        1.913043                 6  ...   \n",
       "1                    1        1.913043                 6  ...   \n",
       "2                    1        1.913043                 6  ...   \n",
       "3                    1        1.913043                 6  ...   \n",
       "4                    1        1.913043                 6  ...   \n",
       "\n",
       "   harmonic_centrality  betweenness_centrality  pagerank  katz_centrality  \\\n",
       "0             5.823846                0.090909  0.048565         0.209086   \n",
       "1             4.561122                0.000000  0.027162         0.188298   \n",
       "2             6.991703                0.255411  0.066901         0.228660   \n",
       "3             5.157179                0.000000  0.025477         0.190256   \n",
       "4             7.146825                0.311688  0.042552         0.213357   \n",
       "\n",
       "   current_flow_closeness  current_flow_betweenness  load_centrality  \\\n",
       "0                0.007246                  0.090909         0.090909   \n",
       "1                0.006289                  0.000000         0.000000   \n",
       "2                0.008403                  0.255411         0.255411   \n",
       "3                0.007143                  0.000000         0.000000   \n",
       "4                0.009615                  0.311688         0.311688   \n",
       "\n",
       "   percolation_centrality  second_order_centrality  laplacian_centrality  \n",
       "0                0.090909                98.762341              0.101449  \n",
       "1                0.000000               112.481110              0.043478  \n",
       "2                0.255411                84.451169              0.159420  \n",
       "3                0.000000               100.149888              0.057971  \n",
       "4                0.311688                71.147734              0.130435  \n",
       "\n",
       "[5 rows x 44 columns]"
      ]
     },
     "execution_count": 3,
     "metadata": {},
     "output_type": "execute_result"
    }
   ],
   "source": [
    "# Load the data\n",
    "train_data = pd.read_csv(\"../data/cache/training_unwound.csv\")\n",
    "validation_data = pd.read_csv(\"../data/cache/validation_unwound.csv\")\n",
    "train_data[\"language\"] = train_data[\"language\"].astype(\"category\")\n",
    "validation_data[\"language\"] = validation_data[\"language\"].astype(\"category\")\n",
    "train_data.head()"
   ]
  },
  {
   "cell_type": "markdown",
   "id": "9b6fbb03",
   "metadata": {},
   "source": [
    "In this script, we'll fit a MLP model to the dataset to predict whether the node is the root or not."
   ]
  },
  {
   "cell_type": "code",
   "execution_count": 4,
   "id": "7fe0a22b",
   "metadata": {},
   "outputs": [],
   "source": [
    "def one_hot_encode(df: pd.DataFrame) -> pd.DataFrame:\n",
    "    \"\"\"\n",
    "    One-hot encode the 'language' column in the DataFrame.\n",
    "    \"\"\"\n",
    "    return pd.get_dummies(df, columns=[\"language\"], prefix=\"\", prefix_sep=\"\", drop_first=False)"
   ]
  },
  {
   "cell_type": "markdown",
   "id": "8c91ea30",
   "metadata": {},
   "source": [
    "We want to find the best hyperparameters for the MLP model. To do this, we will use a grid search with 5-fold cross-validation.\n",
    "\n",
    "The search space, however, is quite large, so this will need to be done in the background. Thus, take a look a the `run_mlp.py` script to see the code, which was developed to be able to run it with `nohup` in the background."
   ]
  },
  {
   "cell_type": "markdown",
   "id": "07b8be58",
   "metadata": {},
   "source": [
    "Let's look at the results from the grid search."
   ]
  },
  {
   "cell_type": "code",
   "execution_count": 5,
   "id": "7c14ba00",
   "metadata": {},
   "outputs": [
    {
     "data": {
      "application/vnd.microsoft.datawrangler.viewer.v0+json": {
       "columns": [
        {
         "name": "index",
         "rawType": "int64",
         "type": "integer"
        },
        {
         "name": "configuration",
         "rawType": "object",
         "type": "unknown"
        },
        {
         "name": "average_loss",
         "rawType": "float64",
         "type": "float"
        },
        {
         "name": "average_accuracy",
         "rawType": "float64",
         "type": "float"
        }
       ],
       "ref": "6adfc862-cfe9-4ae0-a31c-bc3ac04002c8",
       "rows": [
        [
         "3798",
         "../data/models/mlp/gridsearch-1/configuration-2484",
         "0.5288076639175415",
         "0.8712061882019043"
        ],
        [
         "1391",
         "../data/models/mlp/gridsearch-1/configuration-2015",
         "0.5501746118068696",
         "0.8468282699584961"
        ],
        [
         "28",
         "../data/models/mlp/gridsearch-1/configuration-1991",
         "0.5538403868675232",
         "0.8454686164855957"
        ],
        [
         "712",
         "../data/models/mlp/gridsearch-1/configuration-2014",
         "0.5210321187973023",
         "0.8427817463874817"
        ],
        [
         "1427",
         "../data/models/mlp/gridsearch-1/configuration-2085",
         "0.5580026865005493",
         "0.8387281060218811"
        ],
        [
         "1429",
         "../data/models/mlp/gridsearch-1/configuration-2513",
         "0.571868896484375",
         "0.8363888025283813"
        ],
        [
         "2957",
         "../data/models/mlp/gridsearch-1/configuration-2546",
         "0.5569638729095459",
         "0.8360818266868592"
        ],
        [
         "3324",
         "../data/models/mlp/gridsearch-1/configuration-2566",
         "0.5747995495796203",
         "0.8360275864601135"
        ],
        [
         "490",
         "../data/models/mlp/gridsearch-1/configuration-2500",
         "0.5373841166496277",
         "0.8356794834136962"
        ],
        [
         "3083",
         "../data/models/mlp/gridsearch-1/configuration-2438",
         "0.5192865133285522",
         "0.8354963064193726"
        ],
        [
         "3322",
         "../data/models/mlp/gridsearch-1/configuration-2441",
         "0.5418502569198609",
         "0.8354271650314331"
        ],
        [
         "3588",
         "../data/models/mlp/gridsearch-1/configuration-2478",
         "0.5810936093330383",
         "0.8354218363761902"
        ],
        [
         "746",
         "../data/models/mlp/gridsearch-1/configuration-1954",
         "0.534661740064621",
         "0.8351208090782165"
        ],
        [
         "1377",
         "../data/models/mlp/gridsearch-1/configuration-2000",
         "0.5595932364463806",
         "0.8350481867790223"
        ],
        [
         "3793",
         "../data/models/mlp/gridsearch-1/configuration-2540",
         "0.5754610896110535",
         "0.835034167766571"
        ],
        [
         "3227",
         "../data/models/mlp/gridsearch-1/configuration-1955",
         "0.5670483827590942",
         "0.8338870644569397"
        ],
        [
         "2944",
         "../data/models/mlp/gridsearch-1/configuration-2581",
         "0.5440578579902648",
         "0.8336919188499451"
        ],
        [
         "3476",
         "../data/models/mlp/gridsearch-1/configuration-2003",
         "0.5690834045410156",
         "0.833299720287323"
        ],
        [
         "285",
         "../data/models/mlp/gridsearch-1/configuration-2555",
         "0.5324533641338348",
         "0.8331172227859497"
        ],
        [
         "2964",
         "../data/models/mlp/gridsearch-1/configuration-1981",
         "0.5758409380912781",
         "0.8330762624740601"
        ],
        [
         "1281",
         "../data/models/mlp/gridsearch-1/configuration-2439",
         "0.557146406173706",
         "0.8321872591972351"
        ],
        [
         "2421",
         "../data/models/mlp/gridsearch-1/configuration-1956",
         "0.5416314899921417",
         "0.8318909764289856"
        ],
        [
         "2012",
         "../data/models/mlp/gridsearch-1/configuration-2017",
         "0.562933725118637",
         "0.8318733215332031"
        ],
        [
         "518",
         "../data/models/mlp/gridsearch-1/configuration-1965",
         "0.5802495598793029",
         "0.831852912902832"
        ],
        [
         "2885",
         "../data/models/mlp/gridsearch-1/configuration-2459",
         "0.5462904453277588",
         "0.8314072370529175"
        ],
        [
         "1750",
         "../data/models/mlp/gridsearch-1/configuration-2005",
         "0.5708897650241852",
         "0.831247615814209"
        ],
        [
         "2536",
         "../data/models/mlp/gridsearch-1/configuration-2030",
         "0.5753520846366882",
         "0.8306443095207214"
        ],
        [
         "3281",
         "../data/models/mlp/gridsearch-1/configuration-2524",
         "0.5584994792938233",
         "0.8295171737670899"
        ],
        [
         "2316",
         "../data/models/mlp/gridsearch-1/configuration-2032",
         "0.5836469292640686",
         "0.8294649243354797"
        ],
        [
         "2801",
         "../data/models/mlp/gridsearch-1/configuration-2044",
         "0.5749517798423767",
         "0.8292466163635254"
        ],
        [
         "2223",
         "../data/models/mlp/gridsearch-1/configuration-2573",
         "0.5639036178588868",
         "0.8292288661003113"
        ],
        [
         "3021",
         "../data/models/mlp/gridsearch-1/configuration-994",
         "0.4636052966117859",
         "0.8290749669075013"
        ],
        [
         "2879",
         "../data/models/mlp/gridsearch-1/configuration-1964",
         "0.5501798689365387",
         "0.8289039969444275"
        ],
        [
         "605",
         "../data/models/mlp/gridsearch-1/configuration-2006",
         "0.5606951475143432",
         "0.8283868551254272"
        ],
        [
         "1344",
         "../data/models/mlp/gridsearch-1/configuration-2457",
         "0.5499045252799988",
         "0.828126585483551"
        ],
        [
         "3483",
         "../data/models/mlp/gridsearch-1/configuration-2068",
         "0.5461906433105469",
         "0.8277787923812866"
        ],
        [
         "1535",
         "../data/models/mlp/gridsearch-1/configuration-2585",
         "0.5543244123458863",
         "0.8277597546577453"
        ],
        [
         "2352",
         "../data/models/mlp/gridsearch-1/configuration-2471",
         "0.551065981388092",
         "0.8277105331420899"
        ],
        [
         "3855",
         "../data/models/mlp/gridsearch-1/configuration-1986",
         "0.5540294289588928",
         "0.8268669486045838"
        ],
        [
         "3298",
         "../data/models/mlp/gridsearch-1/configuration-2058",
         "0.5577877521514892",
         "0.8266859412193298"
        ],
        [
         "1071",
         "../data/models/mlp/gridsearch-1/configuration-2442",
         "0.551391190290451",
         "0.8266184687614441"
        ],
        [
         "2896",
         "../data/models/mlp/gridsearch-1/configuration-2455",
         "0.5615389525890351",
         "0.8263487577438354"
        ],
        [
         "897",
         "../data/models/mlp/gridsearch-1/configuration-1978",
         "0.5480560779571533",
         "0.8263255834579468"
        ],
        [
         "2913",
         "../data/models/mlp/gridsearch-1/configuration-2094",
         "0.5551041722297668",
         "0.8260321974754333"
        ],
        [
         "1909",
         "../data/models/mlp/gridsearch-1/configuration-2462",
         "0.5688708782196045",
         "0.8258541584014892"
        ],
        [
         "938",
         "../data/models/mlp/gridsearch-1/configuration-2519",
         "0.574341881275177",
         "0.8258325576782226"
        ],
        [
         "2753",
         "../data/models/mlp/gridsearch-1/configuration-2489",
         "0.5783002018928528",
         "0.8254667282104492"
        ],
        [
         "2319",
         "../data/models/mlp/gridsearch-1/configuration-1960",
         "0.5464076280593873",
         "0.8249633193016053"
        ],
        [
         "3230",
         "../data/models/mlp/gridsearch-1/configuration-2485",
         "0.588826847076416",
         "0.8248555421829223"
        ],
        [
         "3667",
         "../data/models/mlp/gridsearch-1/configuration-2502",
         "0.5852634906768799",
         "0.8247064590454102"
        ]
       ],
       "shape": {
        "columns": 3,
        "rows": 3864
       }
      },
      "text/html": [
       "<div>\n",
       "<style scoped>\n",
       "    .dataframe tbody tr th:only-of-type {\n",
       "        vertical-align: middle;\n",
       "    }\n",
       "\n",
       "    .dataframe tbody tr th {\n",
       "        vertical-align: top;\n",
       "    }\n",
       "\n",
       "    .dataframe thead th {\n",
       "        text-align: right;\n",
       "    }\n",
       "</style>\n",
       "<table border=\"1\" class=\"dataframe\">\n",
       "  <thead>\n",
       "    <tr style=\"text-align: right;\">\n",
       "      <th></th>\n",
       "      <th>configuration</th>\n",
       "      <th>average_loss</th>\n",
       "      <th>average_accuracy</th>\n",
       "    </tr>\n",
       "  </thead>\n",
       "  <tbody>\n",
       "    <tr>\n",
       "      <th>3798</th>\n",
       "      <td>../data/models/mlp/gridsearch-1/configuration-...</td>\n",
       "      <td>0.528808</td>\n",
       "      <td>0.871206</td>\n",
       "    </tr>\n",
       "    <tr>\n",
       "      <th>1391</th>\n",
       "      <td>../data/models/mlp/gridsearch-1/configuration-...</td>\n",
       "      <td>0.550175</td>\n",
       "      <td>0.846828</td>\n",
       "    </tr>\n",
       "    <tr>\n",
       "      <th>28</th>\n",
       "      <td>../data/models/mlp/gridsearch-1/configuration-...</td>\n",
       "      <td>0.553840</td>\n",
       "      <td>0.845469</td>\n",
       "    </tr>\n",
       "    <tr>\n",
       "      <th>712</th>\n",
       "      <td>../data/models/mlp/gridsearch-1/configuration-...</td>\n",
       "      <td>0.521032</td>\n",
       "      <td>0.842782</td>\n",
       "    </tr>\n",
       "    <tr>\n",
       "      <th>1427</th>\n",
       "      <td>../data/models/mlp/gridsearch-1/configuration-...</td>\n",
       "      <td>0.558003</td>\n",
       "      <td>0.838728</td>\n",
       "    </tr>\n",
       "    <tr>\n",
       "      <th>...</th>\n",
       "      <td>...</td>\n",
       "      <td>...</td>\n",
       "      <td>...</td>\n",
       "    </tr>\n",
       "    <tr>\n",
       "      <th>1531</th>\n",
       "      <td>../data/models/mlp/gridsearch-1/configuration-...</td>\n",
       "      <td>0.666606</td>\n",
       "      <td>0.659566</td>\n",
       "    </tr>\n",
       "    <tr>\n",
       "      <th>1300</th>\n",
       "      <td>../data/models/mlp/gridsearch-1/configuration-...</td>\n",
       "      <td>0.683775</td>\n",
       "      <td>0.657823</td>\n",
       "    </tr>\n",
       "    <tr>\n",
       "      <th>2561</th>\n",
       "      <td>../data/models/mlp/gridsearch-1/configuration-...</td>\n",
       "      <td>0.682818</td>\n",
       "      <td>0.656814</td>\n",
       "    </tr>\n",
       "    <tr>\n",
       "      <th>3445</th>\n",
       "      <td>../data/models/mlp/gridsearch-1/configuration-...</td>\n",
       "      <td>0.718864</td>\n",
       "      <td>0.651862</td>\n",
       "    </tr>\n",
       "    <tr>\n",
       "      <th>555</th>\n",
       "      <td>../data/models/mlp/gridsearch-1/configuration-...</td>\n",
       "      <td>0.688737</td>\n",
       "      <td>0.651438</td>\n",
       "    </tr>\n",
       "  </tbody>\n",
       "</table>\n",
       "<p>3864 rows × 3 columns</p>\n",
       "</div>"
      ],
      "text/plain": [
       "                                          configuration  average_loss  \\\n",
       "3798  ../data/models/mlp/gridsearch-1/configuration-...      0.528808   \n",
       "1391  ../data/models/mlp/gridsearch-1/configuration-...      0.550175   \n",
       "28    ../data/models/mlp/gridsearch-1/configuration-...      0.553840   \n",
       "712   ../data/models/mlp/gridsearch-1/configuration-...      0.521032   \n",
       "1427  ../data/models/mlp/gridsearch-1/configuration-...      0.558003   \n",
       "...                                                 ...           ...   \n",
       "1531  ../data/models/mlp/gridsearch-1/configuration-...      0.666606   \n",
       "1300  ../data/models/mlp/gridsearch-1/configuration-...      0.683775   \n",
       "2561  ../data/models/mlp/gridsearch-1/configuration-...      0.682818   \n",
       "3445  ../data/models/mlp/gridsearch-1/configuration-...      0.718864   \n",
       "555   ../data/models/mlp/gridsearch-1/configuration-...      0.688737   \n",
       "\n",
       "      average_accuracy  \n",
       "3798          0.871206  \n",
       "1391          0.846828  \n",
       "28            0.845469  \n",
       "712           0.842782  \n",
       "1427          0.838728  \n",
       "...                ...  \n",
       "1531          0.659566  \n",
       "1300          0.657823  \n",
       "2561          0.656814  \n",
       "3445          0.651862  \n",
       "555           0.651438  \n",
       "\n",
       "[3864 rows x 3 columns]"
      ]
     },
     "execution_count": 5,
     "metadata": {},
     "output_type": "execute_result"
    }
   ],
   "source": [
    "grid_search_data = Path(\"../data/models/mlp/gridsearch-1/\")\n",
    "configurations = [f for f in grid_search_data.iterdir() if f.is_dir()]\n",
    "\n",
    "config_results = []\n",
    "\n",
    "for config in configurations:\n",
    "    with open(config / \"metrics.json\", \"r\") as f:\n",
    "        metrics = json.load(f)\n",
    "    config_results.append(\n",
    "        {\n",
    "            \"configuration\": config,\n",
    "            \"average_loss\": metrics[\"average_loss\"],\n",
    "            \"average_accuracy\": metrics[\"average_accuracy\"],\n",
    "        }\n",
    "    )\n",
    "\n",
    "df = pd.DataFrame(config_results)\n",
    "df.sort_values(by=\"average_accuracy\", ascending=False, inplace=True)\n",
    "df"
   ]
  },
  {
   "cell_type": "code",
   "execution_count": 6,
   "id": "e595c59a",
   "metadata": {},
   "outputs": [
    {
     "name": "stdout",
     "output_type": "stream",
     "text": [
      "Best configuration: ../data/models/mlp/gridsearch-1/configuration-2484\n",
      "Best configuration data: {\n",
      "  \"hidden_layer_sizes\": [\n",
      "    64,\n",
      "    64,\n",
      "    32\n",
      "  ],\n",
      "  \"first_layer_l1\": 0.1,\n",
      "  \"first_layer_l2\": 0.01,\n",
      "  \"hidden_layer_l1\": 0.0,\n",
      "  \"hidden_layer_l2\": 0.0,\n",
      "  \"first_layer_dropout\": 0.2,\n",
      "  \"hidden_dropout\": 0.2,\n",
      "  \"initial_learning_rate\": 0.001,\n",
      "  \"beta_1\": 0.9,\n",
      "  \"beta_2\": 0.999,\n",
      "  \"epsilon\": 1e-08\n",
      "}\n"
     ]
    }
   ],
   "source": [
    "# Let's load the best configuration\n",
    "best_config_folder = df.iloc[0][\"configuration\"]\n",
    "print(f\"Best configuration: {best_config_folder}\")\n",
    "\n",
    "with open(best_config_folder / \"configuration.json\", \"r\") as f:\n",
    "    best_configuration = json.load(f)\n",
    "print(f\"Best configuration data: {json.dumps(best_configuration, indent=2)}\")"
   ]
  },
  {
   "cell_type": "markdown",
   "id": "c17a6c56",
   "metadata": {},
   "source": [
    "Now we'll train a MLP model with the best hyperparameters found in the grid search."
   ]
  },
  {
   "cell_type": "code",
   "execution_count": null,
   "id": "7cd462bd",
   "metadata": {},
   "outputs": [
    {
     "name": "stderr",
     "output_type": "stream",
     "text": [
      "I0000 00:00:1748539474.492587 3277251 gpu_device.cc:2019] Created device /job:localhost/replica:0/task:0/device:GPU:0 with 9779 MB memory:  -> device: 0, name: NVIDIA GeForce RTX 3060, pci bus id: 0000:01:00.0, compute capability: 8.6\n"
     ]
    },
    {
     "data": {
      "text/html": [
       "<pre style=\"white-space:pre;overflow-x:auto;line-height:normal;font-family:Menlo,'DejaVu Sans Mono',consolas,'Courier New',monospace\"><span style=\"font-weight: bold\">Model: \"functional\"</span>\n",
       "</pre>\n"
      ],
      "text/plain": [
       "\u001b[1mModel: \"functional\"\u001b[0m\n"
      ]
     },
     "metadata": {},
     "output_type": "display_data"
    },
    {
     "data": {
      "text/html": [
       "<pre style=\"white-space:pre;overflow-x:auto;line-height:normal;font-family:Menlo,'DejaVu Sans Mono',consolas,'Courier New',monospace\">┏━━━━━━━━━━━━━━━━━━━━━━━━━━━━━━━━━┳━━━━━━━━━━━━━━━━━━━━━━━━┳━━━━━━━━━━━━━━━┓\n",
       "┃<span style=\"font-weight: bold\"> Layer (type)                    </span>┃<span style=\"font-weight: bold\"> Output Shape           </span>┃<span style=\"font-weight: bold\">       Param # </span>┃\n",
       "┡━━━━━━━━━━━━━━━━━━━━━━━━━━━━━━━━━╇━━━━━━━━━━━━━━━━━━━━━━━━╇━━━━━━━━━━━━━━━┩\n",
       "│ input_layer (<span style=\"color: #0087ff; text-decoration-color: #0087ff\">InputLayer</span>)        │ (<span style=\"color: #00d7ff; text-decoration-color: #00d7ff\">None</span>, <span style=\"color: #00af00; text-decoration-color: #00af00\">61</span>)             │             <span style=\"color: #00af00; text-decoration-color: #00af00\">0</span> │\n",
       "├─────────────────────────────────┼────────────────────────┼───────────────┤\n",
       "│ dense (<span style=\"color: #0087ff; text-decoration-color: #0087ff\">Dense</span>)                   │ (<span style=\"color: #00d7ff; text-decoration-color: #00d7ff\">None</span>, <span style=\"color: #00af00; text-decoration-color: #00af00\">64</span>)             │         <span style=\"color: #00af00; text-decoration-color: #00af00\">3,968</span> │\n",
       "├─────────────────────────────────┼────────────────────────┼───────────────┤\n",
       "│ dropout (<span style=\"color: #0087ff; text-decoration-color: #0087ff\">Dropout</span>)               │ (<span style=\"color: #00d7ff; text-decoration-color: #00d7ff\">None</span>, <span style=\"color: #00af00; text-decoration-color: #00af00\">64</span>)             │             <span style=\"color: #00af00; text-decoration-color: #00af00\">0</span> │\n",
       "├─────────────────────────────────┼────────────────────────┼───────────────┤\n",
       "│ dense_1 (<span style=\"color: #0087ff; text-decoration-color: #0087ff\">Dense</span>)                 │ (<span style=\"color: #00d7ff; text-decoration-color: #00d7ff\">None</span>, <span style=\"color: #00af00; text-decoration-color: #00af00\">64</span>)             │         <span style=\"color: #00af00; text-decoration-color: #00af00\">4,160</span> │\n",
       "├─────────────────────────────────┼────────────────────────┼───────────────┤\n",
       "│ dropout_1 (<span style=\"color: #0087ff; text-decoration-color: #0087ff\">Dropout</span>)             │ (<span style=\"color: #00d7ff; text-decoration-color: #00d7ff\">None</span>, <span style=\"color: #00af00; text-decoration-color: #00af00\">64</span>)             │             <span style=\"color: #00af00; text-decoration-color: #00af00\">0</span> │\n",
       "├─────────────────────────────────┼────────────────────────┼───────────────┤\n",
       "│ dense_2 (<span style=\"color: #0087ff; text-decoration-color: #0087ff\">Dense</span>)                 │ (<span style=\"color: #00d7ff; text-decoration-color: #00d7ff\">None</span>, <span style=\"color: #00af00; text-decoration-color: #00af00\">32</span>)             │         <span style=\"color: #00af00; text-decoration-color: #00af00\">2,080</span> │\n",
       "├─────────────────────────────────┼────────────────────────┼───────────────┤\n",
       "│ dropout_2 (<span style=\"color: #0087ff; text-decoration-color: #0087ff\">Dropout</span>)             │ (<span style=\"color: #00d7ff; text-decoration-color: #00d7ff\">None</span>, <span style=\"color: #00af00; text-decoration-color: #00af00\">32</span>)             │             <span style=\"color: #00af00; text-decoration-color: #00af00\">0</span> │\n",
       "├─────────────────────────────────┼────────────────────────┼───────────────┤\n",
       "│ dense_3 (<span style=\"color: #0087ff; text-decoration-color: #0087ff\">Dense</span>)                 │ (<span style=\"color: #00d7ff; text-decoration-color: #00d7ff\">None</span>, <span style=\"color: #00af00; text-decoration-color: #00af00\">1</span>)              │            <span style=\"color: #00af00; text-decoration-color: #00af00\">33</span> │\n",
       "└─────────────────────────────────┴────────────────────────┴───────────────┘\n",
       "</pre>\n"
      ],
      "text/plain": [
       "┏━━━━━━━━━━━━━━━━━━━━━━━━━━━━━━━━━┳━━━━━━━━━━━━━━━━━━━━━━━━┳━━━━━━━━━━━━━━━┓\n",
       "┃\u001b[1m \u001b[0m\u001b[1mLayer (type)                   \u001b[0m\u001b[1m \u001b[0m┃\u001b[1m \u001b[0m\u001b[1mOutput Shape          \u001b[0m\u001b[1m \u001b[0m┃\u001b[1m \u001b[0m\u001b[1m      Param #\u001b[0m\u001b[1m \u001b[0m┃\n",
       "┡━━━━━━━━━━━━━━━━━━━━━━━━━━━━━━━━━╇━━━━━━━━━━━━━━━━━━━━━━━━╇━━━━━━━━━━━━━━━┩\n",
       "│ input_layer (\u001b[38;5;33mInputLayer\u001b[0m)        │ (\u001b[38;5;45mNone\u001b[0m, \u001b[38;5;34m61\u001b[0m)             │             \u001b[38;5;34m0\u001b[0m │\n",
       "├─────────────────────────────────┼────────────────────────┼───────────────┤\n",
       "│ dense (\u001b[38;5;33mDense\u001b[0m)                   │ (\u001b[38;5;45mNone\u001b[0m, \u001b[38;5;34m64\u001b[0m)             │         \u001b[38;5;34m3,968\u001b[0m │\n",
       "├─────────────────────────────────┼────────────────────────┼───────────────┤\n",
       "│ dropout (\u001b[38;5;33mDropout\u001b[0m)               │ (\u001b[38;5;45mNone\u001b[0m, \u001b[38;5;34m64\u001b[0m)             │             \u001b[38;5;34m0\u001b[0m │\n",
       "├─────────────────────────────────┼────────────────────────┼───────────────┤\n",
       "│ dense_1 (\u001b[38;5;33mDense\u001b[0m)                 │ (\u001b[38;5;45mNone\u001b[0m, \u001b[38;5;34m64\u001b[0m)             │         \u001b[38;5;34m4,160\u001b[0m │\n",
       "├─────────────────────────────────┼────────────────────────┼───────────────┤\n",
       "│ dropout_1 (\u001b[38;5;33mDropout\u001b[0m)             │ (\u001b[38;5;45mNone\u001b[0m, \u001b[38;5;34m64\u001b[0m)             │             \u001b[38;5;34m0\u001b[0m │\n",
       "├─────────────────────────────────┼────────────────────────┼───────────────┤\n",
       "│ dense_2 (\u001b[38;5;33mDense\u001b[0m)                 │ (\u001b[38;5;45mNone\u001b[0m, \u001b[38;5;34m32\u001b[0m)             │         \u001b[38;5;34m2,080\u001b[0m │\n",
       "├─────────────────────────────────┼────────────────────────┼───────────────┤\n",
       "│ dropout_2 (\u001b[38;5;33mDropout\u001b[0m)             │ (\u001b[38;5;45mNone\u001b[0m, \u001b[38;5;34m32\u001b[0m)             │             \u001b[38;5;34m0\u001b[0m │\n",
       "├─────────────────────────────────┼────────────────────────┼───────────────┤\n",
       "│ dense_3 (\u001b[38;5;33mDense\u001b[0m)                 │ (\u001b[38;5;45mNone\u001b[0m, \u001b[38;5;34m1\u001b[0m)              │            \u001b[38;5;34m33\u001b[0m │\n",
       "└─────────────────────────────────┴────────────────────────┴───────────────┘\n"
      ]
     },
     "metadata": {},
     "output_type": "display_data"
    },
    {
     "data": {
      "text/html": [
       "<pre style=\"white-space:pre;overflow-x:auto;line-height:normal;font-family:Menlo,'DejaVu Sans Mono',consolas,'Courier New',monospace\"><span style=\"font-weight: bold\"> Total params: </span><span style=\"color: #00af00; text-decoration-color: #00af00\">10,241</span> (40.00 KB)\n",
       "</pre>\n"
      ],
      "text/plain": [
       "\u001b[1m Total params: \u001b[0m\u001b[38;5;34m10,241\u001b[0m (40.00 KB)\n"
      ]
     },
     "metadata": {},
     "output_type": "display_data"
    },
    {
     "data": {
      "text/html": [
       "<pre style=\"white-space:pre;overflow-x:auto;line-height:normal;font-family:Menlo,'DejaVu Sans Mono',consolas,'Courier New',monospace\"><span style=\"font-weight: bold\"> Trainable params: </span><span style=\"color: #00af00; text-decoration-color: #00af00\">10,241</span> (40.00 KB)\n",
       "</pre>\n"
      ],
      "text/plain": [
       "\u001b[1m Trainable params: \u001b[0m\u001b[38;5;34m10,241\u001b[0m (40.00 KB)\n"
      ]
     },
     "metadata": {},
     "output_type": "display_data"
    },
    {
     "data": {
      "text/html": [
       "<pre style=\"white-space:pre;overflow-x:auto;line-height:normal;font-family:Menlo,'DejaVu Sans Mono',consolas,'Courier New',monospace\"><span style=\"font-weight: bold\"> Non-trainable params: </span><span style=\"color: #00af00; text-decoration-color: #00af00\">0</span> (0.00 B)\n",
       "</pre>\n"
      ],
      "text/plain": [
       "\u001b[1m Non-trainable params: \u001b[0m\u001b[38;5;34m0\u001b[0m (0.00 B)\n"
      ]
     },
     "metadata": {},
     "output_type": "display_data"
    },
    {
     "name": "stdout",
     "output_type": "stream",
     "text": [
      "Epoch 1/100\n"
     ]
    },
    {
     "name": "stderr",
     "output_type": "stream",
     "text": [
      "WARNING: All log messages before absl::InitializeLog() is called are written to STDERR\n",
      "I0000 00:00:1748539476.897836 3277469 service.cc:152] XLA service 0x7f517400a530 initialized for platform CUDA (this does not guarantee that XLA will be used). Devices:\n",
      "I0000 00:00:1748539476.897849 3277469 service.cc:160]   StreamExecutor device (0): NVIDIA GeForce RTX 3060, Compute Capability 8.6\n",
      "2025-05-29 19:24:36.928219: I tensorflow/compiler/mlir/tensorflow/utils/dump_mlir_util.cc:269] disabling MLIR crash reproducer, set env var `MLIR_CRASH_REPRODUCER_DIRECTORY` to enable.\n",
      "I0000 00:00:1748539477.151998 3277469 cuda_dnn.cc:529] Loaded cuDNN version 90300\n",
      "I0000 00:00:1748539478.386031 3277469 device_compiler.h:188] Compiled cluster using XLA!  This line is logged at most once for the lifetime of the process.\n"
     ]
    },
    {
     "name": "stdout",
     "output_type": "stream",
     "text": [
      "616/616 - 10s - 16ms/step - accuracy: 0.6780 - loss: 8.3764 - val_accuracy: 0.8100 - val_loss: 0.9239\n",
      "Epoch 2/100\n",
      "616/616 - 2s - 3ms/step - accuracy: 0.7228 - loss: 1.3852 - val_accuracy: 0.7441 - val_loss: 0.7354\n",
      "Epoch 3/100\n",
      "616/616 - 2s - 3ms/step - accuracy: 0.7306 - loss: 1.2930 - val_accuracy: 0.6930 - val_loss: 0.7780\n",
      "Epoch 4/100\n",
      "616/616 - 2s - 3ms/step - accuracy: 0.7314 - loss: 1.2729 - val_accuracy: 0.7003 - val_loss: 0.7840\n",
      "Epoch 5/100\n",
      "616/616 - 2s - 3ms/step - accuracy: 0.7342 - loss: 1.2584 - val_accuracy: 0.7855 - val_loss: 0.6427\n",
      "Epoch 6/100\n",
      "616/616 - 2s - 3ms/step - accuracy: 0.7351 - loss: 1.2503 - val_accuracy: 0.7399 - val_loss: 0.6970\n",
      "Epoch 7/100\n",
      "616/616 - 2s - 3ms/step - accuracy: 0.7371 - loss: 1.2443 - val_accuracy: 0.7920 - val_loss: 0.6587\n",
      "Epoch 8/100\n",
      "616/616 - 2s - 3ms/step - accuracy: 0.7328 - loss: 1.2437 - val_accuracy: 0.6942 - val_loss: 0.7362\n",
      "Epoch 9/100\n",
      "616/616 - 2s - 4ms/step - accuracy: 0.7252 - loss: 1.2379 - val_accuracy: 0.7921 - val_loss: 0.6379\n",
      "Epoch 10/100\n",
      "616/616 - 2s - 3ms/step - accuracy: 0.7292 - loss: 1.2474 - val_accuracy: 0.7544 - val_loss: 0.6977\n",
      "Epoch 11/100\n",
      "616/616 - 2s - 3ms/step - accuracy: 0.7313 - loss: 1.2347 - val_accuracy: 0.7057 - val_loss: 0.7282\n",
      "Epoch 12/100\n",
      "616/616 - 3s - 5ms/step - accuracy: 0.7264 - loss: 1.2288 - val_accuracy: 0.5850 - val_loss: 0.8161\n",
      "Epoch 13/100\n",
      "616/616 - 2s - 3ms/step - accuracy: 0.7285 - loss: 1.2291 - val_accuracy: 0.7718 - val_loss: 0.6474\n",
      "Epoch 14/100\n",
      "616/616 - 2s - 3ms/step - accuracy: 0.7219 - loss: 1.2264 - val_accuracy: 0.7978 - val_loss: 0.6145\n",
      "Epoch 15/100\n",
      "616/616 - 2s - 3ms/step - accuracy: 0.7217 - loss: 1.2313 - val_accuracy: 0.7496 - val_loss: 0.6761\n",
      "Epoch 16/100\n",
      "616/616 - 2s - 3ms/step - accuracy: 0.7246 - loss: 1.2262 - val_accuracy: 0.8502 - val_loss: 0.5285\n",
      "Epoch 17/100\n",
      "616/616 - 2s - 3ms/step - accuracy: 0.7286 - loss: 1.2351 - val_accuracy: 0.7750 - val_loss: 0.6015\n",
      "Epoch 18/100\n",
      "616/616 - 2s - 3ms/step - accuracy: 0.7263 - loss: 1.2227 - val_accuracy: 0.7330 - val_loss: 0.7192\n",
      "Epoch 19/100\n",
      "616/616 - 2s - 3ms/step - accuracy: 0.7261 - loss: 1.2234 - val_accuracy: 0.7460 - val_loss: 0.6385\n",
      "Epoch 20/100\n",
      "616/616 - 2s - 3ms/step - accuracy: 0.7195 - loss: 1.2232 - val_accuracy: 0.7197 - val_loss: 0.6911\n",
      "Epoch 21/100\n",
      "616/616 - 2s - 3ms/step - accuracy: 0.7164 - loss: 1.2330 - val_accuracy: 0.7060 - val_loss: 0.6773\n",
      "Epoch 22/100\n",
      "616/616 - 2s - 3ms/step - accuracy: 0.7188 - loss: 1.2220 - val_accuracy: 0.6116 - val_loss: 0.7921\n",
      "Epoch 23/100\n",
      "616/616 - 2s - 3ms/step - accuracy: 0.7201 - loss: 1.2306 - val_accuracy: 0.6648 - val_loss: 0.6960\n",
      "Epoch 24/100\n",
      "616/616 - 2s - 3ms/step - accuracy: 0.7046 - loss: 1.2299 - val_accuracy: 0.8278 - val_loss: 0.5617\n",
      "Epoch 25/100\n",
      "616/616 - 2s - 3ms/step - accuracy: 0.7072 - loss: 1.2245 - val_accuracy: 0.7174 - val_loss: 0.6550\n",
      "Epoch 26/100\n",
      "616/616 - 2s - 3ms/step - accuracy: 0.7170 - loss: 1.2152 - val_accuracy: 0.6439 - val_loss: 0.7201\n",
      "Loss: 0.5285, Accuracy: 0.8502\n"
     ]
    }
   ],
   "source": [
    "def create_model(\n",
    "    input_shape,\n",
    "    hidden_layer_sizes: List[int],\n",
    "    first_layer_l1: float = 0.0,\n",
    "    first_layer_l2: float = 0.0,\n",
    "    hidden_layer_l1: float = 0.0,\n",
    "    hidden_layer_l2: float = 0.0,\n",
    "    first_layer_dropout: float = 0.0,\n",
    "    hidden_dropout: float = 0.0,\n",
    "    initial_learning_rate: float = 0.001,\n",
    "    beta_1: float = 0.9,\n",
    "    beta_2: float = 0.999,\n",
    "    epsilon: float = 1e-08,\n",
    ") -> Model:\n",
    "    \"\"\"\n",
    "    Create a simple feedforward neural network model.\n",
    "    \"\"\"\n",
    "    if len(hidden_layer_sizes) == 0:\n",
    "        raise ValueError(\"hidden_layer_sizes must contain at least one layer size.\")\n",
    "\n",
    "    inputs = Input(shape=(input_shape,))\n",
    "    x = Dense(\n",
    "        hidden_layer_sizes[0],\n",
    "        activation=\"relu\",\n",
    "        kernel_regularizer=l1_l2(first_layer_l1, first_layer_l2),\n",
    "    )(inputs)\n",
    "    if first_layer_dropout > 0:\n",
    "        x = Dropout(first_layer_dropout)(x)\n",
    "\n",
    "    for layer_size in hidden_layer_sizes[1:]:\n",
    "        x = Dense(layer_size, activation=\"relu\", kernel_regularizer=l1_l2(hidden_layer_l1, hidden_layer_l2))(x)\n",
    "        if hidden_dropout > 0:\n",
    "            x = Dropout(hidden_dropout)(x)\n",
    "    outputs = Dense(1, activation=\"sigmoid\")(x)\n",
    "\n",
    "    model = Model(inputs=inputs, outputs=outputs)\n",
    "    model.compile(\n",
    "        optimizer=Adam(learning_rate=initial_learning_rate, beta_1=beta_1, beta_2=beta_2, epsilon=epsilon),\n",
    "        loss=\"binary_crossentropy\",\n",
    "        metrics=[\"accuracy\"],\n",
    "    )\n",
    "\n",
    "    return model\n",
    "\n",
    "\n",
    "# One-hot encode the training and validation data\n",
    "X_train = one_hot_encode(train_data.drop(columns=[\"row_index\", \"node\", \"is_root\"]))\n",
    "y_train = train_data[\"is_root\"]\n",
    "X_val = one_hot_encode(validation_data.drop(columns=[\"row_index\", \"node\", \"is_root\"]))\n",
    "y_val = validation_data[\"is_root\"]\n",
    "\n",
    "model = create_model(X_train.shape[1], **best_configuration)\n",
    "model.summary()\n",
    "\n",
    "class_weights = y_train.value_counts(normalize=True).to_dict()\n",
    "class_weights = {k: 1.0 / v for k, v in class_weights.items()}\n",
    "class_weights\n",
    "\n",
    "models_path = Path(\"../data/models/mlp/final-train\")\n",
    "models_path.mkdir(parents=True, exist_ok=True)\n",
    "\n",
    "with open(models_path / \"configuration.json\", \"w\") as f:\n",
    "    json.dump(best_configuration, f, indent=4)\n",
    "\n",
    "callbacks = [\n",
    "    EarlyStopping(monitor=\"val_loss\", patience=10, restore_best_weights=True),\n",
    "    ModelCheckpoint(filepath=str(models_path / \"best_model.keras\"), monitor=\"val_loss\", save_best_only=True),\n",
    "    TensorBoard(log_dir=str(models_path / \"logs\"), histogram_freq=1, write_graph=True),\n",
    "]\n",
    "\n",
    "model.fit(\n",
    "    X_train,\n",
    "    y_train,\n",
    "    epochs=100,\n",
    "    batch_size=256,\n",
    "    class_weight=class_weights,\n",
    "    validation_data=(X_val, y_val),\n",
    "    callbacks=callbacks,\n",
    "    shuffle=True,\n",
    "    verbose=2,\n",
    ")\n",
    "model.save(models_path / \"final_model.keras\")\n",
    "loss, accuracy = model.evaluate(X_val, y_val, verbose=0)\n",
    "with open(models_path / \"metrics.json\", \"w\") as f:\n",
    "    json.dump({\"loss\": loss, \"accuracy\": accuracy}, f, indent=4)\n",
    "print(f\"Loss: {loss:.4f}, Accuracy: {accuracy:.4f}\")"
   ]
  },
  {
   "cell_type": "code",
   "execution_count": 8,
   "id": "fb710365",
   "metadata": {},
   "outputs": [],
   "source": [
    "from collections import defaultdict\n",
    "from sklearn.metrics import accuracy_score"
   ]
  },
  {
   "cell_type": "code",
   "execution_count": 9,
   "id": "c9005bcb",
   "metadata": {},
   "outputs": [
    {
     "name": "stdout",
     "output_type": "stream",
     "text": [
      "\u001b[1m1247/1247\u001b[0m \u001b[32m━━━━━━━━━━━━━━━━━━━━\u001b[0m\u001b[37m\u001b[0m \u001b[1m2s\u001b[0m 1ms/step\n",
      "Node-based accuracy: 0.85\n"
     ]
    }
   ],
   "source": [
    "predictions = model.predict(X_val)\n",
    "print(f\"Node-based accuracy: {accuracy_score(y_val, predictions.reshape(-1) > 0.5):.2f}\")"
   ]
  },
  {
   "cell_type": "code",
   "execution_count": 10,
   "id": "94064da4",
   "metadata": {},
   "outputs": [
    {
     "name": "stdout",
     "output_type": "stream",
     "text": [
      "Sentence-based accuracy: 0.26\n"
     ]
    }
   ],
   "source": [
    "sentence_predictions = defaultdict(dict)\n",
    "sentence_real_root = {}\n",
    "for (_, row), probs in zip(validation_data.iterrows(), predictions):\n",
    "    sentence_predictions[row[\"row_index\"]][int(row[\"node\"])] = probs[0]\n",
    "    if row[\"is_root\"]:\n",
    "        sentence_real_root[row[\"row_index\"]] = row[\"node\"]\n",
    "\n",
    "if not set(sentence_predictions.keys()) == set(sentence_real_root.keys()):\n",
    "    raise ValueError(\"Mismatch between sentence predictions and real roots.\")\n",
    "\n",
    "\n",
    "def get_predicted_root(row: pd.Series) -> str:\n",
    "    \"\"\"\n",
    "    Get the predicted root node for a sentence.\n",
    "    \"\"\"\n",
    "    sentence_id = row.name\n",
    "    probs = sentence_predictions[sentence_id]\n",
    "    return max(probs.keys(), key=probs.get)\n",
    "\n",
    "\n",
    "validation_prediction = pd.DataFrame.from_dict(sentence_real_root, orient=\"index\", columns=[\"root\"])\n",
    "validation_prediction[\"predicted_root\"] = validation_prediction.apply(get_predicted_root, axis=1)\n",
    "print(\n",
    "    f\"Sentence-based accuracy: {accuracy_score(validation_prediction['root'], validation_prediction['predicted_root']):.2f}\"\n",
    ")"
   ]
  }
 ],
 "metadata": {
  "kernelspec": {
   "display_name": ".venv",
   "language": "python",
   "name": "python3"
  },
  "language_info": {
   "codemirror_mode": {
    "name": "ipython",
    "version": 3
   },
   "file_extension": ".py",
   "mimetype": "text/x-python",
   "name": "python",
   "nbconvert_exporter": "python",
   "pygments_lexer": "ipython3",
   "version": "3.12.3"
  }
 },
 "nbformat": 4,
 "nbformat_minor": 5
}

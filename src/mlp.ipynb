{
 "cells": [
  {
   "cell_type": "code",
   "execution_count": 1,
   "id": "30999563",
   "metadata": {},
   "outputs": [],
   "source": [
    "import pandas as pd"
   ]
  },
  {
   "cell_type": "code",
   "execution_count": 2,
   "id": "7021a6d3",
   "metadata": {},
   "outputs": [
    {
     "data": {
      "application/vnd.microsoft.datawrangler.viewer.v0+json": {
       "columns": [
        {
         "name": "index",
         "rawType": "int64",
         "type": "integer"
        },
        {
         "name": "row_index",
         "rawType": "int64",
         "type": "integer"
        },
        {
         "name": "node",
         "rawType": "int64",
         "type": "integer"
        },
        {
         "name": "is_root",
         "rawType": "bool",
         "type": "boolean"
        },
        {
         "name": "language",
         "rawType": "category",
         "type": "unknown"
        },
        {
         "name": "tree_diameter",
         "rawType": "int64",
         "type": "integer"
        },
        {
         "name": "tree_size",
         "rawType": "int64",
         "type": "integer"
        },
        {
         "name": "tree_edges",
         "rawType": "int64",
         "type": "integer"
        },
        {
         "name": "number_of_centroids",
         "rawType": "int64",
         "type": "integer"
        },
        {
         "name": "average_degree",
         "rawType": "float64",
         "type": "float"
        },
        {
         "name": "number_of_leaves",
         "rawType": "int64",
         "type": "integer"
        },
        {
         "name": "degree",
         "rawType": "int64",
         "type": "integer"
        },
        {
         "name": "is_leaf",
         "rawType": "bool",
         "type": "boolean"
        },
        {
         "name": "is_centroid",
         "rawType": "bool",
         "type": "boolean"
        },
        {
         "name": "distance_to_closest_centroid",
         "rawType": "int64",
         "type": "integer"
        },
        {
         "name": "distance_to_farthest_centroid",
         "rawType": "int64",
         "type": "integer"
        },
        {
         "name": "distance_to_closest_leaf",
         "rawType": "int64",
         "type": "integer"
        },
        {
         "name": "distance_to_farthest_leaf",
         "rawType": "int64",
         "type": "integer"
        },
        {
         "name": "is_in_longest_path",
         "rawType": "bool",
         "type": "boolean"
        },
        {
         "name": "tree_depth_if_root",
         "rawType": "int64",
         "type": "integer"
        },
        {
         "name": "min_subtree_size_if_root",
         "rawType": "int64",
         "type": "integer"
        },
        {
         "name": "max_subtree_size_if_root",
         "rawType": "int64",
         "type": "integer"
        },
        {
         "name": "average_subtree_size_if_root",
         "rawType": "float64",
         "type": "float"
        },
        {
         "name": "min_subtree_leaf_count_if_root",
         "rawType": "int64",
         "type": "integer"
        },
        {
         "name": "max_subtree_leaf_count_if_root",
         "rawType": "int64",
         "type": "integer"
        },
        {
         "name": "average_subtree_leaf_count_if_root",
         "rawType": "float64",
         "type": "float"
        },
        {
         "name": "min_subtree_depth_if_root",
         "rawType": "int64",
         "type": "integer"
        },
        {
         "name": "max_subtree_depth_if_root",
         "rawType": "int64",
         "type": "integer"
        },
        {
         "name": "average_subtree_depth_if_root",
         "rawType": "float64",
         "type": "float"
        },
        {
         "name": "depth_difference_if_root",
         "rawType": "int64",
         "type": "integer"
        },
        {
         "name": "number_of_subtrees_if_root",
         "rawType": "int64",
         "type": "integer"
        },
        {
         "name": "eccentricity",
         "rawType": "int64",
         "type": "integer"
        },
        {
         "name": "closeness_centrality",
         "rawType": "float64",
         "type": "float"
        },
        {
         "name": "closeness_centrality_inverse",
         "rawType": "float64",
         "type": "float"
        },
        {
         "name": "degree_centrality",
         "rawType": "float64",
         "type": "float"
        },
        {
         "name": "harmonic_centrality",
         "rawType": "float64",
         "type": "float"
        },
        {
         "name": "betweenness_centrality",
         "rawType": "float64",
         "type": "float"
        },
        {
         "name": "pagerank",
         "rawType": "float64",
         "type": "float"
        },
        {
         "name": "katz_centrality",
         "rawType": "float64",
         "type": "float"
        },
        {
         "name": "current_flow_closeness",
         "rawType": "float64",
         "type": "float"
        },
        {
         "name": "current_flow_betweenness",
         "rawType": "float64",
         "type": "float"
        },
        {
         "name": "load_centrality",
         "rawType": "float64",
         "type": "float"
        },
        {
         "name": "percolation_centrality",
         "rawType": "float64",
         "type": "float"
        },
        {
         "name": "second_order_centrality",
         "rawType": "float64",
         "type": "float"
        },
        {
         "name": "laplacian_centrality",
         "rawType": "float64",
         "type": "float"
        }
       ],
       "ref": "9360dd9e-4f74-4c55-af4a-e402f4f26de8",
       "rows": [
        [
         "0",
         "0",
         "6",
         "False",
         "Japanese",
         "14",
         "23",
         "22",
         "1",
         "1.9130434782608696",
         "6",
         "2",
         "False",
         "False",
         "5",
         "5",
         "1",
         "12",
         "False",
         "12",
         "23",
         "23",
         "23.0",
         "5",
         "6",
         "5.5",
         "11",
         "13",
         "12.0",
         "2",
         "2",
         "12",
         "0.1594202898550724",
         "6.272727272727273",
         "0.0909090909090909",
         "5.823845598845598",
         "0.0909090909090909",
         "0.0485651410802199",
         "0.20908573334499",
         "0.0072463768115942",
         "0.0909090909090909",
         "0.0909090909090909",
         "0.0909090909090908",
         "98.76234100100982",
         "0.101449275362318"
        ],
        [
         "1",
         "0",
         "4",
         "False",
         "Japanese",
         "14",
         "23",
         "22",
         "1",
         "1.9130434782608696",
         "6",
         "1",
         "True",
         "False",
         "6",
         "6",
         "0",
         "13",
         "False",
         "13",
         "23",
         "23",
         "23.0",
         "6",
         "6",
         "6.0",
         "12",
         "12",
         "12.0",
         "0",
         "1",
         "13",
         "0.1383647798742138",
         "7.227272727272727",
         "0.0454545454545454",
         "4.5611222111222105",
         "0.0",
         "0.0271615545987082",
         "0.1882984947956476",
         "0.0062893081761006",
         "0.0",
         "0.0",
         "0.0",
         "112.48110952510936",
         "0.043478260869565"
        ],
        [
         "2",
         "0",
         "2",
         "False",
         "Japanese",
         "14",
         "23",
         "22",
         "1",
         "1.9130434782608696",
         "6",
         "3",
         "False",
         "False",
         "4",
         "4",
         "1",
         "11",
         "False",
         "11",
         "23",
         "23",
         "23.0",
         "5",
         "6",
         "5.666666666666667",
         "10",
         "12",
         "11.333333333333334",
         "2",
         "3",
         "11",
         "0.1848739495798319",
         "5.409090909090909",
         "0.1363636363636363",
         "6.991702741702742",
         "0.2554112554112554",
         "0.0669012006149178",
         "0.2286597909305283",
         "0.0084033613445378",
         "0.2554112554112554",
         "0.2554112554112554",
         "0.2554112554112555",
         "84.45116932286875",
         "0.1594202898550723"
        ],
        [
         "3",
         "0",
         "23",
         "False",
         "Japanese",
         "14",
         "23",
         "22",
         "1",
         "1.9130434782608696",
         "6",
         "1",
         "True",
         "False",
         "5",
         "5",
         "0",
         "12",
         "False",
         "12",
         "23",
         "23",
         "23.0",
         "6",
         "6",
         "6.0",
         "11",
         "11",
         "11.0",
         "0",
         "1",
         "12",
         "0.1571428571428571",
         "6.363636363636364",
         "0.0454545454545454",
         "5.157178932178932",
         "0.0",
         "0.0254774511474812",
         "0.1902558897240728",
         "0.0071428571428571",
         "0.0",
         "0.0",
         "0.0",
         "100.14988766843294",
         "0.0579710144927538"
        ],
        [
         "4",
         "0",
         "20",
         "False",
         "Japanese",
         "14",
         "23",
         "22",
         "1",
         "1.9130434782608696",
         "6",
         "2",
         "False",
         "False",
         "3",
         "3",
         "2",
         "10",
         "False",
         "10",
         "23",
         "23",
         "23.0",
         "6",
         "6",
         "6.0",
         "9",
         "11",
         "10.0",
         "2",
         "2",
         "10",
         "0.2115384615384615",
         "4.727272727272728",
         "0.0909090909090909",
         "7.146825396825397",
         "0.3116883116883117",
         "0.0425519086854136",
         "0.2133573643897251",
         "0.0096153846153846",
         "0.3116883116883117",
         "0.3116883116883117",
         "0.3116883116883115",
         "71.14773362518238",
         "0.1304347826086955"
        ]
       ],
       "shape": {
        "columns": 44,
        "rows": 5
       }
      },
      "text/html": [
       "<div>\n",
       "<style scoped>\n",
       "    .dataframe tbody tr th:only-of-type {\n",
       "        vertical-align: middle;\n",
       "    }\n",
       "\n",
       "    .dataframe tbody tr th {\n",
       "        vertical-align: top;\n",
       "    }\n",
       "\n",
       "    .dataframe thead th {\n",
       "        text-align: right;\n",
       "    }\n",
       "</style>\n",
       "<table border=\"1\" class=\"dataframe\">\n",
       "  <thead>\n",
       "    <tr style=\"text-align: right;\">\n",
       "      <th></th>\n",
       "      <th>row_index</th>\n",
       "      <th>node</th>\n",
       "      <th>is_root</th>\n",
       "      <th>language</th>\n",
       "      <th>tree_diameter</th>\n",
       "      <th>tree_size</th>\n",
       "      <th>tree_edges</th>\n",
       "      <th>number_of_centroids</th>\n",
       "      <th>average_degree</th>\n",
       "      <th>number_of_leaves</th>\n",
       "      <th>...</th>\n",
       "      <th>harmonic_centrality</th>\n",
       "      <th>betweenness_centrality</th>\n",
       "      <th>pagerank</th>\n",
       "      <th>katz_centrality</th>\n",
       "      <th>current_flow_closeness</th>\n",
       "      <th>current_flow_betweenness</th>\n",
       "      <th>load_centrality</th>\n",
       "      <th>percolation_centrality</th>\n",
       "      <th>second_order_centrality</th>\n",
       "      <th>laplacian_centrality</th>\n",
       "    </tr>\n",
       "  </thead>\n",
       "  <tbody>\n",
       "    <tr>\n",
       "      <th>0</th>\n",
       "      <td>0</td>\n",
       "      <td>6</td>\n",
       "      <td>False</td>\n",
       "      <td>Japanese</td>\n",
       "      <td>14</td>\n",
       "      <td>23</td>\n",
       "      <td>22</td>\n",
       "      <td>1</td>\n",
       "      <td>1.913043</td>\n",
       "      <td>6</td>\n",
       "      <td>...</td>\n",
       "      <td>5.823846</td>\n",
       "      <td>0.090909</td>\n",
       "      <td>0.048565</td>\n",
       "      <td>0.209086</td>\n",
       "      <td>0.007246</td>\n",
       "      <td>0.090909</td>\n",
       "      <td>0.090909</td>\n",
       "      <td>0.090909</td>\n",
       "      <td>98.762341</td>\n",
       "      <td>0.101449</td>\n",
       "    </tr>\n",
       "    <tr>\n",
       "      <th>1</th>\n",
       "      <td>0</td>\n",
       "      <td>4</td>\n",
       "      <td>False</td>\n",
       "      <td>Japanese</td>\n",
       "      <td>14</td>\n",
       "      <td>23</td>\n",
       "      <td>22</td>\n",
       "      <td>1</td>\n",
       "      <td>1.913043</td>\n",
       "      <td>6</td>\n",
       "      <td>...</td>\n",
       "      <td>4.561122</td>\n",
       "      <td>0.000000</td>\n",
       "      <td>0.027162</td>\n",
       "      <td>0.188298</td>\n",
       "      <td>0.006289</td>\n",
       "      <td>0.000000</td>\n",
       "      <td>0.000000</td>\n",
       "      <td>0.000000</td>\n",
       "      <td>112.481110</td>\n",
       "      <td>0.043478</td>\n",
       "    </tr>\n",
       "    <tr>\n",
       "      <th>2</th>\n",
       "      <td>0</td>\n",
       "      <td>2</td>\n",
       "      <td>False</td>\n",
       "      <td>Japanese</td>\n",
       "      <td>14</td>\n",
       "      <td>23</td>\n",
       "      <td>22</td>\n",
       "      <td>1</td>\n",
       "      <td>1.913043</td>\n",
       "      <td>6</td>\n",
       "      <td>...</td>\n",
       "      <td>6.991703</td>\n",
       "      <td>0.255411</td>\n",
       "      <td>0.066901</td>\n",
       "      <td>0.228660</td>\n",
       "      <td>0.008403</td>\n",
       "      <td>0.255411</td>\n",
       "      <td>0.255411</td>\n",
       "      <td>0.255411</td>\n",
       "      <td>84.451169</td>\n",
       "      <td>0.159420</td>\n",
       "    </tr>\n",
       "    <tr>\n",
       "      <th>3</th>\n",
       "      <td>0</td>\n",
       "      <td>23</td>\n",
       "      <td>False</td>\n",
       "      <td>Japanese</td>\n",
       "      <td>14</td>\n",
       "      <td>23</td>\n",
       "      <td>22</td>\n",
       "      <td>1</td>\n",
       "      <td>1.913043</td>\n",
       "      <td>6</td>\n",
       "      <td>...</td>\n",
       "      <td>5.157179</td>\n",
       "      <td>0.000000</td>\n",
       "      <td>0.025477</td>\n",
       "      <td>0.190256</td>\n",
       "      <td>0.007143</td>\n",
       "      <td>0.000000</td>\n",
       "      <td>0.000000</td>\n",
       "      <td>0.000000</td>\n",
       "      <td>100.149888</td>\n",
       "      <td>0.057971</td>\n",
       "    </tr>\n",
       "    <tr>\n",
       "      <th>4</th>\n",
       "      <td>0</td>\n",
       "      <td>20</td>\n",
       "      <td>False</td>\n",
       "      <td>Japanese</td>\n",
       "      <td>14</td>\n",
       "      <td>23</td>\n",
       "      <td>22</td>\n",
       "      <td>1</td>\n",
       "      <td>1.913043</td>\n",
       "      <td>6</td>\n",
       "      <td>...</td>\n",
       "      <td>7.146825</td>\n",
       "      <td>0.311688</td>\n",
       "      <td>0.042552</td>\n",
       "      <td>0.213357</td>\n",
       "      <td>0.009615</td>\n",
       "      <td>0.311688</td>\n",
       "      <td>0.311688</td>\n",
       "      <td>0.311688</td>\n",
       "      <td>71.147734</td>\n",
       "      <td>0.130435</td>\n",
       "    </tr>\n",
       "  </tbody>\n",
       "</table>\n",
       "<p>5 rows × 44 columns</p>\n",
       "</div>"
      ],
      "text/plain": [
       "   row_index  node  is_root  language  tree_diameter  tree_size  tree_edges  \\\n",
       "0          0     6    False  Japanese             14         23          22   \n",
       "1          0     4    False  Japanese             14         23          22   \n",
       "2          0     2    False  Japanese             14         23          22   \n",
       "3          0    23    False  Japanese             14         23          22   \n",
       "4          0    20    False  Japanese             14         23          22   \n",
       "\n",
       "   number_of_centroids  average_degree  number_of_leaves  ...  \\\n",
       "0                    1        1.913043                 6  ...   \n",
       "1                    1        1.913043                 6  ...   \n",
       "2                    1        1.913043                 6  ...   \n",
       "3                    1        1.913043                 6  ...   \n",
       "4                    1        1.913043                 6  ...   \n",
       "\n",
       "   harmonic_centrality  betweenness_centrality  pagerank  katz_centrality  \\\n",
       "0             5.823846                0.090909  0.048565         0.209086   \n",
       "1             4.561122                0.000000  0.027162         0.188298   \n",
       "2             6.991703                0.255411  0.066901         0.228660   \n",
       "3             5.157179                0.000000  0.025477         0.190256   \n",
       "4             7.146825                0.311688  0.042552         0.213357   \n",
       "\n",
       "   current_flow_closeness  current_flow_betweenness  load_centrality  \\\n",
       "0                0.007246                  0.090909         0.090909   \n",
       "1                0.006289                  0.000000         0.000000   \n",
       "2                0.008403                  0.255411         0.255411   \n",
       "3                0.007143                  0.000000         0.000000   \n",
       "4                0.009615                  0.311688         0.311688   \n",
       "\n",
       "   percolation_centrality  second_order_centrality  laplacian_centrality  \n",
       "0                0.090909                98.762341              0.101449  \n",
       "1                0.000000               112.481110              0.043478  \n",
       "2                0.255411                84.451169              0.159420  \n",
       "3                0.000000               100.149888              0.057971  \n",
       "4                0.311688                71.147734              0.130435  \n",
       "\n",
       "[5 rows x 44 columns]"
      ]
     },
     "execution_count": 2,
     "metadata": {},
     "output_type": "execute_result"
    }
   ],
   "source": [
    "# Load the data\n",
    "train_data = pd.read_csv(\"../data/cache/training_unwound.csv\")\n",
    "validation_data = pd.read_csv(\"../data/cache/validation_unwound.csv\")\n",
    "train_data[\"language\"] = train_data[\"language\"].astype(\"category\")\n",
    "validation_data[\"language\"] = validation_data[\"language\"].astype(\"category\")\n",
    "train_data.head()"
   ]
  },
  {
   "cell_type": "markdown",
   "id": "9b6fbb03",
   "metadata": {},
   "source": [
    "In this script, we'll fit a MLP model to the dataset to predict whether the node is the root or not."
   ]
  },
  {
   "cell_type": "code",
   "execution_count": 3,
   "id": "7fe0a22b",
   "metadata": {},
   "outputs": [],
   "source": [
    "def one_hot_encode(df: pd.DataFrame) -> pd.DataFrame:\n",
    "    \"\"\"\n",
    "    One-hot encode the 'language' column in the DataFrame.\n",
    "    \"\"\"\n",
    "    return pd.get_dummies(df, columns=[\"language\"], prefix=\"\", prefix_sep=\"\", drop_first=False)"
   ]
  },
  {
   "cell_type": "markdown",
   "id": "8c91ea30",
   "metadata": {},
   "source": [
    "We want to find the best hyperparameters for the MLP model. To do this, we will use a grid search with 5-fold cross-validation.\n",
    "\n",
    "The search space, however, is quite large, so this will need to be done in the background. Thus, take a look a the `run_mlp.py` script to see the code, which was developed to be able to run it with `nohup` in the background.\n",
    "\n",
    "Now let's try to get its generalization performance with the single-split validation we did"
   ]
  },
  {
   "cell_type": "code",
   "execution_count": null,
   "id": "fb710365",
   "metadata": {},
   "outputs": [],
   "source": [
    "from collections import defaultdict\n",
    "from sklearn.metrics import accuracy_score"
   ]
  },
  {
   "cell_type": "code",
   "execution_count": null,
   "id": "54e21cf0",
   "metadata": {},
   "outputs": [],
   "source": [
    "X_val = one_hot_encode(validation_data.drop(columns=[\"row_index\", \"node\", \"is_root\"]))\n",
    "y_val = validation_data[\"is_root\"]"
   ]
  },
  {
   "cell_type": "code",
   "execution_count": null,
   "id": "c9005bcb",
   "metadata": {},
   "outputs": [
    {
     "name": "stdout",
     "output_type": "stream",
     "text": [
      "\u001b[1m1247/1247\u001b[0m \u001b[32m━━━━━━━━━━━━━━━━━━━━\u001b[0m\u001b[37m\u001b[0m \u001b[1m1s\u001b[0m 665us/step\n",
      "Node-based accuracy: 0.70\n"
     ]
    }
   ],
   "source": [
    "predictions = model.predict(X_val)\n",
    "print(f\"Node-based accuracy: {accuracy_score(y_val, predictions.reshape(-1) > 0.5):.2f}\")"
   ]
  },
  {
   "cell_type": "code",
   "execution_count": null,
   "id": "94064da4",
   "metadata": {},
   "outputs": [
    {
     "name": "stdout",
     "output_type": "stream",
     "text": [
      "Sentence-based accuracy: 0.26\n"
     ]
    }
   ],
   "source": [
    "sentence_predictions = defaultdict(dict)\n",
    "sentence_real_root = {}\n",
    "for (_, row), probs in zip(validation_data.iterrows(), predictions):\n",
    "    sentence_predictions[row[\"row_index\"]][int(row[\"node\"])] = probs[0]\n",
    "    if row[\"is_root\"]:\n",
    "        sentence_real_root[row[\"row_index\"]] = row[\"node\"]\n",
    "\n",
    "if not set(sentence_predictions.keys()) == set(sentence_real_root.keys()):\n",
    "    raise ValueError(\"Mismatch between sentence predictions and real roots.\")\n",
    "\n",
    "\n",
    "def get_predicted_root(row: pd.Series) -> str:\n",
    "    \"\"\"\n",
    "    Get the predicted root node for a sentence.\n",
    "    \"\"\"\n",
    "    sentence_id = row.name\n",
    "    probs = sentence_predictions[sentence_id]\n",
    "    return max(probs.keys(), key=probs.get)\n",
    "\n",
    "\n",
    "validation_prediction = pd.DataFrame.from_dict(sentence_real_root, orient=\"index\", columns=[\"root\"])\n",
    "validation_prediction[\"predicted_root\"] = validation_prediction.apply(get_predicted_root, axis=1)\n",
    "print(\n",
    "    f\"Sentence-based accuracy: {accuracy_score(validation_prediction['root'], validation_prediction['predicted_root']):.2f}\"\n",
    ")"
   ]
  }
 ],
 "metadata": {
  "kernelspec": {
   "display_name": ".venv",
   "language": "python",
   "name": "python3"
  },
  "language_info": {
   "codemirror_mode": {
    "name": "ipython",
    "version": 3
   },
   "file_extension": ".py",
   "mimetype": "text/x-python",
   "name": "python",
   "nbconvert_exporter": "python",
   "pygments_lexer": "ipython3",
   "version": "3.12.3"
  }
 },
 "nbformat": 4,
 "nbformat_minor": 5
}

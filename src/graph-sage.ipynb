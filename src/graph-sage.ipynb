{
 "cells": [
  {
   "cell_type": "code",
   "execution_count": 1,
   "id": "65996dc4",
   "metadata": {},
   "outputs": [
    {
     "name": "stderr",
     "output_type": "stream",
     "text": [
      "2025-05-04 00:58:52.250171: E external/local_xla/xla/stream_executor/cuda/cuda_fft.cc:467] Unable to register cuFFT factory: Attempting to register factory for plugin cuFFT when one has already been registered\n",
      "WARNING: All log messages before absl::InitializeLog() is called are written to STDERR\n",
      "E0000 00:00:1746313132.264536  246609 cuda_dnn.cc:8579] Unable to register cuDNN factory: Attempting to register factory for plugin cuDNN when one has already been registered\n",
      "E0000 00:00:1746313132.269304  246609 cuda_blas.cc:1407] Unable to register cuBLAS factory: Attempting to register factory for plugin cuBLAS when one has already been registered\n",
      "W0000 00:00:1746313132.279363  246609 computation_placer.cc:177] computation placer already registered. Please check linkage and avoid linking the same target more than once.\n",
      "W0000 00:00:1746313132.279379  246609 computation_placer.cc:177] computation placer already registered. Please check linkage and avoid linking the same target more than once.\n",
      "W0000 00:00:1746313132.279380  246609 computation_placer.cc:177] computation placer already registered. Please check linkage and avoid linking the same target more than once.\n",
      "W0000 00:00:1746313132.279381  246609 computation_placer.cc:177] computation placer already registered. Please check linkage and avoid linking the same target more than once.\n",
      "2025-05-04 00:58:52.283184: I tensorflow/core/platform/cpu_feature_guard.cc:210] This TensorFlow binary is optimized to use available CPU instructions in performance-critical operations.\n",
      "To enable the following instructions: AVX2 FMA, in other operations, rebuild TensorFlow with the appropriate compiler flags.\n"
     ]
    }
   ],
   "source": [
    "import pandas as pd\n",
    "from lib.trees import get_tree, parse_edge_list, to_torch\n",
    "from lib.training import TrainingLoop\n",
    "from lib.training.callbacks import EarlyStopping, ReduceLROnPlateau\n",
    "from lib.training.losses import WeightedCrossEntropy\n",
    "from lib.dataset import split_training_validation\n",
    "import random\n",
    "from torch_geometric.nn import GraphSAGE\n",
    "from tqdm import tqdm\n",
    "from torch_geometric.loader import DataLoader\n",
    "import networkx as nx\n",
    "import torch"
   ]
  },
  {
   "cell_type": "code",
   "execution_count": 2,
   "id": "4206cd78",
   "metadata": {},
   "outputs": [
    {
     "data": {
      "application/vnd.microsoft.datawrangler.viewer.v0+json": {
       "columns": [
        {
         "name": "index",
         "rawType": "int64",
         "type": "integer"
        },
        {
         "name": "language",
         "rawType": "category",
         "type": "unknown"
        },
        {
         "name": "sentence",
         "rawType": "int64",
         "type": "integer"
        },
        {
         "name": "n",
         "rawType": "int64",
         "type": "integer"
        },
        {
         "name": "edgelist",
         "rawType": "object",
         "type": "unknown"
        },
        {
         "name": "root",
         "rawType": "int64",
         "type": "integer"
        },
        {
         "name": "tree",
         "rawType": "object",
         "type": "unknown"
        }
       ],
       "conversionMethod": "pd.DataFrame",
       "ref": "a054b025-dea1-488d-ae52-e4a9fc26382a",
       "rows": [
        [
         "0",
         "Japanese",
         "2",
         "23",
         "[(6, 4), (2, 6), (2, 23), (20, 2), (15, 20), (3, 5), (14, 3), (8, 14), (12, 8), (15, 12), (9, 15), (18, 9), (13, 18), (19, 13), (21, 19), (19, 1), (1, 22), (10, 21), (16, 7), (17, 16), (10, 17), (10, 11)]",
         "10",
         "Graph with 23 nodes and 22 edges"
        ],
        [
         "1",
         "Japanese",
         "5",
         "18",
         "[(8, 9), (14, 8), (4, 14), (5, 4), (1, 2), (6, 1), (17, 12), (6, 17), (6, 3), (7, 6), (11, 7), (7, 16), (16, 18), (15, 11), (5, 15), (10, 5), (10, 13)]",
         "10",
         "Graph with 18 nodes and 17 edges"
        ],
        [
         "2",
         "Japanese",
         "8",
         "33",
         "[(2, 10), (2, 14), (4, 2), (16, 4), (6, 16), (12, 32), (26, 12), (3, 26), (29, 27), (22, 29), (15, 22), (24, 18), (13, 24), (15, 13), (6, 15), (11, 5), (11, 23), (11, 21), (19, 11), (19, 20), (19, 33), (19, 8), (9, 19), (7, 9), (1, 28), (25, 1), (30, 25), (7, 30), (7, 17), (31, 7), (6, 31), (3, 6)]",
         "3",
         "Graph with 33 nodes and 32 edges"
        ],
        [
         "3",
         "Japanese",
         "11",
         "30",
         "[(30, 1), (14, 24), (21, 14), (3, 21), (7, 3), (12, 7), (7, 27), (27, 16), (8, 5), (26, 8), (6, 26), (12, 6), (25, 12), (22, 25), (25, 18), (18, 15), (15, 28), (22, 29), (19, 22), (23, 19), (13, 23), (10, 13), (11, 2), (30, 11), (17, 20), (9, 17), (4, 9), (10, 4), (30, 10)]",
         "30",
         "Graph with 30 nodes and 29 edges"
        ],
        [
         "4",
         "Japanese",
         "12",
         "19",
         "[(19, 13), (16, 19), (2, 16), (4, 10), (4, 15), (4, 5), (14, 4), (12, 14), (3, 12), (2, 3), (1, 8), (1, 18), (1, 7), (17, 1), (6, 17), (2, 6), (11, 2), (11, 9)]",
         "11",
         "Graph with 19 nodes and 18 edges"
        ]
       ],
       "shape": {
        "columns": 6,
        "rows": 5
       }
      },
      "text/html": [
       "<div>\n",
       "<style scoped>\n",
       "    .dataframe tbody tr th:only-of-type {\n",
       "        vertical-align: middle;\n",
       "    }\n",
       "\n",
       "    .dataframe tbody tr th {\n",
       "        vertical-align: top;\n",
       "    }\n",
       "\n",
       "    .dataframe thead th {\n",
       "        text-align: right;\n",
       "    }\n",
       "</style>\n",
       "<table border=\"1\" class=\"dataframe\">\n",
       "  <thead>\n",
       "    <tr style=\"text-align: right;\">\n",
       "      <th></th>\n",
       "      <th>language</th>\n",
       "      <th>sentence</th>\n",
       "      <th>n</th>\n",
       "      <th>edgelist</th>\n",
       "      <th>root</th>\n",
       "      <th>tree</th>\n",
       "    </tr>\n",
       "  </thead>\n",
       "  <tbody>\n",
       "    <tr>\n",
       "      <th>0</th>\n",
       "      <td>Japanese</td>\n",
       "      <td>2</td>\n",
       "      <td>23</td>\n",
       "      <td>[(6, 4), (2, 6), (2, 23), (20, 2), (15, 20), (...</td>\n",
       "      <td>10</td>\n",
       "      <td>(6, 4, 2, 23, 20, 15, 3, 5, 14, 8, 12, 9, 18, ...</td>\n",
       "    </tr>\n",
       "    <tr>\n",
       "      <th>1</th>\n",
       "      <td>Japanese</td>\n",
       "      <td>5</td>\n",
       "      <td>18</td>\n",
       "      <td>[(8, 9), (14, 8), (4, 14), (5, 4), (1, 2), (6,...</td>\n",
       "      <td>10</td>\n",
       "      <td>(8, 9, 14, 4, 5, 1, 2, 6, 17, 12, 3, 7, 11, 16...</td>\n",
       "    </tr>\n",
       "    <tr>\n",
       "      <th>2</th>\n",
       "      <td>Japanese</td>\n",
       "      <td>8</td>\n",
       "      <td>33</td>\n",
       "      <td>[(2, 10), (2, 14), (4, 2), (16, 4), (6, 16), (...</td>\n",
       "      <td>3</td>\n",
       "      <td>(2, 10, 14, 4, 16, 6, 12, 32, 26, 3, 29, 27, 2...</td>\n",
       "    </tr>\n",
       "    <tr>\n",
       "      <th>3</th>\n",
       "      <td>Japanese</td>\n",
       "      <td>11</td>\n",
       "      <td>30</td>\n",
       "      <td>[(30, 1), (14, 24), (21, 14), (3, 21), (7, 3),...</td>\n",
       "      <td>30</td>\n",
       "      <td>(30, 1, 14, 24, 21, 3, 7, 12, 27, 16, 8, 5, 26...</td>\n",
       "    </tr>\n",
       "    <tr>\n",
       "      <th>4</th>\n",
       "      <td>Japanese</td>\n",
       "      <td>12</td>\n",
       "      <td>19</td>\n",
       "      <td>[(19, 13), (16, 19), (2, 16), (4, 10), (4, 15)...</td>\n",
       "      <td>11</td>\n",
       "      <td>(19, 13, 16, 2, 4, 10, 15, 5, 14, 12, 3, 1, 8,...</td>\n",
       "    </tr>\n",
       "  </tbody>\n",
       "</table>\n",
       "</div>"
      ],
      "text/plain": [
       "   language  sentence   n                                           edgelist  \\\n",
       "0  Japanese         2  23  [(6, 4), (2, 6), (2, 23), (20, 2), (15, 20), (...   \n",
       "1  Japanese         5  18  [(8, 9), (14, 8), (4, 14), (5, 4), (1, 2), (6,...   \n",
       "2  Japanese         8  33  [(2, 10), (2, 14), (4, 2), (16, 4), (6, 16), (...   \n",
       "3  Japanese        11  30  [(30, 1), (14, 24), (21, 14), (3, 21), (7, 3),...   \n",
       "4  Japanese        12  19  [(19, 13), (16, 19), (2, 16), (4, 10), (4, 15)...   \n",
       "\n",
       "   root                                               tree  \n",
       "0    10  (6, 4, 2, 23, 20, 15, 3, 5, 14, 8, 12, 9, 18, ...  \n",
       "1    10  (8, 9, 14, 4, 5, 1, 2, 6, 17, 12, 3, 7, 11, 16...  \n",
       "2     3  (2, 10, 14, 4, 16, 6, 12, 32, 26, 3, 29, 27, 2...  \n",
       "3    30  (30, 1, 14, 24, 21, 3, 7, 12, 27, 16, 8, 5, 26...  \n",
       "4    11  (19, 13, 16, 2, 4, 10, 15, 5, 14, 12, 3, 1, 8,...  "
      ]
     },
     "execution_count": 2,
     "metadata": {},
     "output_type": "execute_result"
    }
   ],
   "source": [
    "sentences = pd.read_csv(\"../data/train.csv\")\n",
    "sentences[\"language\"] = sentences[\"language\"].astype(\"category\")\n",
    "sentences[\"edgelist\"] = sentences[\"edgelist\"].apply(parse_edge_list)\n",
    "sentences[\"tree\"] = sentences[\"edgelist\"].apply(get_tree)\n",
    "sentences.head()"
   ]
  },
  {
   "cell_type": "code",
   "execution_count": 4,
   "id": "b6a63ae4",
   "metadata": {},
   "outputs": [
    {
     "name": "stdout",
     "output_type": "stream",
     "text": [
      "Training set size: 8400\n",
      "Validation set size: 2100\n"
     ]
    }
   ],
   "source": [
    "random.seed(42)\n",
    "training, validation = split_training_validation(sentences, 0.2)\n",
    "\n",
    "print(\"Training set size:\", len(training))\n",
    "print(\"Validation set size:\", len(validation))"
   ]
  },
  {
   "cell_type": "markdown",
   "id": "b17da169",
   "metadata": {},
   "source": [
    "Let's experiment with adding no features to the nodes or the edges, and just letting the model learn the structure of the graph."
   ]
  },
  {
   "cell_type": "code",
   "execution_count": 5,
   "id": "e0d4cd8a",
   "metadata": {},
   "outputs": [],
   "source": [
    "def get_node_labels(row: pd.Series):\n",
    "    return {n: [float(n == row[\"root\"]), float(n != row[\"root\"])] for n in row[\"tree\"].nodes()}\n",
    "\n",
    "\n",
    "def get_node_features(row: pd.Series):\n",
    "    tree = row[\"tree\"]\n",
    "    degree_centrality = nx.degree_centrality(tree)\n",
    "    harmonic_centrality = nx.harmonic_centrality(tree)\n",
    "    betweenness_centrality = nx.betweenness_centrality(tree)\n",
    "    pagerank = nx.pagerank(tree)\n",
    "\n",
    "    return {\n",
    "        n: [degree_centrality[n], harmonic_centrality[n], betweenness_centrality[n], pagerank[n]] for n in tree.nodes()\n",
    "    }\n",
    "\n",
    "\n",
    "trees = training.apply(\n",
    "    lambda r: to_torch(r[\"tree\"], node_features=get_node_features(r), node_labels=get_node_labels(r)), axis=1\n",
    ").tolist()\n",
    "train_dataset = DataLoader(trees, batch_size=32, shuffle=True)\n",
    "# DataLoader groups sub-graphs into mini-batches. See https://pytorch-geometric.readthedocs.io/en/latest/advanced/batching.html\n",
    "# for more details. Basically, it combines the smaller graphs into a single large\n",
    "# disconnected graph without padding, using smart indexing and concatenation\n",
    "# techniques.\n",
    "\n",
    "validation_trees = validation.apply(\n",
    "    lambda r: to_torch(r[\"tree\"], node_features=get_node_features(r), node_labels=get_node_labels(r)), axis=1\n",
    ").tolist()\n",
    "validation_dataset = DataLoader(validation_trees, batch_size=32, shuffle=False)"
   ]
  },
  {
   "cell_type": "code",
   "execution_count": 6,
   "id": "8468a686",
   "metadata": {},
   "outputs": [
    {
     "name": "stderr",
     "output_type": "stream",
     "text": [
      "                                                                                                    73.57227]\u001b[0m\r"
     ]
    },
    {
     "name": "stdout",
     "output_type": "stream",
     "text": [
      "Epoch 1/100: loss=2179.50025 val_loss=2192.47655 lr_1=0.01000\n"
     ]
    },
    {
     "name": "stderr",
     "output_type": "stream",
     "text": [
      "                                                                                                    82.80280]\u001b[0m\r"
     ]
    },
    {
     "name": "stdout",
     "output_type": "stream",
     "text": [
      "Epoch 2/100: loss=2164.84339 val_loss=2190.94559 lr_1=0.01000\n"
     ]
    },
    {
     "name": "stderr",
     "output_type": "stream",
     "text": [
      "                                                                                                    82.78650]\u001b[0m\r"
     ]
    },
    {
     "name": "stdout",
     "output_type": "stream",
     "text": [
      "Epoch 3/100: loss=2163.83052 val_loss=2190.07726 lr_1=0.01000\n"
     ]
    },
    {
     "name": "stderr",
     "output_type": "stream",
     "text": [
      "                                                                                                    77.16180]\u001b[0m\r"
     ]
    },
    {
     "name": "stdout",
     "output_type": "stream",
     "text": [
      "Epoch 4/100: loss=2163.75315 val_loss=2190.78491 lr_1=0.01000\n"
     ]
    },
    {
     "name": "stderr",
     "output_type": "stream",
     "text": [
      "                                                                                                    46.87225]\u001b[0m\r"
     ]
    },
    {
     "name": "stdout",
     "output_type": "stream",
     "text": [
      "Epoch 5/100: loss=2163.68785 val_loss=2189.73493 lr_1=0.01000\n"
     ]
    },
    {
     "name": "stderr",
     "output_type": "stream",
     "text": [
      "                                                                                                    62.08472]\u001b[0m\r"
     ]
    },
    {
     "name": "stdout",
     "output_type": "stream",
     "text": [
      "Epoch 6/100: loss=2163.72104 val_loss=2189.78700 lr_1=0.01000\n"
     ]
    },
    {
     "name": "stderr",
     "output_type": "stream",
     "text": [
      "                                                                                                    83.28290]\u001b[0m\r"
     ]
    },
    {
     "name": "stdout",
     "output_type": "stream",
     "text": [
      "Epoch 7/100: loss=2163.58173 val_loss=2189.69312 lr_1=0.01000\n"
     ]
    },
    {
     "name": "stderr",
     "output_type": "stream",
     "text": [
      "                                                                                                    48.19647]\u001b[0m\r"
     ]
    },
    {
     "name": "stdout",
     "output_type": "stream",
     "text": [
      "Epoch 8/100: loss=2163.68515 val_loss=2189.73802 lr_1=0.01000\n"
     ]
    },
    {
     "name": "stderr",
     "output_type": "stream",
     "text": [
      "                                                                                                    02.85742]\u001b[0m\r"
     ]
    },
    {
     "name": "stdout",
     "output_type": "stream",
     "text": [
      "Epoch 9/100: loss=2163.51988 val_loss=2189.69414 lr_1=0.01000\n"
     ]
    },
    {
     "name": "stderr",
     "output_type": "stream",
     "text": [
      "                                                                                                    87.84509]\u001b[0m\r"
     ]
    },
    {
     "name": "stdout",
     "output_type": "stream",
     "text": [
      "Epoch 10/100: loss=2163.43296 val_loss=2190.03114 lr_1=0.01000\n"
     ]
    },
    {
     "name": "stderr",
     "output_type": "stream",
     "text": [
      "                                                                                                    84.42908]\u001b[0m\r"
     ]
    },
    {
     "name": "stdout",
     "output_type": "stream",
     "text": [
      "Epoch 11/100: loss=2163.58689 val_loss=2192.18777 lr_1=0.01000\n"
     ]
    },
    {
     "name": "stderr",
     "output_type": "stream",
     "text": [
      "                                                                                                    75.68188]\u001b[0m\r"
     ]
    },
    {
     "name": "stdout",
     "output_type": "stream",
     "text": [
      "Epoch 12/100: loss=2163.42674 val_loss=2189.57334 lr_1=0.01000\n"
     ]
    },
    {
     "name": "stderr",
     "output_type": "stream",
     "text": [
      "                                                                                                    48.06580]\u001b[0m\r"
     ]
    },
    {
     "name": "stdout",
     "output_type": "stream",
     "text": [
      "Epoch 13/100: loss=2163.30268 val_loss=2190.00630 lr_1=0.01000\n"
     ]
    },
    {
     "name": "stderr",
     "output_type": "stream",
     "text": [
      "                                                                                                    34.50464]\u001b[0m\r"
     ]
    },
    {
     "name": "stdout",
     "output_type": "stream",
     "text": [
      "Epoch 14/100: loss=2163.42472 val_loss=2190.09990 lr_1=0.01000\n"
     ]
    },
    {
     "name": "stderr",
     "output_type": "stream",
     "text": [
      "                                                                                                    73.64258]\u001b[0m\r"
     ]
    },
    {
     "name": "stdout",
     "output_type": "stream",
     "text": [
      "Epoch 15/100: loss=2163.75781 val_loss=2190.33977 lr_1=0.01000\n"
     ]
    },
    {
     "name": "stderr",
     "output_type": "stream",
     "text": [
      "                                                                                                    71.07037]\u001b[0m\r"
     ]
    },
    {
     "name": "stdout",
     "output_type": "stream",
     "text": [
      "Epoch 16/100: loss=2163.48876 val_loss=2189.67577 lr_1=0.01000\n"
     ]
    },
    {
     "name": "stderr",
     "output_type": "stream",
     "text": [
      "                                                                                                    25.23633]\u001b[0m\r"
     ]
    },
    {
     "name": "stdout",
     "output_type": "stream",
     "text": [
      "Reducing learning rate by a factor of 0.5.\n",
      "Epoch 17/100: loss=2163.48403 val_loss=2189.78728 lr_1=0.01000\n"
     ]
    },
    {
     "name": "stderr",
     "output_type": "stream",
     "text": [
      "                                                                                                    73.79285]\u001b[0m\r"
     ]
    },
    {
     "name": "stdout",
     "output_type": "stream",
     "text": [
      "Epoch 18/100: loss=2163.07131 val_loss=2190.09402 lr_1=0.00500\n"
     ]
    },
    {
     "name": "stderr",
     "output_type": "stream",
     "text": [
      "                                                                                                    96.39264]\u001b[0m\r"
     ]
    },
    {
     "name": "stdout",
     "output_type": "stream",
     "text": [
      "Epoch 19/100: loss=2163.03921 val_loss=2189.61799 lr_1=0.00500\n"
     ]
    },
    {
     "name": "stderr",
     "output_type": "stream",
     "text": [
      "                                                                                                    85.21338]\u001b[0m\r"
     ]
    },
    {
     "name": "stdout",
     "output_type": "stream",
     "text": [
      "Epoch 20/100: loss=2163.13964 val_loss=2189.93205 lr_1=0.00500\n"
     ]
    },
    {
     "name": "stderr",
     "output_type": "stream",
     "text": [
      "                                                                                                    21.36914]\u001b[0m\r"
     ]
    },
    {
     "name": "stdout",
     "output_type": "stream",
     "text": [
      "Epoch 21/100: loss=2162.83543 val_loss=2189.46975 lr_1=0.00500\n"
     ]
    },
    {
     "name": "stderr",
     "output_type": "stream",
     "text": [
      "                                                                                                    10.49390]\u001b[0m\r"
     ]
    },
    {
     "name": "stdout",
     "output_type": "stream",
     "text": [
      "Epoch 22/100: loss=2163.03956 val_loss=2189.64996 lr_1=0.00500\n"
     ]
    },
    {
     "name": "stderr",
     "output_type": "stream",
     "text": [
      "                                                                                                    56.16626]\u001b[0m\r"
     ]
    },
    {
     "name": "stdout",
     "output_type": "stream",
     "text": [
      "Epoch 23/100: loss=2162.75577 val_loss=2189.94309 lr_1=0.00500\n"
     ]
    },
    {
     "name": "stderr",
     "output_type": "stream",
     "text": [
      "                                                                                                    51.06616]\u001b[0m\r"
     ]
    },
    {
     "name": "stdout",
     "output_type": "stream",
     "text": [
      "Epoch 24/100: loss=2162.97706 val_loss=2189.50241 lr_1=0.00500\n"
     ]
    },
    {
     "name": "stderr",
     "output_type": "stream",
     "text": [
      "                                                                                                    14.12439]\u001b[0m\r"
     ]
    },
    {
     "name": "stdout",
     "output_type": "stream",
     "text": [
      "Epoch 25/100: loss=2162.90621 val_loss=2189.40198 lr_1=0.00500\n"
     ]
    },
    {
     "name": "stderr",
     "output_type": "stream",
     "text": [
      "                                                                                                    34.66711]\u001b[0m\r"
     ]
    },
    {
     "name": "stdout",
     "output_type": "stream",
     "text": [
      "Epoch 26/100: loss=2162.83903 val_loss=2189.48209 lr_1=0.00500\n"
     ]
    },
    {
     "name": "stderr",
     "output_type": "stream",
     "text": [
      "                                                                                                    06.33997]\u001b[0m\r"
     ]
    },
    {
     "name": "stdout",
     "output_type": "stream",
     "text": [
      "Epoch 27/100: loss=2162.73398 val_loss=2189.53061 lr_1=0.00500\n"
     ]
    },
    {
     "name": "stderr",
     "output_type": "stream",
     "text": [
      "                                                                                                    86.82703]\u001b[0m\r"
     ]
    },
    {
     "name": "stdout",
     "output_type": "stream",
     "text": [
      "Epoch 28/100: loss=2162.73388 val_loss=2189.88308 lr_1=0.00500\n"
     ]
    },
    {
     "name": "stderr",
     "output_type": "stream",
     "text": [
      "                                                                                                    14.87549]\u001b[0m\r"
     ]
    },
    {
     "name": "stdout",
     "output_type": "stream",
     "text": [
      "Epoch 29/100: loss=2162.88054 val_loss=2189.24635 lr_1=0.00500\n"
     ]
    },
    {
     "name": "stderr",
     "output_type": "stream",
     "text": [
      "                                                                                                    67.17346]\u001b[0m\r"
     ]
    },
    {
     "name": "stdout",
     "output_type": "stream",
     "text": [
      "Epoch 30/100: loss=2163.19314 val_loss=2189.63759 lr_1=0.00500\n"
     ]
    },
    {
     "name": "stderr",
     "output_type": "stream",
     "text": [
      "                                                                                                    51.69006]\u001b[0m\r"
     ]
    },
    {
     "name": "stdout",
     "output_type": "stream",
     "text": [
      "Epoch 31/100: loss=2162.77964 val_loss=2189.45081 lr_1=0.00500\n"
     ]
    },
    {
     "name": "stderr",
     "output_type": "stream",
     "text": [
      "                                                                                                    56.64014]\u001b[0m\r"
     ]
    },
    {
     "name": "stdout",
     "output_type": "stream",
     "text": [
      "Epoch 32/100: loss=2162.91944 val_loss=2189.37255 lr_1=0.00500\n"
     ]
    },
    {
     "name": "stderr",
     "output_type": "stream",
     "text": [
      "                                                                                                    52.73535]\u001b[0m\r"
     ]
    },
    {
     "name": "stdout",
     "output_type": "stream",
     "text": [
      "Epoch 33/100: loss=2162.89469 val_loss=2189.58682 lr_1=0.00500\n"
     ]
    },
    {
     "name": "stderr",
     "output_type": "stream",
     "text": [
      "                                                                                                    50.73376]\u001b[0m\r"
     ]
    },
    {
     "name": "stdout",
     "output_type": "stream",
     "text": [
      "Reducing learning rate by a factor of 0.5.\n",
      "Epoch 34/100: loss=2162.71031 val_loss=2189.52837 lr_1=0.00500\n"
     ]
    },
    {
     "name": "stderr",
     "output_type": "stream",
     "text": [
      "                                                                                                    93.86377]\u001b[0m\r"
     ]
    },
    {
     "name": "stdout",
     "output_type": "stream",
     "text": [
      "Epoch 35/100: loss=2162.51524 val_loss=2189.16654 lr_1=0.00250\n"
     ]
    },
    {
     "name": "stderr",
     "output_type": "stream",
     "text": [
      "                                                                                                    20.60370]\u001b[0m\r"
     ]
    },
    {
     "name": "stdout",
     "output_type": "stream",
     "text": [
      "Epoch 36/100: loss=2162.68529 val_loss=2189.44692 lr_1=0.00250\n"
     ]
    },
    {
     "name": "stderr",
     "output_type": "stream",
     "text": [
      "                                                                                                    23.24286]\u001b[0m\r"
     ]
    },
    {
     "name": "stdout",
     "output_type": "stream",
     "text": [
      "Epoch 37/100: loss=2162.49449 val_loss=2189.31796 lr_1=0.00250\n"
     ]
    },
    {
     "name": "stderr",
     "output_type": "stream",
     "text": [
      "                                                                                                    78.80139]\u001b[0m\r"
     ]
    },
    {
     "name": "stdout",
     "output_type": "stream",
     "text": [
      "Epoch 38/100: loss=2162.44943 val_loss=2189.39007 lr_1=0.00250\n"
     ]
    },
    {
     "name": "stderr",
     "output_type": "stream",
     "text": [
      "                                                                                                    32.16980]\u001b[0m\r"
     ]
    },
    {
     "name": "stdout",
     "output_type": "stream",
     "text": [
      "Epoch 39/100: loss=2162.36342 val_loss=2189.39084 lr_1=0.00250\n"
     ]
    },
    {
     "name": "stderr",
     "output_type": "stream",
     "text": [
      "                                                                                                    15.69556]\u001b[0m\r"
     ]
    },
    {
     "name": "stdout",
     "output_type": "stream",
     "text": [
      "Reducing learning rate by a factor of 0.5.\n",
      "Epoch 40/100: loss=2162.40610 val_loss=2189.43158 lr_1=0.00250\n"
     ]
    },
    {
     "name": "stderr",
     "output_type": "stream",
     "text": [
      "                                                                                                    51.68793]\u001b[0m\r"
     ]
    },
    {
     "name": "stdout",
     "output_type": "stream",
     "text": [
      "Epoch 41/100: loss=2162.46271 val_loss=2189.34651 lr_1=0.00125\n"
     ]
    },
    {
     "name": "stderr",
     "output_type": "stream",
     "text": [
      "                                                                                                    48.93793]\u001b[0m\r"
     ]
    },
    {
     "name": "stdout",
     "output_type": "stream",
     "text": [
      "Epoch 42/100: loss=2162.32349 val_loss=2189.27038 lr_1=0.00125\n"
     ]
    },
    {
     "name": "stderr",
     "output_type": "stream",
     "text": [
      "                                                                                                    36.53168]\u001b[0m\r"
     ]
    },
    {
     "name": "stdout",
     "output_type": "stream",
     "text": [
      "Epoch 43/100: loss=2162.37233 val_loss=2189.26574 lr_1=0.00125\n"
     ]
    },
    {
     "name": "stderr",
     "output_type": "stream",
     "text": [
      "                                                                                                    76.33539]\u001b[0m\r"
     ]
    },
    {
     "name": "stdout",
     "output_type": "stream",
     "text": [
      "Epoch 44/100: loss=2162.38428 val_loss=2189.31083 lr_1=0.00125\n"
     ]
    },
    {
     "name": "stderr",
     "output_type": "stream",
     "text": [
      "                                                                                                    41.39709]\u001b[0m"
     ]
    },
    {
     "name": "stdout",
     "output_type": "stream",
     "text": [
      "Early stopping triggered after 10 epochs without improvement.\n",
      "Reducing learning rate by a factor of 0.5.\n",
      "Epoch 45/100: loss=2162.37072 val_loss=2189.27190 lr_1=0.00125\n"
     ]
    },
    {
     "name": "stderr",
     "output_type": "stream",
     "text": [
      "\r"
     ]
    }
   ],
   "source": [
    "torch.manual_seed(42)\n",
    "model = GraphSAGE(in_channels=trees[0].x.shape[1], hidden_channels=16, out_channels=2, num_layers=16)\n",
    "optimizer = torch.optim.Adam(model.parameters(), lr=0.01, weight_decay=5e-4)\n",
    "class_weights = {0: 1.0, 1: 0.1}\n",
    "\n",
    "TrainingLoop(\n",
    "    model=model,\n",
    "    optimizer=optimizer,\n",
    "    loss_fn=WeightedCrossEntropy(class_weights),\n",
    "    train_loader=train_dataset,\n",
    "    val_loader=validation_dataset,\n",
    "    epochs=100,\n",
    "    callbacks=[EarlyStopping(patience=10), ReduceLROnPlateau(factor=0.5, patience=5)],\n",
    ").train()"
   ]
  },
  {
   "cell_type": "code",
   "execution_count": 7,
   "id": "2593dcff",
   "metadata": {},
   "outputs": [
    {
     "name": "stderr",
     "output_type": "stream",
     "text": [
      "                                                    \r"
     ]
    },
    {
     "name": "stdout",
     "output_type": "stream",
     "text": [
      "Node-Based Accuracy: 94.70%\n",
      "Sentence-Based Accuracy: 28.86%\n"
     ]
    },
    {
     "data": {
      "image/png": "[encoded data removed]",
      "text/plain": [
       "<Figure size 1000x500 with 1 Axes>"
      ]
     },
     "metadata": {},
     "output_type": "display_data"
    }
   ],
   "source": [
    "from collections import defaultdict\n",
    "import matplotlib.pyplot as plt\n",
    "import seaborn as sns\n",
    "\n",
    "\n",
    "model.eval()\n",
    "pred_counts = defaultdict(int)\n",
    "exp_counts = defaultdict(int)\n",
    "with torch.no_grad():\n",
    "    correct_nodes = 0\n",
    "    correct_sentences = 0\n",
    "    total_nodes = 0\n",
    "    total_sentences = len(validation_trees)\n",
    "    for tree in tqdm(validation_trees, leave=False):\n",
    "        out = model(tree.x, tree.edge_index)\n",
    "        predicted_classes = torch.argmax(out, dim=1)\n",
    "        expected_classes = torch.argmax(tree.y, dim=1)\n",
    "        predicted_root = torch.argmax(out, dim=0)[0].item()\n",
    "        expected_root = torch.argmax(tree.y, dim=0)[0].item()\n",
    "        pred_counts[predicted_root] += 1\n",
    "        exp_counts[expected_root] += 1\n",
    "        correct_nodes += (expected_classes == predicted_classes).sum().item()\n",
    "        correct_sentences += predicted_root == expected_root\n",
    "        total_nodes += len(expected_classes)\n",
    "\n",
    "    print(f\"Node-Based Accuracy: {correct_nodes/total_nodes*100:.2f}%\")\n",
    "    print(f\"Sentence-Based Accuracy: {correct_sentences/total_sentences*100:.2f}%\")\n",
    "\n",
    "# Plot the distribution of predicted and expected classes\n",
    "pred_counts = dict(pred_counts)\n",
    "exp_counts = dict(exp_counts)\n",
    "X = sorted(set(pred_counts.keys()) | set(exp_counts.keys()))\n",
    "pred_counts = [pred_counts.get(x, 0) for x in X]\n",
    "exp_counts = [exp_counts.get(x, 0) for x in X]\n",
    "plt.figure(figsize=(10, 5))\n",
    "sns.barplot(x=X, y=pred_counts, color=\"blue\", label=\"Predicted\", alpha=0.5)\n",
    "sns.barplot(x=X, y=exp_counts, color=\"red\", label=\"Expected\", alpha=0.5)\n",
    "plt.xlabel(\"Node ID\")\n",
    "plt.ylabel(\"Count\")\n",
    "plt.title(\"Distribution of Predicted and Expected Classes\")\n",
    "plt.legend()\n",
    "plt.show()"
   ]
  },
  {
   "cell_type": "markdown",
   "id": "ffd3cbd3",
   "metadata": {},
   "source": [
    "Let's predict the root of the test dataset, and see how well this model does."
   ]
  },
  {
   "cell_type": "code",
   "execution_count": 8,
   "id": "52dc9291",
   "metadata": {},
   "outputs": [
    {
     "data": {
      "application/vnd.microsoft.datawrangler.viewer.v0+json": {
       "columns": [
        {
         "name": "index",
         "rawType": "int64",
         "type": "integer"
        },
        {
         "name": "id",
         "rawType": "int64",
         "type": "integer"
        },
        {
         "name": "language",
         "rawType": "category",
         "type": "unknown"
        },
        {
         "name": "sentence",
         "rawType": "int64",
         "type": "integer"
        },
        {
         "name": "n",
         "rawType": "int64",
         "type": "integer"
        },
        {
         "name": "edgelist",
         "rawType": "object",
         "type": "unknown"
        },
        {
         "name": "tree",
         "rawType": "object",
         "type": "unknown"
        }
       ],
       "conversionMethod": "pd.DataFrame",
       "ref": "6266b34e-4b82-456b-86e7-8529c2750918",
       "rows": [
        [
         "0",
         "1",
         "Japanese",
         "1",
         "43",
         "[(38, 33), (10, 38), (24, 16), (30, 24), (32, 30), (9, 32), (10, 9), (10, 15), (28, 10), (37, 28), (28, 19), (2, 17), (37, 2), (12, 36), (40, 12), (26, 40), (21, 26), (13, 21), (20, 13), (37, 20), (14, 37), (31, 14), (14, 1), (8, 31), (23, 8), (29, 23), (39, 29), (11, 39), (6, 11), (25, 5), (25, 41), (25, 43), (25, 34), (25, 22), (25, 35), (3, 25), (4, 3), (42, 7), (27, 42), (6, 27), (18, 6), (4, 18)]",
         "Graph with 43 nodes and 42 edges"
        ],
        [
         "1",
         "2",
         "Japanese",
         "3",
         "49",
         "[(17, 19), (49, 9), (28, 49), (20, 28), (27, 20), (14, 27), (27, 47), (47, 4), (33, 14), (12, 3), (33, 12), (38, 33), (15, 38), (7, 41), (15, 7), (42, 15), (46, 42), (31, 35), (31, 32), (31, 29), (40, 31), (11, 40), (10, 16), (21, 10), (39, 21), (5, 39), (48, 34), (18, 48), (44, 18), (8, 44), (24, 8), (24, 23), (24, 1), (6, 24), (13, 6), (25, 13), (45, 2), (37, 45), (25, 37), (30, 25), (5, 30), (26, 5), (36, 26), (46, 36), (22, 46), (11, 22), (17, 11), (17, 43)]",
         "Graph with 49 nodes and 48 edges"
        ],
        [
         "2",
         "3",
         "Japanese",
         "4",
         "38",
         "[(15, 38), (10, 4), (20, 10), (25, 20), (15, 25), (7, 15), (12, 8), (19, 12), (7, 19), (2, 7), (24, 37), (17, 24), (31, 17), (34, 31), (2, 34), (22, 14), (27, 22), (2, 27), (16, 2), (11, 16), (16, 9), (32, 11), (5, 32), (21, 29), (5, 21), (3, 36), (3, 30), (13, 3), (26, 13), (26, 18), (1, 26), (28, 1), (35, 28), (6, 35), (23, 6), (33, 23), (5, 33)]",
         "Graph with 38 nodes and 37 edges"
        ],
        [
         "3",
         "4",
         "Japanese",
         "6",
         "19",
         "[(6, 9), (18, 6), (3, 4), (18, 3), (3, 2), (10, 18), (11, 10), (5, 7), (11, 5), (5, 8), (13, 11), (15, 13), (17, 16), (14, 17), (19, 14), (12, 19), (1, 12), (15, 1)]",
         "Graph with 19 nodes and 18 edges"
        ],
        [
         "4",
         "5",
         "Japanese",
         "7",
         "12",
         "[(3, 8), (7, 11), (3, 7), (3, 12), (3, 5), (1, 3), (6, 1), (4, 10), (6, 4), (9, 6), (9, 2)]",
         "Graph with 12 nodes and 11 edges"
        ]
       ],
       "shape": {
        "columns": 6,
        "rows": 5
       }
      },
      "text/html": [
       "<div>\n",
       "<style scoped>\n",
       "    .dataframe tbody tr th:only-of-type {\n",
       "        vertical-align: middle;\n",
       "    }\n",
       "\n",
       "    .dataframe tbody tr th {\n",
       "        vertical-align: top;\n",
       "    }\n",
       "\n",
       "    .dataframe thead th {\n",
       "        text-align: right;\n",
       "    }\n",
       "</style>\n",
       "<table border=\"1\" class=\"dataframe\">\n",
       "  <thead>\n",
       "    <tr style=\"text-align: right;\">\n",
       "      <th></th>\n",
       "      <th>id</th>\n",
       "      <th>language</th>\n",
       "      <th>sentence</th>\n",
       "      <th>n</th>\n",
       "      <th>edgelist</th>\n",
       "      <th>tree</th>\n",
       "    </tr>\n",
       "  </thead>\n",
       "  <tbody>\n",
       "    <tr>\n",
       "      <th>0</th>\n",
       "      <td>1</td>\n",
       "      <td>Japanese</td>\n",
       "      <td>1</td>\n",
       "      <td>43</td>\n",
       "      <td>[(38, 33), (10, 38), (24, 16), (30, 24), (32, ...</td>\n",
       "      <td>(38, 33, 10, 24, 16, 30, 32, 9, 15, 28, 37, 19...</td>\n",
       "    </tr>\n",
       "    <tr>\n",
       "      <th>1</th>\n",
       "      <td>2</td>\n",
       "      <td>Japanese</td>\n",
       "      <td>3</td>\n",
       "      <td>49</td>\n",
       "      <td>[(17, 19), (49, 9), (28, 49), (20, 28), (27, 2...</td>\n",
       "      <td>(17, 19, 49, 9, 28, 20, 27, 14, 47, 4, 33, 12,...</td>\n",
       "    </tr>\n",
       "    <tr>\n",
       "      <th>2</th>\n",
       "      <td>3</td>\n",
       "      <td>Japanese</td>\n",
       "      <td>4</td>\n",
       "      <td>38</td>\n",
       "      <td>[(15, 38), (10, 4), (20, 10), (25, 20), (15, 2...</td>\n",
       "      <td>(15, 38, 10, 4, 20, 25, 7, 12, 8, 19, 2, 24, 3...</td>\n",
       "    </tr>\n",
       "    <tr>\n",
       "      <th>3</th>\n",
       "      <td>4</td>\n",
       "      <td>Japanese</td>\n",
       "      <td>6</td>\n",
       "      <td>19</td>\n",
       "      <td>[(6, 9), (18, 6), (3, 4), (18, 3), (3, 2), (10...</td>\n",
       "      <td>(6, 9, 18, 3, 4, 2, 10, 11, 5, 7, 8, 13, 15, 1...</td>\n",
       "    </tr>\n",
       "    <tr>\n",
       "      <th>4</th>\n",
       "      <td>5</td>\n",
       "      <td>Japanese</td>\n",
       "      <td>7</td>\n",
       "      <td>12</td>\n",
       "      <td>[(3, 8), (7, 11), (3, 7), (3, 12), (3, 5), (1,...</td>\n",
       "      <td>(3, 8, 7, 11, 12, 5, 1, 6, 4, 10, 9, 2)</td>\n",
       "    </tr>\n",
       "  </tbody>\n",
       "</table>\n",
       "</div>"
      ],
      "text/plain": [
       "   id  language  sentence   n  \\\n",
       "0   1  Japanese         1  43   \n",
       "1   2  Japanese         3  49   \n",
       "2   3  Japanese         4  38   \n",
       "3   4  Japanese         6  19   \n",
       "4   5  Japanese         7  12   \n",
       "\n",
       "                                            edgelist  \\\n",
       "0  [(38, 33), (10, 38), (24, 16), (30, 24), (32, ...   \n",
       "1  [(17, 19), (49, 9), (28, 49), (20, 28), (27, 2...   \n",
       "2  [(15, 38), (10, 4), (20, 10), (25, 20), (15, 2...   \n",
       "3  [(6, 9), (18, 6), (3, 4), (18, 3), (3, 2), (10...   \n",
       "4  [(3, 8), (7, 11), (3, 7), (3, 12), (3, 5), (1,...   \n",
       "\n",
       "                                                tree  \n",
       "0  (38, 33, 10, 24, 16, 30, 32, 9, 15, 28, 37, 19...  \n",
       "1  (17, 19, 49, 9, 28, 20, 27, 14, 47, 4, 33, 12,...  \n",
       "2  (15, 38, 10, 4, 20, 25, 7, 12, 8, 19, 2, 24, 3...  \n",
       "3  (6, 9, 18, 3, 4, 2, 10, 11, 5, 7, 8, 13, 15, 1...  \n",
       "4            (3, 8, 7, 11, 12, 5, 1, 6, 4, 10, 9, 2)  "
      ]
     },
     "execution_count": 8,
     "metadata": {},
     "output_type": "execute_result"
    }
   ],
   "source": [
    "test_sentences = pd.read_csv(\"../data/test.csv\")\n",
    "test_sentences[\"language\"] = test_sentences[\"language\"].astype(\"category\")\n",
    "test_sentences[\"edgelist\"] = test_sentences[\"edgelist\"].apply(parse_edge_list)\n",
    "test_sentences[\"tree\"] = test_sentences[\"edgelist\"].apply(get_tree)\n",
    "test_sentences.head()"
   ]
  },
  {
   "cell_type": "code",
   "execution_count": 9,
   "id": "0ec00619",
   "metadata": {},
   "outputs": [
    {
     "data": {
      "application/vnd.microsoft.datawrangler.viewer.v0+json": {
       "columns": [
        {
         "name": "index",
         "rawType": "int64",
         "type": "integer"
        },
        {
         "name": "id",
         "rawType": "int64",
         "type": "integer"
        },
        {
         "name": "language",
         "rawType": "category",
         "type": "unknown"
        },
        {
         "name": "sentence",
         "rawType": "int64",
         "type": "integer"
        },
        {
         "name": "n",
         "rawType": "int64",
         "type": "integer"
        },
        {
         "name": "edgelist",
         "rawType": "object",
         "type": "unknown"
        },
        {
         "name": "tree",
         "rawType": "object",
         "type": "unknown"
        },
        {
         "name": "torch_tree",
         "rawType": "object",
         "type": "unknown"
        }
       ],
       "conversionMethod": "pd.DataFrame",
       "ref": "81bfcc1e-05fe-4187-83c4-544077ae0c01",
       "rows": [
        [
         "0",
         "1",
         "Japanese",
         "1",
         "43",
         "[(38, 33), (10, 38), (24, 16), (30, 24), (32, 30), (9, 32), (10, 9), (10, 15), (28, 10), (37, 28), (28, 19), (2, 17), (37, 2), (12, 36), (40, 12), (26, 40), (21, 26), (13, 21), (20, 13), (37, 20), (14, 37), (31, 14), (14, 1), (8, 31), (23, 8), (29, 23), (39, 29), (11, 39), (6, 11), (25, 5), (25, 41), (25, 43), (25, 34), (25, 22), (25, 35), (3, 25), (4, 3), (42, 7), (27, 42), (6, 27), (18, 6), (4, 18)]",
         "Graph with 43 nodes and 42 edges",
         "Data(x=[43, 4], edge_index=[2, 84], y=[43, 1])"
        ],
        [
         "1",
         "2",
         "Japanese",
         "3",
         "49",
         "[(17, 19), (49, 9), (28, 49), (20, 28), (27, 20), (14, 27), (27, 47), (47, 4), (33, 14), (12, 3), (33, 12), (38, 33), (15, 38), (7, 41), (15, 7), (42, 15), (46, 42), (31, 35), (31, 32), (31, 29), (40, 31), (11, 40), (10, 16), (21, 10), (39, 21), (5, 39), (48, 34), (18, 48), (44, 18), (8, 44), (24, 8), (24, 23), (24, 1), (6, 24), (13, 6), (25, 13), (45, 2), (37, 45), (25, 37), (30, 25), (5, 30), (26, 5), (36, 26), (46, 36), (22, 46), (11, 22), (17, 11), (17, 43)]",
         "Graph with 49 nodes and 48 edges",
         "Data(x=[49, 4], edge_index=[2, 96], y=[49, 1])"
        ],
        [
         "2",
         "3",
         "Japanese",
         "4",
         "38",
         "[(15, 38), (10, 4), (20, 10), (25, 20), (15, 25), (7, 15), (12, 8), (19, 12), (7, 19), (2, 7), (24, 37), (17, 24), (31, 17), (34, 31), (2, 34), (22, 14), (27, 22), (2, 27), (16, 2), (11, 16), (16, 9), (32, 11), (5, 32), (21, 29), (5, 21), (3, 36), (3, 30), (13, 3), (26, 13), (26, 18), (1, 26), (28, 1), (35, 28), (6, 35), (23, 6), (33, 23), (5, 33)]",
         "Graph with 38 nodes and 37 edges",
         "Data(x=[38, 4], edge_index=[2, 74], y=[38, 1])"
        ],
        [
         "3",
         "4",
         "Japanese",
         "6",
         "19",
         "[(6, 9), (18, 6), (3, 4), (18, 3), (3, 2), (10, 18), (11, 10), (5, 7), (11, 5), (5, 8), (13, 11), (15, 13), (17, 16), (14, 17), (19, 14), (12, 19), (1, 12), (15, 1)]",
         "Graph with 19 nodes and 18 edges",
         "Data(x=[19, 4], edge_index=[2, 36], y=[19, 1])"
        ],
        [
         "4",
         "5",
         "Japanese",
         "7",
         "12",
         "[(3, 8), (7, 11), (3, 7), (3, 12), (3, 5), (1, 3), (6, 1), (4, 10), (6, 4), (9, 6), (9, 2)]",
         "Graph with 12 nodes and 11 edges",
         "Data(x=[12, 4], edge_index=[2, 22], y=[12, 1])"
        ]
       ],
       "shape": {
        "columns": 7,
        "rows": 5
       }
      },
      "text/html": [
       "<div>\n",
       "<style scoped>\n",
       "    .dataframe tbody tr th:only-of-type {\n",
       "        vertical-align: middle;\n",
       "    }\n",
       "\n",
       "    .dataframe tbody tr th {\n",
       "        vertical-align: top;\n",
       "    }\n",
       "\n",
       "    .dataframe thead th {\n",
       "        text-align: right;\n",
       "    }\n",
       "</style>\n",
       "<table border=\"1\" class=\"dataframe\">\n",
       "  <thead>\n",
       "    <tr style=\"text-align: right;\">\n",
       "      <th></th>\n",
       "      <th>id</th>\n",
       "      <th>language</th>\n",
       "      <th>sentence</th>\n",
       "      <th>n</th>\n",
       "      <th>edgelist</th>\n",
       "      <th>tree</th>\n",
       "      <th>torch_tree</th>\n",
       "    </tr>\n",
       "  </thead>\n",
       "  <tbody>\n",
       "    <tr>\n",
       "      <th>0</th>\n",
       "      <td>1</td>\n",
       "      <td>Japanese</td>\n",
       "      <td>1</td>\n",
       "      <td>43</td>\n",
       "      <td>[(38, 33), (10, 38), (24, 16), (30, 24), (32, ...</td>\n",
       "      <td>(38, 33, 10, 24, 16, 30, 32, 9, 15, 28, 37, 19...</td>\n",
       "      <td>[(x, [tensor([0.0476, 8.9539, 0.0476, 0.0246])...</td>\n",
       "    </tr>\n",
       "    <tr>\n",
       "      <th>1</th>\n",
       "      <td>2</td>\n",
       "      <td>Japanese</td>\n",
       "      <td>3</td>\n",
       "      <td>49</td>\n",
       "      <td>[(17, 19), (49, 9), (28, 49), (20, 28), (27, 2...</td>\n",
       "      <td>(17, 19, 49, 9, 28, 20, 27, 14, 47, 4, 33, 12,...</td>\n",
       "      <td>[(x, [tensor([0.0625, 9.9951, 0.0824, 0.0316])...</td>\n",
       "    </tr>\n",
       "    <tr>\n",
       "      <th>2</th>\n",
       "      <td>3</td>\n",
       "      <td>Japanese</td>\n",
       "      <td>4</td>\n",
       "      <td>38</td>\n",
       "      <td>[(15, 38), (10, 4), (20, 10), (25, 20), (15, 2...</td>\n",
       "      <td>(15, 38, 10, 4, 20, 25, 7, 12, 8, 19, 2, 24, 3...</td>\n",
       "      <td>[(x, [tensor([ 0.0811, 10.0754,  0.2462,  0.03...</td>\n",
       "    </tr>\n",
       "    <tr>\n",
       "      <th>3</th>\n",
       "      <td>4</td>\n",
       "      <td>Japanese</td>\n",
       "      <td>6</td>\n",
       "      <td>19</td>\n",
       "      <td>[(6, 9), (18, 6), (3, 4), (18, 3), (3, 2), (10...</td>\n",
       "      <td>(6, 9, 18, 3, 4, 2, 10, 11, 5, 7, 8, 13, 15, 1...</td>\n",
       "      <td>[(x, [tensor([0.1111, 5.8365, 0.1111, 0.0573])...</td>\n",
       "    </tr>\n",
       "    <tr>\n",
       "      <th>4</th>\n",
       "      <td>5</td>\n",
       "      <td>Japanese</td>\n",
       "      <td>7</td>\n",
       "      <td>12</td>\n",
       "      <td>[(3, 8), (7, 11), (3, 7), (3, 12), (3, 5), (1,...</td>\n",
       "      <td>(3, 8, 7, 11, 12, 5, 1, 6, 4, 10, 9, 2)</td>\n",
       "      <td>[(x, [tensor([0.4545, 7.1667, 0.7091, 0.2109])...</td>\n",
       "    </tr>\n",
       "  </tbody>\n",
       "</table>\n",
       "</div>"
      ],
      "text/plain": [
       "   id  language  sentence   n  \\\n",
       "0   1  Japanese         1  43   \n",
       "1   2  Japanese         3  49   \n",
       "2   3  Japanese         4  38   \n",
       "3   4  Japanese         6  19   \n",
       "4   5  Japanese         7  12   \n",
       "\n",
       "                                            edgelist  \\\n",
       "0  [(38, 33), (10, 38), (24, 16), (30, 24), (32, ...   \n",
       "1  [(17, 19), (49, 9), (28, 49), (20, 28), (27, 2...   \n",
       "2  [(15, 38), (10, 4), (20, 10), (25, 20), (15, 2...   \n",
       "3  [(6, 9), (18, 6), (3, 4), (18, 3), (3, 2), (10...   \n",
       "4  [(3, 8), (7, 11), (3, 7), (3, 12), (3, 5), (1,...   \n",
       "\n",
       "                                                tree  \\\n",
       "0  (38, 33, 10, 24, 16, 30, 32, 9, 15, 28, 37, 19...   \n",
       "1  (17, 19, 49, 9, 28, 20, 27, 14, 47, 4, 33, 12,...   \n",
       "2  (15, 38, 10, 4, 20, 25, 7, 12, 8, 19, 2, 24, 3...   \n",
       "3  (6, 9, 18, 3, 4, 2, 10, 11, 5, 7, 8, 13, 15, 1...   \n",
       "4            (3, 8, 7, 11, 12, 5, 1, 6, 4, 10, 9, 2)   \n",
       "\n",
       "                                          torch_tree  \n",
       "0  [(x, [tensor([0.0476, 8.9539, 0.0476, 0.0246])...  \n",
       "1  [(x, [tensor([0.0625, 9.9951, 0.0824, 0.0316])...  \n",
       "2  [(x, [tensor([ 0.0811, 10.0754,  0.2462,  0.03...  \n",
       "3  [(x, [tensor([0.1111, 5.8365, 0.1111, 0.0573])...  \n",
       "4  [(x, [tensor([0.4545, 7.1667, 0.7091, 0.2109])...  "
      ]
     },
     "execution_count": 9,
     "metadata": {},
     "output_type": "execute_result"
    }
   ],
   "source": [
    "test_sentences[\"torch_tree\"] = test_sentences.apply(\n",
    "    lambda r: to_torch(r[\"tree\"], node_features=get_node_features(r)), axis=1\n",
    ")\n",
    "test_sentences.head()"
   ]
  },
  {
   "cell_type": "code",
   "execution_count": 10,
   "id": "670d8295",
   "metadata": {},
   "outputs": [
    {
     "data": {
      "application/vnd.microsoft.datawrangler.viewer.v0+json": {
       "columns": [
        {
         "name": "index",
         "rawType": "int64",
         "type": "integer"
        },
        {
         "name": "id",
         "rawType": "int64",
         "type": "integer"
        },
        {
         "name": "language",
         "rawType": "category",
         "type": "unknown"
        },
        {
         "name": "sentence",
         "rawType": "int64",
         "type": "integer"
        },
        {
         "name": "n",
         "rawType": "int64",
         "type": "integer"
        },
        {
         "name": "edgelist",
         "rawType": "object",
         "type": "unknown"
        },
        {
         "name": "tree",
         "rawType": "object",
         "type": "unknown"
        },
        {
         "name": "torch_tree",
         "rawType": "object",
         "type": "unknown"
        },
        {
         "name": "root",
         "rawType": "int64",
         "type": "integer"
        }
       ],
       "conversionMethod": "pd.DataFrame",
       "ref": "1acdfe55-b288-4adc-8762-9c7e134b550a",
       "rows": [
        [
         "0",
         "1",
         "Japanese",
         "1",
         "43",
         "[(38, 33), (10, 38), (24, 16), (30, 24), (32, 30), (9, 32), (10, 9), (10, 15), (28, 10), (37, 28), (28, 19), (2, 17), (37, 2), (12, 36), (40, 12), (26, 40), (21, 26), (13, 21), (20, 13), (37, 20), (14, 37), (31, 14), (14, 1), (8, 31), (23, 8), (29, 23), (39, 29), (11, 39), (6, 11), (25, 5), (25, 41), (25, 43), (25, 34), (25, 22), (25, 35), (3, 25), (4, 3), (42, 7), (27, 42), (6, 27), (18, 6), (4, 18)]",
         "Graph with 43 nodes and 42 edges",
         "Data(x=[43, 4], edge_index=[2, 84], y=[43, 1])",
         "37"
        ],
        [
         "1",
         "2",
         "Japanese",
         "3",
         "49",
         "[(17, 19), (49, 9), (28, 49), (20, 28), (27, 20), (14, 27), (27, 47), (47, 4), (33, 14), (12, 3), (33, 12), (38, 33), (15, 38), (7, 41), (15, 7), (42, 15), (46, 42), (31, 35), (31, 32), (31, 29), (40, 31), (11, 40), (10, 16), (21, 10), (39, 21), (5, 39), (48, 34), (18, 48), (44, 18), (8, 44), (24, 8), (24, 23), (24, 1), (6, 24), (13, 6), (25, 13), (45, 2), (37, 45), (25, 37), (30, 25), (5, 30), (26, 5), (36, 26), (46, 36), (22, 46), (11, 22), (17, 11), (17, 43)]",
         "Graph with 49 nodes and 48 edges",
         "Data(x=[49, 4], edge_index=[2, 96], y=[49, 1])",
         "46"
        ],
        [
         "2",
         "3",
         "Japanese",
         "4",
         "38",
         "[(15, 38), (10, 4), (20, 10), (25, 20), (15, 25), (7, 15), (12, 8), (19, 12), (7, 19), (2, 7), (24, 37), (17, 24), (31, 17), (34, 31), (2, 34), (22, 14), (27, 22), (2, 27), (16, 2), (11, 16), (16, 9), (32, 11), (5, 32), (21, 29), (5, 21), (3, 36), (3, 30), (13, 3), (26, 13), (26, 18), (1, 26), (28, 1), (35, 28), (6, 35), (23, 6), (33, 23), (5, 33)]",
         "Graph with 38 nodes and 37 edges",
         "Data(x=[38, 4], edge_index=[2, 74], y=[38, 1])",
         "2"
        ],
        [
         "3",
         "4",
         "Japanese",
         "6",
         "19",
         "[(6, 9), (18, 6), (3, 4), (18, 3), (3, 2), (10, 18), (11, 10), (5, 7), (11, 5), (5, 8), (13, 11), (15, 13), (17, 16), (14, 17), (19, 14), (12, 19), (1, 12), (15, 1)]",
         "Graph with 19 nodes and 18 edges",
         "Data(x=[19, 4], edge_index=[2, 36], y=[19, 1])",
         "11"
        ],
        [
         "4",
         "5",
         "Japanese",
         "7",
         "12",
         "[(3, 8), (7, 11), (3, 7), (3, 12), (3, 5), (1, 3), (6, 1), (4, 10), (6, 4), (9, 6), (9, 2)]",
         "Graph with 12 nodes and 11 edges",
         "Data(x=[12, 4], edge_index=[2, 22], y=[12, 1])",
         "6"
        ]
       ],
       "shape": {
        "columns": 8,
        "rows": 5
       }
      },
      "text/html": [
       "<div>\n",
       "<style scoped>\n",
       "    .dataframe tbody tr th:only-of-type {\n",
       "        vertical-align: middle;\n",
       "    }\n",
       "\n",
       "    .dataframe tbody tr th {\n",
       "        vertical-align: top;\n",
       "    }\n",
       "\n",
       "    .dataframe thead th {\n",
       "        text-align: right;\n",
       "    }\n",
       "</style>\n",
       "<table border=\"1\" class=\"dataframe\">\n",
       "  <thead>\n",
       "    <tr style=\"text-align: right;\">\n",
       "      <th></th>\n",
       "      <th>id</th>\n",
       "      <th>language</th>\n",
       "      <th>sentence</th>\n",
       "      <th>n</th>\n",
       "      <th>edgelist</th>\n",
       "      <th>tree</th>\n",
       "      <th>torch_tree</th>\n",
       "      <th>root</th>\n",
       "    </tr>\n",
       "  </thead>\n",
       "  <tbody>\n",
       "    <tr>\n",
       "      <th>0</th>\n",
       "      <td>1</td>\n",
       "      <td>Japanese</td>\n",
       "      <td>1</td>\n",
       "      <td>43</td>\n",
       "      <td>[(38, 33), (10, 38), (24, 16), (30, 24), (32, ...</td>\n",
       "      <td>(38, 33, 10, 24, 16, 30, 32, 9, 15, 28, 37, 19...</td>\n",
       "      <td>[(x, [tensor([0.0476, 8.9539, 0.0476, 0.0246])...</td>\n",
       "      <td>37</td>\n",
       "    </tr>\n",
       "    <tr>\n",
       "      <th>1</th>\n",
       "      <td>2</td>\n",
       "      <td>Japanese</td>\n",
       "      <td>3</td>\n",
       "      <td>49</td>\n",
       "      <td>[(17, 19), (49, 9), (28, 49), (20, 28), (27, 2...</td>\n",
       "      <td>(17, 19, 49, 9, 28, 20, 27, 14, 47, 4, 33, 12,...</td>\n",
       "      <td>[(x, [tensor([0.0625, 9.9951, 0.0824, 0.0316])...</td>\n",
       "      <td>46</td>\n",
       "    </tr>\n",
       "    <tr>\n",
       "      <th>2</th>\n",
       "      <td>3</td>\n",
       "      <td>Japanese</td>\n",
       "      <td>4</td>\n",
       "      <td>38</td>\n",
       "      <td>[(15, 38), (10, 4), (20, 10), (25, 20), (15, 2...</td>\n",
       "      <td>(15, 38, 10, 4, 20, 25, 7, 12, 8, 19, 2, 24, 3...</td>\n",
       "      <td>[(x, [tensor([ 0.0811, 10.0754,  0.2462,  0.03...</td>\n",
       "      <td>2</td>\n",
       "    </tr>\n",
       "    <tr>\n",
       "      <th>3</th>\n",
       "      <td>4</td>\n",
       "      <td>Japanese</td>\n",
       "      <td>6</td>\n",
       "      <td>19</td>\n",
       "      <td>[(6, 9), (18, 6), (3, 4), (18, 3), (3, 2), (10...</td>\n",
       "      <td>(6, 9, 18, 3, 4, 2, 10, 11, 5, 7, 8, 13, 15, 1...</td>\n",
       "      <td>[(x, [tensor([0.1111, 5.8365, 0.1111, 0.0573])...</td>\n",
       "      <td>11</td>\n",
       "    </tr>\n",
       "    <tr>\n",
       "      <th>4</th>\n",
       "      <td>5</td>\n",
       "      <td>Japanese</td>\n",
       "      <td>7</td>\n",
       "      <td>12</td>\n",
       "      <td>[(3, 8), (7, 11), (3, 7), (3, 12), (3, 5), (1,...</td>\n",
       "      <td>(3, 8, 7, 11, 12, 5, 1, 6, 4, 10, 9, 2)</td>\n",
       "      <td>[(x, [tensor([0.4545, 7.1667, 0.7091, 0.2109])...</td>\n",
       "      <td>6</td>\n",
       "    </tr>\n",
       "  </tbody>\n",
       "</table>\n",
       "</div>"
      ],
      "text/plain": [
       "   id  language  sentence   n  \\\n",
       "0   1  Japanese         1  43   \n",
       "1   2  Japanese         3  49   \n",
       "2   3  Japanese         4  38   \n",
       "3   4  Japanese         6  19   \n",
       "4   5  Japanese         7  12   \n",
       "\n",
       "                                            edgelist  \\\n",
       "0  [(38, 33), (10, 38), (24, 16), (30, 24), (32, ...   \n",
       "1  [(17, 19), (49, 9), (28, 49), (20, 28), (27, 2...   \n",
       "2  [(15, 38), (10, 4), (20, 10), (25, 20), (15, 2...   \n",
       "3  [(6, 9), (18, 6), (3, 4), (18, 3), (3, 2), (10...   \n",
       "4  [(3, 8), (7, 11), (3, 7), (3, 12), (3, 5), (1,...   \n",
       "\n",
       "                                                tree  \\\n",
       "0  (38, 33, 10, 24, 16, 30, 32, 9, 15, 28, 37, 19...   \n",
       "1  (17, 19, 49, 9, 28, 20, 27, 14, 47, 4, 33, 12,...   \n",
       "2  (15, 38, 10, 4, 20, 25, 7, 12, 8, 19, 2, 24, 3...   \n",
       "3  (6, 9, 18, 3, 4, 2, 10, 11, 5, 7, 8, 13, 15, 1...   \n",
       "4            (3, 8, 7, 11, 12, 5, 1, 6, 4, 10, 9, 2)   \n",
       "\n",
       "                                          torch_tree  root  \n",
       "0  [(x, [tensor([0.0476, 8.9539, 0.0476, 0.0246])...    37  \n",
       "1  [(x, [tensor([0.0625, 9.9951, 0.0824, 0.0316])...    46  \n",
       "2  [(x, [tensor([ 0.0811, 10.0754,  0.2462,  0.03...     2  \n",
       "3  [(x, [tensor([0.1111, 5.8365, 0.1111, 0.0573])...    11  \n",
       "4  [(x, [tensor([0.4545, 7.1667, 0.7091, 0.2109])...     6  "
      ]
     },
     "execution_count": 10,
     "metadata": {},
     "output_type": "execute_result"
    }
   ],
   "source": [
    "def get_root(row: pd.Series):\n",
    "    out = model(row[\"torch_tree\"].x, row[\"torch_tree\"].edge_index)\n",
    "    predicted_index: int = torch.argmax(out, dim=0)[0].item()\n",
    "    # get the node number from the nx tree\n",
    "    node = list(row[\"tree\"].nodes())[predicted_index]\n",
    "    return node\n",
    "\n",
    "\n",
    "with torch.no_grad():\n",
    "    test_sentences[\"root\"] = test_sentences.apply(get_root, axis=1)\n",
    "\n",
    "test_sentences.head()"
   ]
  },
  {
   "cell_type": "code",
   "execution_count": 11,
   "id": "12a6fd11",
   "metadata": {},
   "outputs": [],
   "source": [
    "test_sentences[[\"id\", \"root\"]].to_csv(\"../data/submissions/submission-graph-sage-01.csv\", index=False)"
   ]
  }
 ],
 "metadata": {
  "kernelspec": {
   "display_name": ".venv",
   "language": "python",
   "name": "python3"
  },
  "language_info": {
   "codemirror_mode": {
    "name": "ipython",
    "version": 3
   },
   "file_extension": ".py",
   "mimetype": "text/x-python",
   "name": "python",
   "nbconvert_exporter": "python",
   "pygments_lexer": "ipython3",
   "version": "3.12.3"
  }
 },
 "nbformat": 4,
 "nbformat_minor": 5
}

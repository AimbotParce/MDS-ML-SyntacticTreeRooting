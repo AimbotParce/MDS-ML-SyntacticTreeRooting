{
 "cells": [
  {
   "cell_type": "code",
   "execution_count": 1,
   "id": "4cb66212",
   "metadata": {},
   "outputs": [],
   "source": [
    "import pandas as pd\n",
    "from lib.trees import get_tree, parse_edge_list\n",
    "from lib.dataset import split_training_validation\n",
    "import networkx as nx\n",
    "import random"
   ]
  },
  {
   "cell_type": "code",
   "execution_count": 2,
   "id": "aecdcd28",
   "metadata": {},
   "outputs": [
    {
     "data": {
      "application/vnd.microsoft.datawrangler.viewer.v0+json": {
       "columns": [
        {
         "name": "index",
         "rawType": "int64",
         "type": "integer"
        },
        {
         "name": "language",
         "rawType": "category",
         "type": "unknown"
        },
        {
         "name": "sentence",
         "rawType": "int64",
         "type": "integer"
        },
        {
         "name": "n",
         "rawType": "int64",
         "type": "integer"
        },
        {
         "name": "edgelist",
         "rawType": "object",
         "type": "unknown"
        },
        {
         "name": "root",
         "rawType": "int64",
         "type": "integer"
        },
        {
         "name": "tree",
         "rawType": "object",
         "type": "unknown"
        }
       ],
       "conversionMethod": "pd.DataFrame",
       "ref": "57847b6e-2eed-40c5-be9f-75613490f123",
       "rows": [
        [
         "0",
         "Japanese",
         "2",
         "23",
         "[(6, 4), (2, 6), (2, 23), (20, 2), (15, 20), (3, 5), (14, 3), (8, 14), (12, 8), (15, 12), (9, 15), (18, 9), (13, 18), (19, 13), (21, 19), (19, 1), (1, 22), (10, 21), (16, 7), (17, 16), (10, 17), (10, 11)]",
         "10",
         "Graph with 23 nodes and 22 edges"
        ],
        [
         "1",
         "Japanese",
         "5",
         "18",
         "[(8, 9), (14, 8), (4, 14), (5, 4), (1, 2), (6, 1), (17, 12), (6, 17), (6, 3), (7, 6), (11, 7), (7, 16), (16, 18), (15, 11), (5, 15), (10, 5), (10, 13)]",
         "10",
         "Graph with 18 nodes and 17 edges"
        ],
        [
         "2",
         "Japanese",
         "8",
         "33",
         "[(2, 10), (2, 14), (4, 2), (16, 4), (6, 16), (12, 32), (26, 12), (3, 26), (29, 27), (22, 29), (15, 22), (24, 18), (13, 24), (15, 13), (6, 15), (11, 5), (11, 23), (11, 21), (19, 11), (19, 20), (19, 33), (19, 8), (9, 19), (7, 9), (1, 28), (25, 1), (30, 25), (7, 30), (7, 17), (31, 7), (6, 31), (3, 6)]",
         "3",
         "Graph with 33 nodes and 32 edges"
        ],
        [
         "3",
         "Japanese",
         "11",
         "30",
         "[(30, 1), (14, 24), (21, 14), (3, 21), (7, 3), (12, 7), (7, 27), (27, 16), (8, 5), (26, 8), (6, 26), (12, 6), (25, 12), (22, 25), (25, 18), (18, 15), (15, 28), (22, 29), (19, 22), (23, 19), (13, 23), (10, 13), (11, 2), (30, 11), (17, 20), (9, 17), (4, 9), (10, 4), (30, 10)]",
         "30",
         "Graph with 30 nodes and 29 edges"
        ],
        [
         "4",
         "Japanese",
         "12",
         "19",
         "[(19, 13), (16, 19), (2, 16), (4, 10), (4, 15), (4, 5), (14, 4), (12, 14), (3, 12), (2, 3), (1, 8), (1, 18), (1, 7), (17, 1), (6, 17), (2, 6), (11, 2), (11, 9)]",
         "11",
         "Graph with 19 nodes and 18 edges"
        ]
       ],
       "shape": {
        "columns": 6,
        "rows": 5
       }
      },
      "text/html": [
       "<div>\n",
       "<style scoped>\n",
       "    .dataframe tbody tr th:only-of-type {\n",
       "        vertical-align: middle;\n",
       "    }\n",
       "\n",
       "    .dataframe tbody tr th {\n",
       "        vertical-align: top;\n",
       "    }\n",
       "\n",
       "    .dataframe thead th {\n",
       "        text-align: right;\n",
       "    }\n",
       "</style>\n",
       "<table border=\"1\" class=\"dataframe\">\n",
       "  <thead>\n",
       "    <tr style=\"text-align: right;\">\n",
       "      <th></th>\n",
       "      <th>language</th>\n",
       "      <th>sentence</th>\n",
       "      <th>n</th>\n",
       "      <th>edgelist</th>\n",
       "      <th>root</th>\n",
       "      <th>tree</th>\n",
       "    </tr>\n",
       "  </thead>\n",
       "  <tbody>\n",
       "    <tr>\n",
       "      <th>0</th>\n",
       "      <td>Japanese</td>\n",
       "      <td>2</td>\n",
       "      <td>23</td>\n",
       "      <td>[(6, 4), (2, 6), (2, 23), (20, 2), (15, 20), (...</td>\n",
       "      <td>10</td>\n",
       "      <td>(6, 4, 2, 23, 20, 15, 3, 5, 14, 8, 12, 9, 18, ...</td>\n",
       "    </tr>\n",
       "    <tr>\n",
       "      <th>1</th>\n",
       "      <td>Japanese</td>\n",
       "      <td>5</td>\n",
       "      <td>18</td>\n",
       "      <td>[(8, 9), (14, 8), (4, 14), (5, 4), (1, 2), (6,...</td>\n",
       "      <td>10</td>\n",
       "      <td>(8, 9, 14, 4, 5, 1, 2, 6, 17, 12, 3, 7, 11, 16...</td>\n",
       "    </tr>\n",
       "    <tr>\n",
       "      <th>2</th>\n",
       "      <td>Japanese</td>\n",
       "      <td>8</td>\n",
       "      <td>33</td>\n",
       "      <td>[(2, 10), (2, 14), (4, 2), (16, 4), (6, 16), (...</td>\n",
       "      <td>3</td>\n",
       "      <td>(2, 10, 14, 4, 16, 6, 12, 32, 26, 3, 29, 27, 2...</td>\n",
       "    </tr>\n",
       "    <tr>\n",
       "      <th>3</th>\n",
       "      <td>Japanese</td>\n",
       "      <td>11</td>\n",
       "      <td>30</td>\n",
       "      <td>[(30, 1), (14, 24), (21, 14), (3, 21), (7, 3),...</td>\n",
       "      <td>30</td>\n",
       "      <td>(30, 1, 14, 24, 21, 3, 7, 12, 27, 16, 8, 5, 26...</td>\n",
       "    </tr>\n",
       "    <tr>\n",
       "      <th>4</th>\n",
       "      <td>Japanese</td>\n",
       "      <td>12</td>\n",
       "      <td>19</td>\n",
       "      <td>[(19, 13), (16, 19), (2, 16), (4, 10), (4, 15)...</td>\n",
       "      <td>11</td>\n",
       "      <td>(19, 13, 16, 2, 4, 10, 15, 5, 14, 12, 3, 1, 8,...</td>\n",
       "    </tr>\n",
       "  </tbody>\n",
       "</table>\n",
       "</div>"
      ],
      "text/plain": [
       "   language  sentence   n                                           edgelist  \\\n",
       "0  Japanese         2  23  [(6, 4), (2, 6), (2, 23), (20, 2), (15, 20), (...   \n",
       "1  Japanese         5  18  [(8, 9), (14, 8), (4, 14), (5, 4), (1, 2), (6,...   \n",
       "2  Japanese         8  33  [(2, 10), (2, 14), (4, 2), (16, 4), (6, 16), (...   \n",
       "3  Japanese        11  30  [(30, 1), (14, 24), (21, 14), (3, 21), (7, 3),...   \n",
       "4  Japanese        12  19  [(19, 13), (16, 19), (2, 16), (4, 10), (4, 15)...   \n",
       "\n",
       "   root                                               tree  \n",
       "0    10  (6, 4, 2, 23, 20, 15, 3, 5, 14, 8, 12, 9, 18, ...  \n",
       "1    10  (8, 9, 14, 4, 5, 1, 2, 6, 17, 12, 3, 7, 11, 16...  \n",
       "2     3  (2, 10, 14, 4, 16, 6, 12, 32, 26, 3, 29, 27, 2...  \n",
       "3    30  (30, 1, 14, 24, 21, 3, 7, 12, 27, 16, 8, 5, 26...  \n",
       "4    11  (19, 13, 16, 2, 4, 10, 15, 5, 14, 12, 3, 1, 8,...  "
      ]
     },
     "execution_count": 2,
     "metadata": {},
     "output_type": "execute_result"
    }
   ],
   "source": [
    "sentences = pd.read_csv(\"../data/train.csv\")\n",
    "sentences[\"language\"] = sentences[\"language\"].astype(\"category\")\n",
    "sentences[\"edgelist\"] = sentences[\"edgelist\"].apply(parse_edge_list)\n",
    "sentences[\"tree\"] = sentences[\"edgelist\"].apply(get_tree)\n",
    "sentences.head()"
   ]
  },
  {
   "cell_type": "code",
   "execution_count": 3,
   "id": "12fbeb12",
   "metadata": {},
   "outputs": [
    {
     "name": "stdout",
     "output_type": "stream",
     "text": [
      "Training set size: 8400\n",
      "Validation set size: 2100\n"
     ]
    }
   ],
   "source": [
    "random.seed(42)\n",
    "training, validation = split_training_validation(sentences, 0.2)\n",
    "\n",
    "print(\"Training set size:\", len(training))\n",
    "print(\"Validation set size:\", len(validation))"
   ]
  },
  {
   "cell_type": "markdown",
   "id": "f02277e1",
   "metadata": {},
   "source": [
    "Our first approach will be the example given by the statement. We'll unwind the the tree into a list of nodes, each\n",
    "with a set of centrality scores."
   ]
  },
  {
   "cell_type": "code",
   "execution_count": 4,
   "id": "1ee6db9d",
   "metadata": {},
   "outputs": [],
   "source": [
    "def unwind_tree(row:pd.Series) -> pd.DataFrame:\n",
    "    \"\"\"\n",
    "    Unwind a tree into a list of nodes, with their centrality scores.\n",
    "    \"\"\"\n",
    "    tree = row[\"tree\"]\n",
    "    root_node = row[\"root\"]\n",
    "    language = row[\"language\"]\n",
    "    degree_centrality = nx.degree_centrality(tree)\n",
    "    harmonic_centrality = nx.harmonic_centrality(tree)\n",
    "    betweenness_centrality = nx.betweenness_centrality(tree)\n",
    "    pagerank = nx.pagerank(tree)\n",
    "\n",
    "    rows = []\n",
    "    for node in tree:\n",
    "        rows.append({\n",
    "            \"node\": node,\n",
    "            \"degree_centrality\": degree_centrality[node],\n",
    "            \"harmonic_centrality\": harmonic_centrality[node],\n",
    "            \"betweenness_centrality\": betweenness_centrality[node],\n",
    "            \"pagerank\": pagerank[node],\n",
    "            \"language\": language,\n",
    "            \"row_index\": row.name,\n",
    "            \"is_root\": node == root_node,\n",
    "        })\n",
    "    return pd.DataFrame(rows)"
   ]
  },
  {
   "cell_type": "code",
   "execution_count": 5,
   "id": "ef14ef3c",
   "metadata": {},
   "outputs": [
    {
     "data": {
      "application/vnd.microsoft.datawrangler.viewer.v0+json": {
       "columns": [
        {
         "name": "index",
         "rawType": "int64",
         "type": "integer"
        },
        {
         "name": "node",
         "rawType": "int64",
         "type": "integer"
        },
        {
         "name": "degree_centrality",
         "rawType": "float64",
         "type": "float"
        },
        {
         "name": "harmonic_centrality",
         "rawType": "float64",
         "type": "float"
        },
        {
         "name": "betweenness_centrality",
         "rawType": "float64",
         "type": "float"
        },
        {
         "name": "pagerank",
         "rawType": "float64",
         "type": "float"
        },
        {
         "name": "language",
         "rawType": "object",
         "type": "string"
        },
        {
         "name": "row_index",
         "rawType": "int64",
         "type": "integer"
        },
        {
         "name": "is_root",
         "rawType": "bool",
         "type": "boolean"
        }
       ],
       "conversionMethod": "pd.DataFrame",
       "ref": "9c112938-d0f8-4981-b6db-c988c00275bb",
       "rows": [
        [
         "0",
         "6",
         "0.09090909090909091",
         "5.823845598845598",
         "0.09090909090909091",
         "0.048565141080219976",
         "Japanese",
         "0",
         "False"
        ],
        [
         "1",
         "4",
         "0.045454545454545456",
         "4.5611222111222105",
         "0.0",
         "0.027161554598708226",
         "Japanese",
         "0",
         "False"
        ],
        [
         "2",
         "2",
         "0.13636363636363635",
         "6.991702741702742",
         "0.2554112554112554",
         "0.06690120061491789",
         "Japanese",
         "0",
         "False"
        ],
        [
         "3",
         "23",
         "0.045454545454545456",
         "5.157178932178932",
         "0.0",
         "0.025477451147481248",
         "Japanese",
         "0",
         "False"
        ],
        [
         "4",
         "20",
         "0.09090909090909091",
         "7.146825396825397",
         "0.3116883116883117",
         "0.04255190868541363",
         "Japanese",
         "0",
         "False"
        ],
        [
         "5",
         "15",
         "0.13636363636363635",
         "8.038492063492063",
         "0.6277056277056277",
         "0.060261435514610134",
         "Japanese",
         "0",
         "False"
        ],
        [
         "6",
         "3",
         "0.09090909090909091",
         "5.259534909534909",
         "0.09090909090909091",
         "0.04987268389188032",
         "Japanese",
         "0",
         "False"
        ],
        [
         "7",
         "5",
         "0.045454545454545456",
         "4.196439671439672",
         "0.0",
         "0.02771800817141414",
         "Japanese",
         "0",
         "False"
        ],
        [
         "8",
         "14",
         "0.09090909090909091",
         "5.865512265512265",
         "0.17316017316017315",
         "0.04656798733922507",
         "Japanese",
         "0",
         "False"
        ],
        [
         "9",
         "8",
         "0.09090909090909091",
         "6.382178932178932",
         "0.24675324675324675",
         "0.04435199799285512",
         "Japanese",
         "0",
         "False"
        ],
        [
         "10",
         "12",
         "0.09090909090909091",
         "6.98015873015873",
         "0.3116883116883117",
         "0.04244617583617809",
         "Japanese",
         "0",
         "False"
        ],
        [
         "11",
         "9",
         "0.09090909090909091",
         "7.317857142857143",
         "0.5238095238095238",
         "0.04145097507717242",
         "Japanese",
         "0",
         "False"
        ],
        [
         "12",
         "18",
         "0.09090909090909091",
         "7.119047619047619",
         "0.5194805194805194",
         "0.042010288283212224",
         "Japanese",
         "0",
         "False"
        ],
        [
         "13",
         "13",
         "0.09090909090909091",
         "7.177380952380952",
         "0.5064935064935064",
         "0.04205340475670068",
         "Japanese",
         "0",
         "False"
        ],
        [
         "14",
         "19",
         "0.13636363636363635",
         "7.723015873015874",
         "0.5367965367965368",
         "0.06238750055570512",
         "Japanese",
         "0",
         "False"
        ],
        [
         "15",
         "21",
         "0.09090909090909091",
         "7.016269841269841",
         "0.36796536796536794",
         "0.04283538785975409",
         "Japanese",
         "0",
         "False"
        ],
        [
         "16",
         "1",
         "0.09090909090909091",
         "6.299603174603175",
         "0.09090909090909091",
         "0.04656308277356848",
         "Japanese",
         "0",
         "False"
        ],
        [
         "17",
         "22",
         "0.045454545454545456",
         "4.902813852813853",
         "0.0",
         "0.026310619760514544",
         "Japanese",
         "0",
         "False"
        ],
        [
         "18",
         "10",
         "0.13636363636363635",
         "7.026623376623377",
         "0.3246753246753247",
         "0.06577522647283801",
         "Japanese",
         "0",
         "True"
        ],
        [
         "19",
         "16",
         "0.09090909090909091",
         "5.356396381396381",
         "0.09090909090909091",
         "0.04967476582064123",
         "Japanese",
         "0",
         "False"
        ],
        [
         "20",
         "7",
         "0.045454545454545456",
         "4.2455849705849715",
         "0.0",
         "0.02763397080641855",
         "Japanese",
         "0",
         "False"
        ],
        [
         "21",
         "17",
         "0.09090909090909091",
         "6.08023088023088",
         "0.17316017316017315",
         "0.04627073231827722",
         "Japanese",
         "0",
         "False"
        ],
        [
         "22",
         "11",
         "0.045454545454545456",
         "5.1635642135642135",
         "0.0",
         "0.02515850064229346",
         "Japanese",
         "0",
         "False"
        ],
        [
         "23",
         "8",
         "0.11764705882352941",
         "4.907936507936509",
         "0.11764705882352941",
         "0.06365301981921957",
         "Japanese",
         "1",
         "False"
        ],
        [
         "24",
         "9",
         "0.058823529411764705",
         "3.853968253968254",
         "0.0",
         "0.03538658957369038",
         "Japanese",
         "1",
         "False"
        ],
        [
         "25",
         "14",
         "0.11764705882352941",
         "5.521428571428572",
         "0.22058823529411764",
         "0.059394063987162876",
         "Japanese",
         "1",
         "False"
        ],
        [
         "26",
         "4",
         "0.11764705882352941",
         "6.102380952380954",
         "0.3088235294117647",
         "0.056486906898897765",
         "Japanese",
         "1",
         "False"
        ],
        [
         "27",
         "5",
         "0.1764705882352941",
         "7.050000000000001",
         "0.5441176470588235",
         "0.08086636244406845",
         "Japanese",
         "1",
         "False"
        ],
        [
         "28",
         "1",
         "0.11764705882352941",
         "6.05515873015873",
         "0.11764705882352941",
         "0.06041733502152334",
         "Japanese",
         "1",
         "False"
        ],
        [
         "29",
         "2",
         "0.058823529411764705",
         "4.563492063492063",
         "0.0",
         "0.03401019198649035",
         "Japanese",
         "1",
         "False"
        ],
        [
         "30",
         "6",
         "0.23529411764705882",
         "7.917857142857144",
         "0.5",
         "0.10905579258110103",
         "Japanese",
         "1",
         "False"
        ],
        [
         "31",
         "17",
         "0.11764705882352941",
         "6.055158730158731",
         "0.11764705882352941",
         "0.06041733502152334",
         "Japanese",
         "1",
         "False"
        ],
        [
         "32",
         "12",
         "0.058823529411764705",
         "4.563492063492064",
         "0.0",
         "0.03401019198649035",
         "Japanese",
         "1",
         "False"
        ],
        [
         "33",
         "3",
         "0.058823529411764705",
         "5.3884920634920634",
         "0.0",
         "0.031508148540578984",
         "Japanese",
         "1",
         "False"
        ],
        [
         "34",
         "7",
         "0.1764705882352941",
         "7.70952380952381",
         "0.6176470588235294",
         "0.07972088567911317",
         "Japanese",
         "1",
         "False"
        ],
        [
         "35",
         "11",
         "0.11764705882352941",
         "6.866666666666666",
         "0.5294117647058824",
         "0.05394352893091868",
         "Japanese",
         "1",
         "False"
        ],
        [
         "36",
         "16",
         "0.11764705882352941",
         "6.084523809523809",
         "0.11764705882352941",
         "0.05949729465327343",
         "Japanese",
         "1",
         "False"
        ],
        [
         "37",
         "18",
         "0.058823529411764705",
         "4.621825396825397",
         "0.0",
         "0.033620006989827214",
         "Japanese",
         "1",
         "False"
        ],
        [
         "38",
         "15",
         "0.11764705882352941",
         "6.683333333333334",
         "0.5147058823529411",
         "0.05417114191729479",
         "Japanese",
         "1",
         "False"
        ],
        [
         "39",
         "10",
         "0.11764705882352941",
         "5.71904761904762",
         "0.11764705882352941",
         "0.06000522011202179",
         "Japanese",
         "1",
         "True"
        ],
        [
         "40",
         "13",
         "0.058823529411764705",
         "4.388095238095239",
         "0.0",
         "0.03383598385680441",
         "Japanese",
         "1",
         "False"
        ],
        [
         "41",
         "2",
         "0.09375",
         "8.167063492063493",
         "0.12298387096774194",
         "0.04871739852213978",
         "Japanese",
         "2",
         "False"
        ],
        [
         "42",
         "10",
         "0.03125",
         "6.287698412698413",
         "0.0",
         "0.018347935017671624",
         "Japanese",
         "2",
         "False"
        ],
        [
         "43",
         "14",
         "0.03125",
         "6.287698412698413",
         "0.0",
         "0.018347935017671624",
         "Japanese",
         "2",
         "False"
        ],
        [
         "44",
         "4",
         "0.0625",
         "8.747619047619049",
         "0.1754032258064516",
         "0.030536812519204724",
         "Japanese",
         "2",
         "False"
        ],
        [
         "45",
         "16",
         "0.0625",
         "9.904761904761903",
         "0.22580645161290322",
         "0.028681185253029567",
         "Japanese",
         "2",
         "False"
        ],
        [
         "46",
         "6",
         "0.125",
         "12.25",
         "0.6834677419354839",
         "0.052500462192037904",
         "Japanese",
         "2",
         "False"
        ],
        [
         "47",
         "12",
         "0.0625",
         "7.309920634920636",
         "0.0625",
         "0.034014250421576",
         "Japanese",
         "2",
         "False"
        ],
        [
         "48",
         "32",
         "0.03125",
         "5.912698412698413",
         "0.0",
         "0.019000934448303128",
         "Japanese",
         "2",
         "False"
        ],
        [
         "49",
         "26",
         "0.0625",
         "8.414285714285715",
         "0.12096774193548387",
         "0.03133377871513833",
         "Japanese",
         "2",
         "False"
        ]
       ],
       "shape": {
        "columns": 8,
        "rows": 157588
       }
      },
      "text/html": [
       "<div>\n",
       "<style scoped>\n",
       "    .dataframe tbody tr th:only-of-type {\n",
       "        vertical-align: middle;\n",
       "    }\n",
       "\n",
       "    .dataframe tbody tr th {\n",
       "        vertical-align: top;\n",
       "    }\n",
       "\n",
       "    .dataframe thead th {\n",
       "        text-align: right;\n",
       "    }\n",
       "</style>\n",
       "<table border=\"1\" class=\"dataframe\">\n",
       "  <thead>\n",
       "    <tr style=\"text-align: right;\">\n",
       "      <th></th>\n",
       "      <th>node</th>\n",
       "      <th>degree_centrality</th>\n",
       "      <th>harmonic_centrality</th>\n",
       "      <th>betweenness_centrality</th>\n",
       "      <th>pagerank</th>\n",
       "      <th>language</th>\n",
       "      <th>row_index</th>\n",
       "      <th>is_root</th>\n",
       "    </tr>\n",
       "  </thead>\n",
       "  <tbody>\n",
       "    <tr>\n",
       "      <th>0</th>\n",
       "      <td>6</td>\n",
       "      <td>0.090909</td>\n",
       "      <td>5.823846</td>\n",
       "      <td>0.090909</td>\n",
       "      <td>0.048565</td>\n",
       "      <td>Japanese</td>\n",
       "      <td>0</td>\n",
       "      <td>False</td>\n",
       "    </tr>\n",
       "    <tr>\n",
       "      <th>1</th>\n",
       "      <td>4</td>\n",
       "      <td>0.045455</td>\n",
       "      <td>4.561122</td>\n",
       "      <td>0.000000</td>\n",
       "      <td>0.027162</td>\n",
       "      <td>Japanese</td>\n",
       "      <td>0</td>\n",
       "      <td>False</td>\n",
       "    </tr>\n",
       "    <tr>\n",
       "      <th>2</th>\n",
       "      <td>2</td>\n",
       "      <td>0.136364</td>\n",
       "      <td>6.991703</td>\n",
       "      <td>0.255411</td>\n",
       "      <td>0.066901</td>\n",
       "      <td>Japanese</td>\n",
       "      <td>0</td>\n",
       "      <td>False</td>\n",
       "    </tr>\n",
       "    <tr>\n",
       "      <th>3</th>\n",
       "      <td>23</td>\n",
       "      <td>0.045455</td>\n",
       "      <td>5.157179</td>\n",
       "      <td>0.000000</td>\n",
       "      <td>0.025477</td>\n",
       "      <td>Japanese</td>\n",
       "      <td>0</td>\n",
       "      <td>False</td>\n",
       "    </tr>\n",
       "    <tr>\n",
       "      <th>4</th>\n",
       "      <td>20</td>\n",
       "      <td>0.090909</td>\n",
       "      <td>7.146825</td>\n",
       "      <td>0.311688</td>\n",
       "      <td>0.042552</td>\n",
       "      <td>Japanese</td>\n",
       "      <td>0</td>\n",
       "      <td>False</td>\n",
       "    </tr>\n",
       "    <tr>\n",
       "      <th>...</th>\n",
       "      <td>...</td>\n",
       "      <td>...</td>\n",
       "      <td>...</td>\n",
       "      <td>...</td>\n",
       "      <td>...</td>\n",
       "      <td>...</td>\n",
       "      <td>...</td>\n",
       "      <td>...</td>\n",
       "    </tr>\n",
       "    <tr>\n",
       "      <th>157583</th>\n",
       "      <td>19</td>\n",
       "      <td>0.055556</td>\n",
       "      <td>5.005159</td>\n",
       "      <td>0.000000</td>\n",
       "      <td>0.032147</td>\n",
       "      <td>Russian</td>\n",
       "      <td>10499</td>\n",
       "      <td>False</td>\n",
       "    </tr>\n",
       "    <tr>\n",
       "      <th>157584</th>\n",
       "      <td>1</td>\n",
       "      <td>0.055556</td>\n",
       "      <td>6.034524</td>\n",
       "      <td>0.000000</td>\n",
       "      <td>0.029739</td>\n",
       "      <td>Russian</td>\n",
       "      <td>10499</td>\n",
       "      <td>False</td>\n",
       "    </tr>\n",
       "    <tr>\n",
       "      <th>157585</th>\n",
       "      <td>14</td>\n",
       "      <td>0.055556</td>\n",
       "      <td>6.034524</td>\n",
       "      <td>0.000000</td>\n",
       "      <td>0.029739</td>\n",
       "      <td>Russian</td>\n",
       "      <td>10499</td>\n",
       "      <td>False</td>\n",
       "    </tr>\n",
       "    <tr>\n",
       "      <th>157586</th>\n",
       "      <td>5</td>\n",
       "      <td>0.111111</td>\n",
       "      <td>6.701190</td>\n",
       "      <td>0.111111</td>\n",
       "      <td>0.057065</td>\n",
       "      <td>Russian</td>\n",
       "      <td>10499</td>\n",
       "      <td>False</td>\n",
       "    </tr>\n",
       "    <tr>\n",
       "      <th>157587</th>\n",
       "      <td>16</td>\n",
       "      <td>0.055556</td>\n",
       "      <td>5.005159</td>\n",
       "      <td>0.000000</td>\n",
       "      <td>0.032147</td>\n",
       "      <td>Russian</td>\n",
       "      <td>10499</td>\n",
       "      <td>False</td>\n",
       "    </tr>\n",
       "  </tbody>\n",
       "</table>\n",
       "<p>157588 rows × 8 columns</p>\n",
       "</div>"
      ],
      "text/plain": [
       "        node  degree_centrality  harmonic_centrality  betweenness_centrality  \\\n",
       "0          6           0.090909             5.823846                0.090909   \n",
       "1          4           0.045455             4.561122                0.000000   \n",
       "2          2           0.136364             6.991703                0.255411   \n",
       "3         23           0.045455             5.157179                0.000000   \n",
       "4         20           0.090909             7.146825                0.311688   \n",
       "...      ...                ...                  ...                     ...   \n",
       "157583    19           0.055556             5.005159                0.000000   \n",
       "157584     1           0.055556             6.034524                0.000000   \n",
       "157585    14           0.055556             6.034524                0.000000   \n",
       "157586     5           0.111111             6.701190                0.111111   \n",
       "157587    16           0.055556             5.005159                0.000000   \n",
       "\n",
       "        pagerank  language  row_index  is_root  \n",
       "0       0.048565  Japanese          0    False  \n",
       "1       0.027162  Japanese          0    False  \n",
       "2       0.066901  Japanese          0    False  \n",
       "3       0.025477  Japanese          0    False  \n",
       "4       0.042552  Japanese          0    False  \n",
       "...          ...       ...        ...      ...  \n",
       "157583  0.032147   Russian      10499    False  \n",
       "157584  0.029739   Russian      10499    False  \n",
       "157585  0.029739   Russian      10499    False  \n",
       "157586  0.057065   Russian      10499    False  \n",
       "157587  0.032147   Russian      10499    False  \n",
       "\n",
       "[157588 rows x 8 columns]"
      ]
     },
     "execution_count": 5,
     "metadata": {},
     "output_type": "execute_result"
    }
   ],
   "source": [
    "validation_unwound = pd.concat(validation.apply(unwind_tree, axis=1).tolist(), ignore_index=True)\n",
    "training_unwound = pd.concat(training.apply(unwind_tree, axis=1).tolist(), ignore_index=True)\n",
    "training_unwound"
   ]
  },
  {
   "cell_type": "code",
   "execution_count": 6,
   "id": "e2d7f5db",
   "metadata": {},
   "outputs": [
    {
     "name": "stdout",
     "output_type": "stream",
     "text": [
      "Training unwound size: 157588\n",
      "Validation unwound size: 39891\n"
     ]
    }
   ],
   "source": [
    "print(\"Training unwound size:\", len(training_unwound))\n",
    "print(\"Validation unwound size:\", len(validation_unwound))"
   ]
  },
  {
   "cell_type": "code",
   "execution_count": 7,
   "id": "8d609fd1",
   "metadata": {},
   "outputs": [
    {
     "data": {
      "application/vnd.microsoft.datawrangler.viewer.v0+json": {
       "columns": [
        {
         "name": "index",
         "rawType": "int64",
         "type": "integer"
        },
        {
         "name": "degree_centrality",
         "rawType": "float64",
         "type": "float"
        },
        {
         "name": "harmonic_centrality",
         "rawType": "float64",
         "type": "float"
        },
        {
         "name": "betweenness_centrality",
         "rawType": "float64",
         "type": "float"
        },
        {
         "name": "pagerank",
         "rawType": "float64",
         "type": "float"
        },
        {
         "name": "language_Arabic",
         "rawType": "bool",
         "type": "boolean"
        },
        {
         "name": "language_Chinese",
         "rawType": "bool",
         "type": "boolean"
        },
        {
         "name": "language_Czech",
         "rawType": "bool",
         "type": "boolean"
        },
        {
         "name": "language_English",
         "rawType": "bool",
         "type": "boolean"
        },
        {
         "name": "language_Finnish",
         "rawType": "bool",
         "type": "boolean"
        },
        {
         "name": "language_French",
         "rawType": "bool",
         "type": "boolean"
        },
        {
         "name": "language_Galician",
         "rawType": "bool",
         "type": "boolean"
        },
        {
         "name": "language_German",
         "rawType": "bool",
         "type": "boolean"
        },
        {
         "name": "language_Hindi",
         "rawType": "bool",
         "type": "boolean"
        },
        {
         "name": "language_Icelandic",
         "rawType": "bool",
         "type": "boolean"
        },
        {
         "name": "language_Indonesian",
         "rawType": "bool",
         "type": "boolean"
        },
        {
         "name": "language_Italian",
         "rawType": "bool",
         "type": "boolean"
        },
        {
         "name": "language_Japanese",
         "rawType": "bool",
         "type": "boolean"
        },
        {
         "name": "language_Korean",
         "rawType": "bool",
         "type": "boolean"
        },
        {
         "name": "language_Polish",
         "rawType": "bool",
         "type": "boolean"
        },
        {
         "name": "language_Portuguese",
         "rawType": "bool",
         "type": "boolean"
        },
        {
         "name": "language_Russian",
         "rawType": "bool",
         "type": "boolean"
        },
        {
         "name": "language_Spanish",
         "rawType": "bool",
         "type": "boolean"
        },
        {
         "name": "language_Swedish",
         "rawType": "bool",
         "type": "boolean"
        },
        {
         "name": "language_Thai",
         "rawType": "bool",
         "type": "boolean"
        },
        {
         "name": "language_Turkish",
         "rawType": "bool",
         "type": "boolean"
        }
       ],
       "conversionMethod": "pd.DataFrame",
       "ref": "2ac88918-d941-41bb-9a06-bbbebf0a07ff",
       "rows": [
        [
         "0",
         "0.09090909090909091",
         "5.823845598845598",
         "0.09090909090909091",
         "0.048565141080219976",
         "False",
         "False",
         "False",
         "False",
         "False",
         "False",
         "False",
         "False",
         "False",
         "False",
         "False",
         "False",
         "True",
         "False",
         "False",
         "False",
         "False",
         "False",
         "False",
         "False",
         "False"
        ],
        [
         "1",
         "0.045454545454545456",
         "4.5611222111222105",
         "0.0",
         "0.027161554598708226",
         "False",
         "False",
         "False",
         "False",
         "False",
         "False",
         "False",
         "False",
         "False",
         "False",
         "False",
         "False",
         "True",
         "False",
         "False",
         "False",
         "False",
         "False",
         "False",
         "False",
         "False"
        ],
        [
         "2",
         "0.13636363636363635",
         "6.991702741702742",
         "0.2554112554112554",
         "0.06690120061491789",
         "False",
         "False",
         "False",
         "False",
         "False",
         "False",
         "False",
         "False",
         "False",
         "False",
         "False",
         "False",
         "True",
         "False",
         "False",
         "False",
         "False",
         "False",
         "False",
         "False",
         "False"
        ],
        [
         "3",
         "0.045454545454545456",
         "5.157178932178932",
         "0.0",
         "0.025477451147481248",
         "False",
         "False",
         "False",
         "False",
         "False",
         "False",
         "False",
         "False",
         "False",
         "False",
         "False",
         "False",
         "True",
         "False",
         "False",
         "False",
         "False",
         "False",
         "False",
         "False",
         "False"
        ],
        [
         "4",
         "0.09090909090909091",
         "7.146825396825397",
         "0.3116883116883117",
         "0.04255190868541363",
         "False",
         "False",
         "False",
         "False",
         "False",
         "False",
         "False",
         "False",
         "False",
         "False",
         "False",
         "False",
         "True",
         "False",
         "False",
         "False",
         "False",
         "False",
         "False",
         "False",
         "False"
        ]
       ],
       "shape": {
        "columns": 25,
        "rows": 5
       }
      },
      "text/html": [
       "<div>\n",
       "<style scoped>\n",
       "    .dataframe tbody tr th:only-of-type {\n",
       "        vertical-align: middle;\n",
       "    }\n",
       "\n",
       "    .dataframe tbody tr th {\n",
       "        vertical-align: top;\n",
       "    }\n",
       "\n",
       "    .dataframe thead th {\n",
       "        text-align: right;\n",
       "    }\n",
       "</style>\n",
       "<table border=\"1\" class=\"dataframe\">\n",
       "  <thead>\n",
       "    <tr style=\"text-align: right;\">\n",
       "      <th></th>\n",
       "      <th>degree_centrality</th>\n",
       "      <th>harmonic_centrality</th>\n",
       "      <th>betweenness_centrality</th>\n",
       "      <th>pagerank</th>\n",
       "      <th>language_Arabic</th>\n",
       "      <th>language_Chinese</th>\n",
       "      <th>language_Czech</th>\n",
       "      <th>language_English</th>\n",
       "      <th>language_Finnish</th>\n",
       "      <th>language_French</th>\n",
       "      <th>...</th>\n",
       "      <th>language_Italian</th>\n",
       "      <th>language_Japanese</th>\n",
       "      <th>language_Korean</th>\n",
       "      <th>language_Polish</th>\n",
       "      <th>language_Portuguese</th>\n",
       "      <th>language_Russian</th>\n",
       "      <th>language_Spanish</th>\n",
       "      <th>language_Swedish</th>\n",
       "      <th>language_Thai</th>\n",
       "      <th>language_Turkish</th>\n",
       "    </tr>\n",
       "  </thead>\n",
       "  <tbody>\n",
       "    <tr>\n",
       "      <th>0</th>\n",
       "      <td>0.090909</td>\n",
       "      <td>5.823846</td>\n",
       "      <td>0.090909</td>\n",
       "      <td>0.048565</td>\n",
       "      <td>False</td>\n",
       "      <td>False</td>\n",
       "      <td>False</td>\n",
       "      <td>False</td>\n",
       "      <td>False</td>\n",
       "      <td>False</td>\n",
       "      <td>...</td>\n",
       "      <td>False</td>\n",
       "      <td>True</td>\n",
       "      <td>False</td>\n",
       "      <td>False</td>\n",
       "      <td>False</td>\n",
       "      <td>False</td>\n",
       "      <td>False</td>\n",
       "      <td>False</td>\n",
       "      <td>False</td>\n",
       "      <td>False</td>\n",
       "    </tr>\n",
       "    <tr>\n",
       "      <th>1</th>\n",
       "      <td>0.045455</td>\n",
       "      <td>4.561122</td>\n",
       "      <td>0.000000</td>\n",
       "      <td>0.027162</td>\n",
       "      <td>False</td>\n",
       "      <td>False</td>\n",
       "      <td>False</td>\n",
       "      <td>False</td>\n",
       "      <td>False</td>\n",
       "      <td>False</td>\n",
       "      <td>...</td>\n",
       "      <td>False</td>\n",
       "      <td>True</td>\n",
       "      <td>False</td>\n",
       "      <td>False</td>\n",
       "      <td>False</td>\n",
       "      <td>False</td>\n",
       "      <td>False</td>\n",
       "      <td>False</td>\n",
       "      <td>False</td>\n",
       "      <td>False</td>\n",
       "    </tr>\n",
       "    <tr>\n",
       "      <th>2</th>\n",
       "      <td>0.136364</td>\n",
       "      <td>6.991703</td>\n",
       "      <td>0.255411</td>\n",
       "      <td>0.066901</td>\n",
       "      <td>False</td>\n",
       "      <td>False</td>\n",
       "      <td>False</td>\n",
       "      <td>False</td>\n",
       "      <td>False</td>\n",
       "      <td>False</td>\n",
       "      <td>...</td>\n",
       "      <td>False</td>\n",
       "      <td>True</td>\n",
       "      <td>False</td>\n",
       "      <td>False</td>\n",
       "      <td>False</td>\n",
       "      <td>False</td>\n",
       "      <td>False</td>\n",
       "      <td>False</td>\n",
       "      <td>False</td>\n",
       "      <td>False</td>\n",
       "    </tr>\n",
       "    <tr>\n",
       "      <th>3</th>\n",
       "      <td>0.045455</td>\n",
       "      <td>5.157179</td>\n",
       "      <td>0.000000</td>\n",
       "      <td>0.025477</td>\n",
       "      <td>False</td>\n",
       "      <td>False</td>\n",
       "      <td>False</td>\n",
       "      <td>False</td>\n",
       "      <td>False</td>\n",
       "      <td>False</td>\n",
       "      <td>...</td>\n",
       "      <td>False</td>\n",
       "      <td>True</td>\n",
       "      <td>False</td>\n",
       "      <td>False</td>\n",
       "      <td>False</td>\n",
       "      <td>False</td>\n",
       "      <td>False</td>\n",
       "      <td>False</td>\n",
       "      <td>False</td>\n",
       "      <td>False</td>\n",
       "    </tr>\n",
       "    <tr>\n",
       "      <th>4</th>\n",
       "      <td>0.090909</td>\n",
       "      <td>7.146825</td>\n",
       "      <td>0.311688</td>\n",
       "      <td>0.042552</td>\n",
       "      <td>False</td>\n",
       "      <td>False</td>\n",
       "      <td>False</td>\n",
       "      <td>False</td>\n",
       "      <td>False</td>\n",
       "      <td>False</td>\n",
       "      <td>...</td>\n",
       "      <td>False</td>\n",
       "      <td>True</td>\n",
       "      <td>False</td>\n",
       "      <td>False</td>\n",
       "      <td>False</td>\n",
       "      <td>False</td>\n",
       "      <td>False</td>\n",
       "      <td>False</td>\n",
       "      <td>False</td>\n",
       "      <td>False</td>\n",
       "    </tr>\n",
       "  </tbody>\n",
       "</table>\n",
       "<p>5 rows × 25 columns</p>\n",
       "</div>"
      ],
      "text/plain": [
       "   degree_centrality  harmonic_centrality  betweenness_centrality  pagerank  \\\n",
       "0           0.090909             5.823846                0.090909  0.048565   \n",
       "1           0.045455             4.561122                0.000000  0.027162   \n",
       "2           0.136364             6.991703                0.255411  0.066901   \n",
       "3           0.045455             5.157179                0.000000  0.025477   \n",
       "4           0.090909             7.146825                0.311688  0.042552   \n",
       "\n",
       "   language_Arabic  language_Chinese  language_Czech  language_English  \\\n",
       "0            False             False           False             False   \n",
       "1            False             False           False             False   \n",
       "2            False             False           False             False   \n",
       "3            False             False           False             False   \n",
       "4            False             False           False             False   \n",
       "\n",
       "   language_Finnish  language_French  ...  language_Italian  \\\n",
       "0             False            False  ...             False   \n",
       "1             False            False  ...             False   \n",
       "2             False            False  ...             False   \n",
       "3             False            False  ...             False   \n",
       "4             False            False  ...             False   \n",
       "\n",
       "   language_Japanese  language_Korean  language_Polish  language_Portuguese  \\\n",
       "0               True            False            False                False   \n",
       "1               True            False            False                False   \n",
       "2               True            False            False                False   \n",
       "3               True            False            False                False   \n",
       "4               True            False            False                False   \n",
       "\n",
       "   language_Russian  language_Spanish  language_Swedish  language_Thai  \\\n",
       "0             False             False             False          False   \n",
       "1             False             False             False          False   \n",
       "2             False             False             False          False   \n",
       "3             False             False             False          False   \n",
       "4             False             False             False          False   \n",
       "\n",
       "   language_Turkish  \n",
       "0             False  \n",
       "1             False  \n",
       "2             False  \n",
       "3             False  \n",
       "4             False  \n",
       "\n",
       "[5 rows x 25 columns]"
      ]
     },
     "execution_count": 7,
     "metadata": {},
     "output_type": "execute_result"
    }
   ],
   "source": [
    "X_train = training_unwound[[\"degree_centrality\", \"harmonic_centrality\", \"betweenness_centrality\", \"pagerank\", \"language\"]]\n",
    "X_train = pd.get_dummies(X_train, columns=[\"language\"], drop_first=False) # Convert \"language\" to one-hot encoding\n",
    "Y_train = training_unwound[\"is_root\"]\n",
    "Y_train = pd.get_dummies(Y_train, drop_first=False)\n",
    "\n",
    "X_val = validation_unwound[[\"degree_centrality\", \"harmonic_centrality\", \"betweenness_centrality\", \"pagerank\", \"language\"]]\n",
    "X_val = pd.get_dummies(X_val, columns=[\"language\"], drop_first=False) # Convert \"language\" to one-hot encoding\n",
    "Y_val = validation_unwound[\"is_root\"]\n",
    "Y_val = pd.get_dummies(Y_val, drop_first=False)\n",
    "\n",
    "X_train.head()"
   ]
  },
  {
   "cell_type": "markdown",
   "id": "781d4e63",
   "metadata": {},
   "source": [
    "Now we'll build a model that will predict whether each node is a root or not."
   ]
  },
  {
   "cell_type": "code",
   "execution_count": 12,
   "id": "2f087f54",
   "metadata": {},
   "outputs": [],
   "source": [
    "from sklearn.ensemble import RandomForestClassifier\n",
    "from collections import defaultdict\n",
    "from sklearn.metrics import accuracy_score"
   ]
  },
  {
   "cell_type": "code",
   "execution_count": null,
   "id": "2608967e",
   "metadata": {},
   "outputs": [
    {
     "name": "stdout",
     "output_type": "stream",
     "text": [
      "Model trained.\n"
     ]
    }
   ],
   "source": [
    "model = RandomForestClassifier(\n",
    "    n_estimators=100,\n",
    "    max_depth=10,\n",
    "    random_state=42,\n",
    "    class_weight=\"balanced\",\n",
    ")\n",
    "model.fit(X_train, Y_train)\n",
    "print(\"Model trained.\")"
   ]
  },
  {
   "cell_type": "markdown",
   "id": "a4710b06",
   "metadata": {},
   "source": [
    "We'll compute two kinds of accuracy:\n",
    "1. Node-based accuracy: The number of nodes correctly classified as root or not divided by the total number of nodes.\n",
    "2. Sentence-based accuracy: The number of sentences from which the top-probability root node was correctly classified as root divided by the total number of sentences."
   ]
  },
  {
   "cell_type": "code",
   "execution_count": 28,
   "id": "316e2ac9",
   "metadata": {},
   "outputs": [
    {
     "name": "stdout",
     "output_type": "stream",
     "text": [
      "Node-based accuracy: 0.31\n"
     ]
    }
   ],
   "source": [
    "predictions = model.predict(X_val)\n",
    "print(f\"Node-based accuracy: {accuracy_score(Y_val, predictions):.2f}\")"
   ]
  },
  {
   "cell_type": "code",
   "execution_count": 36,
   "id": "464dd8a4",
   "metadata": {},
   "outputs": [
    {
     "name": "stdout",
     "output_type": "stream",
     "text": [
      "Sentence-based accuracy: 0.23714285714285716\n"
     ]
    }
   ],
   "source": [
    "sentence_predictions = defaultdict(dict)\n",
    "probabilities = model.predict_proba(X_val)[0]\n",
    "for (_, row), probs in zip(validation_unwound.iterrows(), probabilities):\n",
    "    sentence_predictions[row[\"row_index\"]][row[\"node\"]] = probs[0]\n",
    "\n",
    "\n",
    "def get_predicted_root(row: pd.Series) -> str:\n",
    "    \"\"\"\n",
    "    Get the predicted root node for a sentence.\n",
    "    \"\"\"\n",
    "    sentence_id = row.name\n",
    "    probs = sentence_predictions[sentence_id]\n",
    "    return max(probs.keys(), key=probs.get)\n",
    "\n",
    "validation_prediction = validation.copy()\n",
    "validation_prediction[\"predicted_root\"] = validation_prediction.apply(get_predicted_root, axis=1)\n",
    "print(\"Sentence-based accuracy:\", accuracy_score(validation_prediction[\"root\"], validation_prediction[\"predicted_root\"]))"
   ]
  }
 ],
 "metadata": {
  "kernelspec": {
   "display_name": ".venv",
   "language": "python",
   "name": "python3"
  },
  "language_info": {
   "codemirror_mode": {
    "name": "ipython",
    "version": 3
   },
   "file_extension": ".py",
   "mimetype": "text/x-python",
   "name": "python",
   "nbconvert_exporter": "python",
   "pygments_lexer": "ipython3",
   "version": "3.12.3"
  }
 },
 "nbformat": 4,
 "nbformat_minor": 5
}

{
 "cells": [
  {
   "cell_type": "code",
   "execution_count": 10,
   "id": "e3ea547f",
   "metadata": {},
   "outputs": [],
   "source": [
    "from sklearn.discriminant_analysis import LinearDiscriminantAnalysis, QuadraticDiscriminantAnalysis\n",
    "from sklearn.naive_bayes import GaussianNB\n",
    "import pandas as pd\n",
    "from collections import defaultdict\n",
    "from sklearn.metrics import accuracy_score"
   ]
  },
  {
   "cell_type": "markdown",
   "id": "b6050003",
   "metadata": {},
   "source": [
    "## Load the data"
   ]
  },
  {
   "cell_type": "code",
   "execution_count": 4,
   "id": "60dcdd17",
   "metadata": {},
   "outputs": [],
   "source": [
    "validation_unwound = pd.read_csv(\"../data/cache/validation_unwound.csv\")\n",
    "training_unwound = pd.read_csv(\"../data/cache/training_unwound.csv\")"
   ]
  },
  {
   "cell_type": "code",
   "execution_count": null,
   "id": "6c53d61c",
   "metadata": {},
   "outputs": [],
   "source": [
    "X_train = training_unwound.drop(columns=[\"row_index\", \"node\", \"is_root\"])\n",
    "X_train = pd.get_dummies(X_train, columns=[\"language\"], drop_first=False)\n",
    "y_train = training_unwound[\"is_root\"]\n",
    "\n",
    "\n",
    "X_val = validation_unwound.drop(\n",
    "    columns=[\n",
    "        \"row_index\",\n",
    "        \"node\",\n",
    "        \"is_root\",\n",
    "    ]\n",
    ")\n",
    "X_val = pd.get_dummies(X_val, columns=[\"language\"], drop_first=False)\n",
    "y_val = validation_unwound[\"is_root\"]"
   ]
  },
  {
   "cell_type": "markdown",
   "id": "0dab9d35",
   "metadata": {},
   "source": [
    "## LDA"
   ]
  },
  {
   "cell_type": "code",
   "execution_count": 6,
   "id": "e7745cfe",
   "metadata": {},
   "outputs": [
    {
     "name": "stdout",
     "output_type": "stream",
     "text": [
      "Node-based accuracy: 0.93\n",
      "Sentence-based accuracy: 0.26\n"
     ]
    }
   ],
   "source": [
    "lda = LinearDiscriminantAnalysis()\n",
    "lda.fit(X_train, y_train)\n",
    "\n",
    "predictions = lda.predict(X_val)\n",
    "print(f\"Node-based accuracy: {accuracy_score(y_val, predictions):.2f}\")\n",
    "\n",
    "\n",
    "sentence_predictions = defaultdict(dict)\n",
    "probs = lda.predict_proba(X_val)\n",
    "\n",
    "sentence_real_root = {}\n",
    "for (_, row), pred in zip(validation_unwound.iterrows(), probs):\n",
    "    sentence_predictions[row[\"row_index\"]][row[\"node\"]] = pred[1]\n",
    "    if row[\"is_root\"]:\n",
    "        sentence_real_root[row[\"row_index\"]] = row[\"node\"]\n",
    "\n",
    "if not set(sentence_predictions.keys()) == set(sentence_real_root.keys()):\n",
    "    raise ValueError(\"Mismatch between sentence predictions and real roots.\")\n",
    "\n",
    "\n",
    "def get_predicted_root(row: pd.Series) -> str:\n",
    "    \"\"\"\n",
    "    Get the predicted root node for a sentence.\n",
    "    \"\"\"\n",
    "    sentence_id = row.name\n",
    "    probs = sentence_predictions[sentence_id]\n",
    "    return max(probs.keys(), key=probs.get)\n",
    "\n",
    "\n",
    "validation_prediction = pd.DataFrame.from_dict(sentence_real_root, orient=\"index\", columns=[\"root\"])\n",
    "validation_prediction[\"predicted_root\"] = validation_prediction.apply(get_predicted_root, axis=1)\n",
    "print(\n",
    "    f\"Sentence-based accuracy: {accuracy_score(validation_prediction['root'], validation_prediction['predicted_root']):.2f}\"\n",
    ")"
   ]
  },
  {
   "cell_type": "markdown",
   "id": "cb710264",
   "metadata": {},
   "source": [
    "## QDA"
   ]
  },
  {
   "cell_type": "code",
   "execution_count": null,
   "id": "ae6d0836",
   "metadata": {},
   "outputs": [
    {
     "name": "stderr",
     "output_type": "stream",
     "text": [
      "/home/mparcerisa/Documents/Work/MDS/S2/ML/SyntacticTreeRooting/.venv/lib/python3.12/site-packages/sklearn/discriminant_analysis.py:1024: LinAlgWarning: The covariance matrix of class 0 is not full rank. Increasing the value of parameter `reg_param` might help reducing the collinearity.\n",
      "  warnings.warn(\n",
      "/home/mparcerisa/Documents/Work/MDS/S2/ML/SyntacticTreeRooting/.venv/lib/python3.12/site-packages/sklearn/discriminant_analysis.py:1024: LinAlgWarning: The covariance matrix of class 1 is not full rank. Increasing the value of parameter `reg_param` might help reducing the collinearity.\n",
      "  warnings.warn(\n"
     ]
    },
    {
     "name": "stdout",
     "output_type": "stream",
     "text": [
      "Node-based accuracy: 0.52\n",
      "Sentence-based accuracy: 0.41\n"
     ]
    }
   ],
   "source": [
    "qda = QuadraticDiscriminantAnalysis()\n",
    "qda.fit(X_train, y_train)\n",
    "\n",
    "predictions = qda.predict(X_val)\n",
    "print(f\"Node-based accuracy: {accuracy_score(y_val, predictions):.2f}\")\n",
    "\n",
    "sentence_predictions = defaultdict(dict)\n",
    "probs = qda.predict_proba(X_val)\n",
    "\n",
    "sentence_real_root = {}\n",
    "for (_, row), pred in zip(validation_unwound.iterrows(), probs):\n",
    "    sentence_predictions[row[\"row_index\"]][row[\"node\"]] = pred[1]\n",
    "    if row[\"is_root\"]:\n",
    "        sentence_real_root[row[\"row_index\"]] = row[\"node\"]\n",
    "\n",
    "if not set(sentence_predictions.keys()) == set(sentence_real_root.keys()):\n",
    "    raise ValueError(\"Mismatch between sentence predictions and real roots.\")\n",
    "\n",
    "\n",
    "def get_predicted_root(row: pd.Series) -> str:\n",
    "    \"\"\"\n",
    "    Get the predicted root node for a sentence.\n",
    "    \"\"\"\n",
    "    sentence_id = row.name\n",
    "    probs = sentence_predictions[sentence_id]\n",
    "    return max(probs.keys(), key=probs.get)\n",
    "\n",
    "\n",
    "validation_prediction = pd.DataFrame.from_dict(sentence_real_root, orient=\"index\", columns=[\"root\"])\n",
    "validation_prediction[\"predicted_root\"] = validation_prediction.apply(get_predicted_root, axis=1)\n",
    "print(\n",
    "    f\"Sentence-based accuracy: {accuracy_score(validation_prediction['root'], validation_prediction['predicted_root']):.2f}\"\n",
    ")"
   ]
  },
  {
   "cell_type": "markdown",
   "id": "c478be2b",
   "metadata": {},
   "source": [
    "## Naive Bayes"
   ]
  },
  {
   "cell_type": "code",
   "execution_count": 8,
   "id": "ab54ecbd",
   "metadata": {},
   "outputs": [
    {
     "name": "stdout",
     "output_type": "stream",
     "text": [
      "Node-based accuracy: 0.784\n",
      "Sentence-based accuracy: 0.289\n"
     ]
    }
   ],
   "source": [
    "nb = GaussianNB()\n",
    "nb.fit(X_train, y_train)\n",
    "\n",
    "\n",
    "predictions = nb.predict(X_val)\n",
    "print(f\"Node-based accuracy: {accuracy_score(y_val, predictions):.3f}\")\n",
    "\n",
    "\n",
    "sentence_predictions = defaultdict(dict)\n",
    "probs = nb.predict_proba(X_val)\n",
    "\n",
    "sentence_real_root = {}\n",
    "for (_, row), pred in zip(validation_unwound.iterrows(), probs):\n",
    "    sentence_predictions[row[\"row_index\"]][row[\"node\"]] = pred[1]\n",
    "    if row[\"is_root\"]:\n",
    "        sentence_real_root[row[\"row_index\"]] = row[\"node\"]\n",
    "\n",
    "if not set(sentence_predictions.keys()) == set(sentence_real_root.keys()):\n",
    "    raise ValueError(\"Mismatch between sentence predictions and real roots.\")\n",
    "\n",
    "\n",
    "def get_predicted_root(row: pd.Series) -> str:\n",
    "    \"\"\"\n",
    "    Get the predicted root node for a sentence.\n",
    "    \"\"\"\n",
    "    sentence_id = row.name\n",
    "    probs = sentence_predictions[sentence_id]\n",
    "    return max(probs.keys(), key=probs.get)\n",
    "\n",
    "\n",
    "validation_prediction = pd.DataFrame.from_dict(sentence_real_root, orient=\"index\", columns=[\"root\"])\n",
    "validation_prediction[\"predicted_root\"] = validation_prediction.apply(get_predicted_root, axis=1)\n",
    "print(\n",
    "    f\"Sentence-based accuracy: {accuracy_score(validation_prediction['root'], validation_prediction['predicted_root']):.3f}\"\n",
    ")"
   ]
  },
  {
   "cell_type": "code",
   "execution_count": null,
   "id": "62366c7d",
   "metadata": {},
   "outputs": [
    {
     "name": "stdout",
     "output_type": "stream",
     "text": [
      "Best parameters for Naive Bayes: {'var_smoothing': 0.1}\n",
      "Node-based accuracy after grid search: 0.78\n",
      "Sentence-based accuracy after grid search: 0.29\n"
     ]
    }
   ],
   "source": [
    "# cross validate and grid search the smoothing paramter of naive bayes\n",
    "from sklearn.model_selection import GridSearchCV\n",
    "\n",
    "param_grid = {\"var_smoothing\": [0.0001, 0.001, 0.01, 0.1, 1.0, 10.0, 100.0]}\n",
    "grid_search = GridSearchCV(GaussianNB(), param_grid, cv=5, scoring=\"accuracy\")\n",
    "grid_search.fit(X_train, y_train)\n",
    "print(f\"Best parameters for Naive Bayes: {grid_search.best_params_}\")\n",
    "nb_best = grid_search.best_estimator_\n",
    "\n",
    "nb = GaussianNB(var_smoothing=0)\n",
    "nb.fit(X_train, y_train)\n",
    "predictions = nb.predict(X_val)\n",
    "print(f\"Node-based accuracy after grid search: {accuracy_score(y_val, predictions):.2f}\")\n",
    "sentence_predictions = defaultdict(dict)\n",
    "probs = nb.predict_proba(X_val)\n",
    "sentence_real_root = {}\n",
    "for (_, row), pred in zip(validation_unwound.iterrows(), probs):\n",
    "    sentence_predictions[row[\"row_index\"]][row[\"node\"]] = pred[1]\n",
    "    if row[\"is_root\"]:\n",
    "        sentence_real_root[row[\"row_index\"]] = row[\"node\"]\n",
    "if not set(sentence_predictions.keys()) == set(sentence_real_root.keys()):\n",
    "    raise ValueError(\"Mismatch between sentence predictions and real roots.\")\n",
    "\n",
    "\n",
    "def get_predicted_root(row: pd.Series) -> str:\n",
    "    \"\"\"\n",
    "    Get the predicted root node for a sentence.\n",
    "    \"\"\"\n",
    "    sentence_id = row.name\n",
    "    probs = sentence_predictions[sentence_id]\n",
    "    return max(probs.keys(), key=probs.get)\n",
    "\n",
    "\n",
    "validation_prediction = pd.DataFrame.from_dict(sentence_real_root, orient=\"index\", columns=[\"root\"])\n",
    "validation_prediction[\"predicted_root\"] = validation_prediction.apply(get_predicted_root, axis=1)\n",
    "print(\n",
    "    f\"Sentence-based accuracy after grid search: {accuracy_score(validation_prediction['root'], validation_prediction['predicted_root']):.2f}\"\n",
    ")"
   ]
  }
 ],
 "metadata": {
  "kernelspec": {
   "display_name": ".venv",
   "language": "python",
   "name": "python3"
  },
  "language_info": {
   "codemirror_mode": {
    "name": "ipython",
    "version": 3
   },
   "file_extension": ".py",
   "mimetype": "text/x-python",
   "name": "python",
   "nbconvert_exporter": "python",
   "pygments_lexer": "ipython3",
   "version": "3.12.3"
  }
 },
 "nbformat": 4,
 "nbformat_minor": 5
}

{
 "cells": [
  {
   "cell_type": "code",
   "execution_count": 1,
   "id": "30999563",
   "metadata": {},
   "outputs": [],
   "source": [
    "import pandas as pd\n",
    "from lib.gridsearch import GridSearch, Dimension\n",
    "from pathlib import Path\n",
    "from concurrent.futures import ProcessPoolExecutor\n",
    "import json\n",
    "import time\n",
    "from typing import Dict, Any, List\n",
    "import joblib\n",
    "import logging\n",
    "from xgboost import XGBClassifier\n",
    "from sklearn.metrics import accuracy_score\n",
    "import logging\n"
   ]
  },
  {
   "cell_type": "code",
   "execution_count": 2,
   "id": "3f5cf4cb",
   "metadata": {},
   "outputs": [],
   "source": [
    "logger = logging.getLogger(__name__)\n",
    "logging.basicConfig(\n",
    "    level=logging.INFO,\n",
    "    format=\"(%(asctime)s) %(levelname)s # %(message)s\",\n",
    "    datefmt=\"%Y-%m-%d %H:%M:%S\",\n",
    ")"
   ]
  },
  {
   "cell_type": "code",
   "execution_count": 3,
   "id": "7021a6d3",
   "metadata": {},
   "outputs": [
    {
     "data": {
      "application/vnd.microsoft.datawrangler.viewer.v0+json": {
       "columns": [
        {
         "name": "index",
         "rawType": "int64",
         "type": "integer"
        },
        {
         "name": "row_index",
         "rawType": "int64",
         "type": "integer"
        },
        {
         "name": "node",
         "rawType": "int64",
         "type": "integer"
        },
        {
         "name": "is_root",
         "rawType": "bool",
         "type": "boolean"
        },
        {
         "name": "language",
         "rawType": "category",
         "type": "unknown"
        },
        {
         "name": "tree_diameter",
         "rawType": "int64",
         "type": "integer"
        },
        {
         "name": "tree_size",
         "rawType": "int64",
         "type": "integer"
        },
        {
         "name": "tree_edges",
         "rawType": "int64",
         "type": "integer"
        },
        {
         "name": "number_of_centroids",
         "rawType": "int64",
         "type": "integer"
        },
        {
         "name": "average_degree",
         "rawType": "float64",
         "type": "float"
        },
        {
         "name": "number_of_leaves",
         "rawType": "int64",
         "type": "integer"
        },
        {
         "name": "degree",
         "rawType": "int64",
         "type": "integer"
        },
        {
         "name": "is_leaf",
         "rawType": "bool",
         "type": "boolean"
        },
        {
         "name": "is_centroid",
         "rawType": "bool",
         "type": "boolean"
        },
        {
         "name": "distance_to_closest_centroid",
         "rawType": "int64",
         "type": "integer"
        },
        {
         "name": "distance_to_farthest_centroid",
         "rawType": "int64",
         "type": "integer"
        },
        {
         "name": "distance_to_closest_leaf",
         "rawType": "int64",
         "type": "integer"
        },
        {
         "name": "distance_to_farthest_leaf",
         "rawType": "int64",
         "type": "integer"
        },
        {
         "name": "is_in_longest_path",
         "rawType": "bool",
         "type": "boolean"
        },
        {
         "name": "tree_depth_if_root",
         "rawType": "int64",
         "type": "integer"
        },
        {
         "name": "min_subtree_size_if_root",
         "rawType": "int64",
         "type": "integer"
        },
        {
         "name": "max_subtree_size_if_root",
         "rawType": "int64",
         "type": "integer"
        },
        {
         "name": "average_subtree_size_if_root",
         "rawType": "float64",
         "type": "float"
        },
        {
         "name": "min_subtree_leaf_count_if_root",
         "rawType": "int64",
         "type": "integer"
        },
        {
         "name": "max_subtree_leaf_count_if_root",
         "rawType": "int64",
         "type": "integer"
        },
        {
         "name": "average_subtree_leaf_count_if_root",
         "rawType": "float64",
         "type": "float"
        },
        {
         "name": "min_subtree_depth_if_root",
         "rawType": "int64",
         "type": "integer"
        },
        {
         "name": "max_subtree_depth_if_root",
         "rawType": "int64",
         "type": "integer"
        },
        {
         "name": "average_subtree_depth_if_root",
         "rawType": "float64",
         "type": "float"
        },
        {
         "name": "depth_difference_if_root",
         "rawType": "int64",
         "type": "integer"
        },
        {
         "name": "number_of_subtrees_if_root",
         "rawType": "int64",
         "type": "integer"
        },
        {
         "name": "eccentricity",
         "rawType": "int64",
         "type": "integer"
        },
        {
         "name": "closeness_centrality",
         "rawType": "float64",
         "type": "float"
        },
        {
         "name": "closeness_centrality_inverse",
         "rawType": "float64",
         "type": "float"
        },
        {
         "name": "degree_centrality",
         "rawType": "float64",
         "type": "float"
        },
        {
         "name": "harmonic_centrality",
         "rawType": "float64",
         "type": "float"
        },
        {
         "name": "betweenness_centrality",
         "rawType": "float64",
         "type": "float"
        },
        {
         "name": "pagerank",
         "rawType": "float64",
         "type": "float"
        },
        {
         "name": "katz_centrality",
         "rawType": "float64",
         "type": "float"
        },
        {
         "name": "current_flow_closeness",
         "rawType": "float64",
         "type": "float"
        },
        {
         "name": "current_flow_betweenness",
         "rawType": "float64",
         "type": "float"
        },
        {
         "name": "load_centrality",
         "rawType": "float64",
         "type": "float"
        },
        {
         "name": "percolation_centrality",
         "rawType": "float64",
         "type": "float"
        },
        {
         "name": "second_order_centrality",
         "rawType": "float64",
         "type": "float"
        },
        {
         "name": "laplacian_centrality",
         "rawType": "float64",
         "type": "float"
        }
       ],
       "ref": "438b7aef-f014-45ce-b56b-7054f52e3608",
       "rows": [
        [
         "0",
         "0",
         "6",
         "False",
         "Japanese",
         "14",
         "23",
         "22",
         "1",
         "1.9130434782608696",
         "6",
         "2",
         "False",
         "False",
         "5",
         "5",
         "1",
         "12",
         "False",
         "12",
         "23",
         "23",
         "23.0",
         "5",
         "6",
         "5.5",
         "11",
         "13",
         "12.0",
         "2",
         "2",
         "12",
         "0.1594202898550724",
         "6.272727272727273",
         "0.0909090909090909",
         "5.823845598845598",
         "0.0909090909090909",
         "0.0485651410802199",
         "0.20908573334499",
         "0.0072463768115942",
         "0.0909090909090909",
         "0.0909090909090909",
         "0.0909090909090908",
         "98.76234100100982",
         "0.101449275362318"
        ],
        [
         "1",
         "0",
         "4",
         "False",
         "Japanese",
         "14",
         "23",
         "22",
         "1",
         "1.9130434782608696",
         "6",
         "1",
         "True",
         "False",
         "6",
         "6",
         "0",
         "13",
         "False",
         "13",
         "23",
         "23",
         "23.0",
         "6",
         "6",
         "6.0",
         "12",
         "12",
         "12.0",
         "0",
         "1",
         "13",
         "0.1383647798742138",
         "7.227272727272727",
         "0.0454545454545454",
         "4.5611222111222105",
         "0.0",
         "0.0271615545987082",
         "0.1882984947956476",
         "0.0062893081761006",
         "0.0",
         "0.0",
         "0.0",
         "112.48110952510936",
         "0.043478260869565"
        ],
        [
         "2",
         "0",
         "2",
         "False",
         "Japanese",
         "14",
         "23",
         "22",
         "1",
         "1.9130434782608696",
         "6",
         "3",
         "False",
         "False",
         "4",
         "4",
         "1",
         "11",
         "False",
         "11",
         "23",
         "23",
         "23.0",
         "5",
         "6",
         "5.666666666666667",
         "10",
         "12",
         "11.333333333333334",
         "2",
         "3",
         "11",
         "0.1848739495798319",
         "5.409090909090909",
         "0.1363636363636363",
         "6.991702741702742",
         "0.2554112554112554",
         "0.0669012006149178",
         "0.2286597909305283",
         "0.0084033613445378",
         "0.2554112554112554",
         "0.2554112554112554",
         "0.2554112554112555",
         "84.45116932286875",
         "0.1594202898550723"
        ],
        [
         "3",
         "0",
         "23",
         "False",
         "Japanese",
         "14",
         "23",
         "22",
         "1",
         "1.9130434782608696",
         "6",
         "1",
         "True",
         "False",
         "5",
         "5",
         "0",
         "12",
         "False",
         "12",
         "23",
         "23",
         "23.0",
         "6",
         "6",
         "6.0",
         "11",
         "11",
         "11.0",
         "0",
         "1",
         "12",
         "0.1571428571428571",
         "6.363636363636364",
         "0.0454545454545454",
         "5.157178932178932",
         "0.0",
         "0.0254774511474812",
         "0.1902558897240728",
         "0.0071428571428571",
         "0.0",
         "0.0",
         "0.0",
         "100.14988766843294",
         "0.0579710144927538"
        ],
        [
         "4",
         "0",
         "20",
         "False",
         "Japanese",
         "14",
         "23",
         "22",
         "1",
         "1.9130434782608696",
         "6",
         "2",
         "False",
         "False",
         "3",
         "3",
         "2",
         "10",
         "False",
         "10",
         "23",
         "23",
         "23.0",
         "6",
         "6",
         "6.0",
         "9",
         "11",
         "10.0",
         "2",
         "2",
         "10",
         "0.2115384615384615",
         "4.727272727272728",
         "0.0909090909090909",
         "7.146825396825397",
         "0.3116883116883117",
         "0.0425519086854136",
         "0.2133573643897251",
         "0.0096153846153846",
         "0.3116883116883117",
         "0.3116883116883117",
         "0.3116883116883115",
         "71.14773362518238",
         "0.1304347826086955"
        ]
       ],
       "shape": {
        "columns": 44,
        "rows": 5
       }
      },
      "text/html": [
       "<div>\n",
       "<style scoped>\n",
       "    .dataframe tbody tr th:only-of-type {\n",
       "        vertical-align: middle;\n",
       "    }\n",
       "\n",
       "    .dataframe tbody tr th {\n",
       "        vertical-align: top;\n",
       "    }\n",
       "\n",
       "    .dataframe thead th {\n",
       "        text-align: right;\n",
       "    }\n",
       "</style>\n",
       "<table border=\"1\" class=\"dataframe\">\n",
       "  <thead>\n",
       "    <tr style=\"text-align: right;\">\n",
       "      <th></th>\n",
       "      <th>row_index</th>\n",
       "      <th>node</th>\n",
       "      <th>is_root</th>\n",
       "      <th>language</th>\n",
       "      <th>tree_diameter</th>\n",
       "      <th>tree_size</th>\n",
       "      <th>tree_edges</th>\n",
       "      <th>number_of_centroids</th>\n",
       "      <th>average_degree</th>\n",
       "      <th>number_of_leaves</th>\n",
       "      <th>...</th>\n",
       "      <th>harmonic_centrality</th>\n",
       "      <th>betweenness_centrality</th>\n",
       "      <th>pagerank</th>\n",
       "      <th>katz_centrality</th>\n",
       "      <th>current_flow_closeness</th>\n",
       "      <th>current_flow_betweenness</th>\n",
       "      <th>load_centrality</th>\n",
       "      <th>percolation_centrality</th>\n",
       "      <th>second_order_centrality</th>\n",
       "      <th>laplacian_centrality</th>\n",
       "    </tr>\n",
       "  </thead>\n",
       "  <tbody>\n",
       "    <tr>\n",
       "      <th>0</th>\n",
       "      <td>0</td>\n",
       "      <td>6</td>\n",
       "      <td>False</td>\n",
       "      <td>Japanese</td>\n",
       "      <td>14</td>\n",
       "      <td>23</td>\n",
       "      <td>22</td>\n",
       "      <td>1</td>\n",
       "      <td>1.913043</td>\n",
       "      <td>6</td>\n",
       "      <td>...</td>\n",
       "      <td>5.823846</td>\n",
       "      <td>0.090909</td>\n",
       "      <td>0.048565</td>\n",
       "      <td>0.209086</td>\n",
       "      <td>0.007246</td>\n",
       "      <td>0.090909</td>\n",
       "      <td>0.090909</td>\n",
       "      <td>0.090909</td>\n",
       "      <td>98.762341</td>\n",
       "      <td>0.101449</td>\n",
       "    </tr>\n",
       "    <tr>\n",
       "      <th>1</th>\n",
       "      <td>0</td>\n",
       "      <td>4</td>\n",
       "      <td>False</td>\n",
       "      <td>Japanese</td>\n",
       "      <td>14</td>\n",
       "      <td>23</td>\n",
       "      <td>22</td>\n",
       "      <td>1</td>\n",
       "      <td>1.913043</td>\n",
       "      <td>6</td>\n",
       "      <td>...</td>\n",
       "      <td>4.561122</td>\n",
       "      <td>0.000000</td>\n",
       "      <td>0.027162</td>\n",
       "      <td>0.188298</td>\n",
       "      <td>0.006289</td>\n",
       "      <td>0.000000</td>\n",
       "      <td>0.000000</td>\n",
       "      <td>0.000000</td>\n",
       "      <td>112.481110</td>\n",
       "      <td>0.043478</td>\n",
       "    </tr>\n",
       "    <tr>\n",
       "      <th>2</th>\n",
       "      <td>0</td>\n",
       "      <td>2</td>\n",
       "      <td>False</td>\n",
       "      <td>Japanese</td>\n",
       "      <td>14</td>\n",
       "      <td>23</td>\n",
       "      <td>22</td>\n",
       "      <td>1</td>\n",
       "      <td>1.913043</td>\n",
       "      <td>6</td>\n",
       "      <td>...</td>\n",
       "      <td>6.991703</td>\n",
       "      <td>0.255411</td>\n",
       "      <td>0.066901</td>\n",
       "      <td>0.228660</td>\n",
       "      <td>0.008403</td>\n",
       "      <td>0.255411</td>\n",
       "      <td>0.255411</td>\n",
       "      <td>0.255411</td>\n",
       "      <td>84.451169</td>\n",
       "      <td>0.159420</td>\n",
       "    </tr>\n",
       "    <tr>\n",
       "      <th>3</th>\n",
       "      <td>0</td>\n",
       "      <td>23</td>\n",
       "      <td>False</td>\n",
       "      <td>Japanese</td>\n",
       "      <td>14</td>\n",
       "      <td>23</td>\n",
       "      <td>22</td>\n",
       "      <td>1</td>\n",
       "      <td>1.913043</td>\n",
       "      <td>6</td>\n",
       "      <td>...</td>\n",
       "      <td>5.157179</td>\n",
       "      <td>0.000000</td>\n",
       "      <td>0.025477</td>\n",
       "      <td>0.190256</td>\n",
       "      <td>0.007143</td>\n",
       "      <td>0.000000</td>\n",
       "      <td>0.000000</td>\n",
       "      <td>0.000000</td>\n",
       "      <td>100.149888</td>\n",
       "      <td>0.057971</td>\n",
       "    </tr>\n",
       "    <tr>\n",
       "      <th>4</th>\n",
       "      <td>0</td>\n",
       "      <td>20</td>\n",
       "      <td>False</td>\n",
       "      <td>Japanese</td>\n",
       "      <td>14</td>\n",
       "      <td>23</td>\n",
       "      <td>22</td>\n",
       "      <td>1</td>\n",
       "      <td>1.913043</td>\n",
       "      <td>6</td>\n",
       "      <td>...</td>\n",
       "      <td>7.146825</td>\n",
       "      <td>0.311688</td>\n",
       "      <td>0.042552</td>\n",
       "      <td>0.213357</td>\n",
       "      <td>0.009615</td>\n",
       "      <td>0.311688</td>\n",
       "      <td>0.311688</td>\n",
       "      <td>0.311688</td>\n",
       "      <td>71.147734</td>\n",
       "      <td>0.130435</td>\n",
       "    </tr>\n",
       "  </tbody>\n",
       "</table>\n",
       "<p>5 rows × 44 columns</p>\n",
       "</div>"
      ],
      "text/plain": [
       "   row_index  node  is_root  language  tree_diameter  tree_size  tree_edges  \\\n",
       "0          0     6    False  Japanese             14         23          22   \n",
       "1          0     4    False  Japanese             14         23          22   \n",
       "2          0     2    False  Japanese             14         23          22   \n",
       "3          0    23    False  Japanese             14         23          22   \n",
       "4          0    20    False  Japanese             14         23          22   \n",
       "\n",
       "   number_of_centroids  average_degree  number_of_leaves  ...  \\\n",
       "0                    1        1.913043                 6  ...   \n",
       "1                    1        1.913043                 6  ...   \n",
       "2                    1        1.913043                 6  ...   \n",
       "3                    1        1.913043                 6  ...   \n",
       "4                    1        1.913043                 6  ...   \n",
       "\n",
       "   harmonic_centrality  betweenness_centrality  pagerank  katz_centrality  \\\n",
       "0             5.823846                0.090909  0.048565         0.209086   \n",
       "1             4.561122                0.000000  0.027162         0.188298   \n",
       "2             6.991703                0.255411  0.066901         0.228660   \n",
       "3             5.157179                0.000000  0.025477         0.190256   \n",
       "4             7.146825                0.311688  0.042552         0.213357   \n",
       "\n",
       "   current_flow_closeness  current_flow_betweenness  load_centrality  \\\n",
       "0                0.007246                  0.090909         0.090909   \n",
       "1                0.006289                  0.000000         0.000000   \n",
       "2                0.008403                  0.255411         0.255411   \n",
       "3                0.007143                  0.000000         0.000000   \n",
       "4                0.009615                  0.311688         0.311688   \n",
       "\n",
       "   percolation_centrality  second_order_centrality  laplacian_centrality  \n",
       "0                0.090909                98.762341              0.101449  \n",
       "1                0.000000               112.481110              0.043478  \n",
       "2                0.255411                84.451169              0.159420  \n",
       "3                0.000000               100.149888              0.057971  \n",
       "4                0.311688                71.147734              0.130435  \n",
       "\n",
       "[5 rows x 44 columns]"
      ]
     },
     "execution_count": 3,
     "metadata": {},
     "output_type": "execute_result"
    }
   ],
   "source": [
    "# Load the data\n",
    "train_data = pd.read_csv(\"../data/cache/training_unwound.csv\")\n",
    "validation_data = pd.read_csv(\"../data/cache/validation_unwound.csv\")\n",
    "train_data[\"language\"] = train_data[\"language\"].astype(\"category\")\n",
    "validation_data[\"language\"] = validation_data[\"language\"].astype(\"category\")\n",
    "train_data.head()"
   ]
  },
  {
   "cell_type": "markdown",
   "id": "9b6fbb03",
   "metadata": {},
   "source": [
    "In this script, we'll fit a Random Forests Classifier to the dataset to predict whether the node is the root or not."
   ]
  },
  {
   "cell_type": "code",
   "execution_count": 4,
   "id": "7fe0a22b",
   "metadata": {},
   "outputs": [],
   "source": [
    "def one_hot_encode(df: pd.DataFrame) -> pd.DataFrame:\n",
    "    \"\"\"\n",
    "    One-hot encode the 'language' column in the DataFrame.\n",
    "    \"\"\"\n",
    "    return pd.get_dummies(df, columns=[\"language\"], prefix=\"\", prefix_sep=\"\", drop_first=False)"
   ]
  },
  {
   "cell_type": "code",
   "execution_count": 25,
   "id": "3cedf4a6",
   "metadata": {},
   "outputs": [
    {
     "name": "stdout",
     "output_type": "stream",
     "text": [
      "216\n"
     ]
    }
   ],
   "source": [
    "grid = GridSearch()\n",
    "\n",
    "grid.add_dimension(\"learning_rate\", Dimension(0.01, 0.1))\n",
    "grid.add_dimension(\"max_depth\", Dimension(10,20,50)) # max_depth is the maximum depth of a tree\n",
    "grid.add_dimension(\"n_estimators\", Dimension(50, 100))\n",
    "grid.add_dimension(\"min_child_weight\", Dimension(1,5,10)) \n",
    "grid.add_dimension(\"colsample_bytree\", Dimension(0.7, 0.8)) # subsample ratio of columns when constructing each tree\n",
    "grid.add_dimension(\"reg_lambda\", Dimension(0.1, 1, 5))\n",
    "\n",
    "# how many configurations does this grid have?\n",
    "print(len(grid))\n"
   ]
  },
  {
   "cell_type": "code",
   "execution_count": null,
   "id": "5114d7a1",
   "metadata": {},
   "outputs": [
    {
     "name": "stderr",
     "output_type": "stream",
     "text": [
      "(2025-05-29 21:41:53) INFO # Configuration 1/216: {'learning_rate': 0.01, 'max_depth': 10, 'n_estimators': 50, 'min_child_weight': 1, 'colsample_bytree': 0.7, 'reg_lambda': 0.1}\n"
     ]
    },
    {
     "name": "stderr",
     "output_type": "stream",
     "text": [
      "(2025-05-29 21:42:22) INFO # Fold 2/5 - Accuracy: 0.9476\n",
      "(2025-05-29 21:42:22) INFO # Fold 1/5 - Accuracy: 0.9436\n",
      "(2025-05-29 21:42:23) INFO # Fold 3/5 - Accuracy: 0.9490\n",
      "(2025-05-29 21:42:23) INFO # Fold 4/5 - Accuracy: 0.9460\n",
      "(2025-05-29 21:42:23) INFO # Fold 5/5 - Accuracy: 0.9469\n",
      "(2025-05-29 21:42:24) INFO # Configuration 1/216 completed in 30.75 seconds.\n",
      "(2025-05-29 21:42:24) INFO # Missing configurations: 215. ETA: 6612.02 seconds.\n",
      "(2025-05-29 21:42:24) INFO # Configuration 2/216: {'learning_rate': 0.01, 'max_depth': 10, 'n_estimators': 50, 'min_child_weight': 1, 'colsample_bytree': 0.7, 'reg_lambda': 1}\n",
      "(2025-05-29 21:42:50) INFO # Fold 1/5 - Accuracy: 0.9436\n",
      "(2025-05-29 21:42:51) INFO # Fold 2/5 - Accuracy: 0.9476\n",
      "(2025-05-29 21:42:51) INFO # Fold 3/5 - Accuracy: 0.9490\n",
      "(2025-05-29 21:42:51) INFO # Fold 4/5 - Accuracy: 0.9460\n",
      "(2025-05-29 21:42:51) INFO # Fold 5/5 - Accuracy: 0.9469\n",
      "(2025-05-29 21:42:52) INFO # Configuration 2/216 completed in 28.38 seconds.\n",
      "(2025-05-29 21:42:52) INFO # Missing configurations: 214. ETA: 6327.83 seconds.\n",
      "(2025-05-29 21:42:52) INFO # Configuration 3/216: {'learning_rate': 0.01, 'max_depth': 10, 'n_estimators': 50, 'min_child_weight': 1, 'colsample_bytree': 0.7, 'reg_lambda': 5}\n",
      "(2025-05-29 21:43:16) INFO # Fold 1/5 - Accuracy: 0.9436\n",
      "(2025-05-29 21:43:17) INFO # Fold 2/5 - Accuracy: 0.9476\n",
      "(2025-05-29 21:43:17) INFO # Fold 3/5 - Accuracy: 0.9490\n",
      "(2025-05-29 21:43:17) INFO # Fold 4/5 - Accuracy: 0.9460\n",
      "(2025-05-29 21:43:17) INFO # Fold 5/5 - Accuracy: 0.9469\n",
      "(2025-05-29 21:43:18) INFO # Configuration 3/216 completed in 25.82 seconds.\n",
      "(2025-05-29 21:43:18) INFO # Missing configurations: 213. ETA: 6031.97 seconds.\n",
      "(2025-05-29 21:43:18) INFO # Configuration 4/216: {'learning_rate': 0.01, 'max_depth': 10, 'n_estimators': 50, 'min_child_weight': 1, 'colsample_bytree': 0.8, 'reg_lambda': 0.1}\n",
      "(2025-05-29 21:43:44) INFO # Fold 1/5 - Accuracy: 0.9436\n",
      "(2025-05-29 21:43:45) INFO # Fold 2/5 - Accuracy: 0.9476\n",
      "(2025-05-29 21:43:45) INFO # Fold 3/5 - Accuracy: 0.9490\n",
      "(2025-05-29 21:43:45) INFO # Fold 4/5 - Accuracy: 0.9460\n",
      "(2025-05-29 21:43:46) INFO # Fold 5/5 - Accuracy: 0.9469\n",
      "(2025-05-29 21:43:47) INFO # Configuration 4/216 completed in 28.91 seconds.\n",
      "(2025-05-29 21:43:47) INFO # Missing configurations: 212. ETA: 6035.28 seconds.\n",
      "(2025-05-29 21:43:47) INFO # Configuration 5/216: {'learning_rate': 0.01, 'max_depth': 10, 'n_estimators': 50, 'min_child_weight': 1, 'colsample_bytree': 0.8, 'reg_lambda': 1}\n",
      "(2025-05-29 21:44:28) INFO # Fold 1/5 - Accuracy: 0.9436\n",
      "(2025-05-29 21:44:28) INFO # Fold 2/5 - Accuracy: 0.9476\n",
      "(2025-05-29 21:44:29) INFO # Fold 3/5 - Accuracy: 0.9490\n",
      "(2025-05-29 21:44:30) INFO # Fold 4/5 - Accuracy: 0.9460\n",
      "(2025-05-29 21:44:30) INFO # Fold 5/5 - Accuracy: 0.9469\n",
      "(2025-05-29 21:44:31) INFO # Configuration 5/216 completed in 44.31 seconds.\n",
      "(2025-05-29 21:44:31) INFO # Missing configurations: 211. ETA: 6675.23 seconds.\n",
      "(2025-05-29 21:44:31) INFO # Configuration 6/216: {'learning_rate': 0.01, 'max_depth': 10, 'n_estimators': 50, 'min_child_weight': 1, 'colsample_bytree': 0.8, 'reg_lambda': 5}\n",
      "(2025-05-29 21:45:06) INFO # Fold 1/5 - Accuracy: 0.9436\n",
      "(2025-05-29 21:45:06) INFO # Fold 2/5 - Accuracy: 0.9476\n",
      "(2025-05-29 21:45:07) INFO # Fold 3/5 - Accuracy: 0.9490\n",
      "(2025-05-29 21:45:07) INFO # Fold 4/5 - Accuracy: 0.9460\n",
      "(2025-05-29 21:45:07) INFO # Fold 5/5 - Accuracy: 0.9469\n",
      "(2025-05-29 21:45:08) INFO # Configuration 6/216 completed in 37.03 seconds.\n",
      "(2025-05-29 21:45:08) INFO # Missing configurations: 210. ETA: 6832.35 seconds.\n",
      "(2025-05-29 21:45:08) INFO # Configuration 7/216: {'learning_rate': 0.01, 'max_depth': 10, 'n_estimators': 50, 'min_child_weight': 5, 'colsample_bytree': 0.7, 'reg_lambda': 0.1}\n",
      "(2025-05-29 21:45:41) INFO # Fold 1/5 - Accuracy: 0.9436\n",
      "(2025-05-29 21:45:42) INFO # Fold 2/5 - Accuracy: 0.9476\n",
      "(2025-05-29 21:45:43) INFO # Fold 3/5 - Accuracy: 0.9490\n",
      "(2025-05-29 21:45:44) INFO # Fold 4/5 - Accuracy: 0.9460\n",
      "(2025-05-29 21:45:45) INFO # Fold 5/5 - Accuracy: 0.9469\n",
      "(2025-05-29 21:45:48) INFO # Configuration 7/216 completed in 40.19 seconds.\n",
      "(2025-05-29 21:45:48) INFO # Missing configurations: 209. ETA: 7028.56 seconds.\n",
      "(2025-05-29 21:45:48) INFO # Configuration 8/216: {'learning_rate': 0.01, 'max_depth': 10, 'n_estimators': 50, 'min_child_weight': 5, 'colsample_bytree': 0.7, 'reg_lambda': 1}\n",
      "(2025-05-29 21:47:08) INFO # Fold 1/5 - Accuracy: 0.9436\n",
      "(2025-05-29 21:47:10) INFO # Fold 2/5 - Accuracy: 0.9476\n",
      "(2025-05-29 21:47:11) INFO # Fold 3/5 - Accuracy: 0.9490\n",
      "(2025-05-29 21:47:11) INFO # Fold 4/5 - Accuracy: 0.9460\n",
      "(2025-05-29 21:47:11) INFO # Fold 5/5 - Accuracy: 0.9469\n",
      "(2025-05-29 21:47:12) INFO # Configuration 8/216 completed in 83.75 seconds.\n",
      "(2025-05-29 21:47:12) INFO # Missing configurations: 208. ETA: 8298.14 seconds.\n",
      "(2025-05-29 21:47:12) INFO # Configuration 9/216: {'learning_rate': 0.01, 'max_depth': 10, 'n_estimators': 50, 'min_child_weight': 5, 'colsample_bytree': 0.7, 'reg_lambda': 5}\n",
      "(2025-05-29 21:48:36) INFO # Fold 1/5 - Accuracy: 0.9436\n",
      "(2025-05-29 21:48:38) INFO # Fold 2/5 - Accuracy: 0.9476\n",
      "(2025-05-29 21:48:39) INFO # Fold 3/5 - Accuracy: 0.9490\n",
      "(2025-05-29 21:48:39) INFO # Fold 4/5 - Accuracy: 0.9460\n",
      "(2025-05-29 21:48:40) INFO # Fold 5/5 - Accuracy: 0.9469\n",
      "(2025-05-29 21:48:42) INFO # Configuration 9/216 completed in 89.78 seconds.\n",
      "(2025-05-29 21:48:42) INFO # Missing configurations: 207. ETA: 9406.02 seconds.\n",
      "(2025-05-29 21:48:42) INFO # Configuration 10/216: {'learning_rate': 0.01, 'max_depth': 10, 'n_estimators': 50, 'min_child_weight': 5, 'colsample_bytree': 0.8, 'reg_lambda': 0.1}\n"
     ]
    }
   ],
   "source": [
    "# def run_config_fold(\n",
    "#     configuration: Dict[str, Any],\n",
    "#     fold: int,\n",
    "#     fold_path: Path,\n",
    "#     train_fold_data: pd.DataFrame,\n",
    "#     validation_fold_data: pd.DataFrame,\n",
    "# ) -> Dict[str, float]:\n",
    "\n",
    "#     # One-hot encode the training and validation data\n",
    "#     X_train = one_hot_encode(train_fold_data.drop(columns=[\"row_index\", \"node\", \"is_root\"]))\n",
    "#     y_train = train_fold_data[\"is_root\"]\n",
    "#     X_val = one_hot_encode(validation_fold_data.drop(columns=[\"row_index\", \"node\", \"is_root\"]))\n",
    "#     y_val = validation_fold_data[\"is_root\"]\n",
    "\n",
    "#     model = XGBClassifier(**configuration, random_state=42)\n",
    "\n",
    "#     model.fit(X_train, y_train)\n",
    "\n",
    "#     y_pred = model.predict(X_val)\n",
    "#     accuracy = accuracy_score(y_val, y_pred)\n",
    "#     with open(fold_path / \"metrics.json\", \"w\") as f:\n",
    "#         json.dump({\"accuracy\": accuracy}, f, indent=4)\n",
    "#     logger.info(f\"Fold {fold + 1}/{cross_validation_folds} - Accuracy: {accuracy:.4f}\")\n",
    "\n",
    "#     del model\n",
    "\n",
    "#     return accuracy\n",
    "\n",
    "from lib.run_conf import run_config_fold\n",
    "\n",
    "\n",
    "model_path = Path(\"../data/models/xgb/gridsearch\")\n",
    "cross_validation_folds = 5\n",
    "\n",
    "average_duration = 0\n",
    "duration_points = 0\n",
    "\n",
    "row_indices = train_data[\"row_index\"].unique()\n",
    "# We'll separate based on row indices, because that's what we have now. Ideally\n",
    "# we would separate based on sentence id, but we don't have that in the data now\n",
    "for j, configuration in enumerate(grid):\n",
    "    logger.info(f\"Configuration {j + 1}/{len(grid)}: {configuration}\")\n",
    "    config_path = model_path / f\"configuration-{j}\"\n",
    "    if config_path.exists():\n",
    "        logger.info(f\"Skipping configuration {j + 1}/{len(grid)}\")\n",
    "        continue\n",
    "    config_path.mkdir(parents=True, exist_ok=True)\n",
    "    with open(config_path / \"configuration.json\", \"w\") as f:\n",
    "        json.dump(configuration, f, indent=4)\n",
    "\n",
    "    accuracies = []\n",
    "    conf_start = time.time()\n",
    "\n",
    "    # Separate cross-validation data\n",
    "    with ProcessPoolExecutor(max_workers=cross_validation_folds) as executor:\n",
    "        jobs = []\n",
    "        for fold in range(cross_validation_folds):\n",
    "            fold_path = config_path / f\"fold-{fold}\"\n",
    "            fold_path.mkdir(parents=True, exist_ok=True)\n",
    "\n",
    "            fold_row_indices = row_indices[fold::cross_validation_folds]\n",
    "            with open(fold_path / \"fold_validation_row_indices.json\", \"w\") as f:\n",
    "                json.dump(fold_row_indices.tolist(), f)\n",
    "\n",
    "            train_fold_data = train_data[~train_data[\"row_index\"].isin(fold_row_indices)]\n",
    "            validation_fold_data = train_data[train_data[\"row_index\"].isin(fold_row_indices)]\n",
    "            job = executor.submit(run_config_fold,configuration, fold, fold_path, train_fold_data, validation_fold_data)\n",
    "            jobs.append(job)\n",
    "        for job in jobs:\n",
    "            accuracy = job.result()\n",
    "            accuracies.append(accuracy)\n",
    "    #logger.info(f\"Configuration {j + 1}/{len(grid)} - Average Accuracy: {sum(accuracies) / len(accuracies):.4f}\")\n",
    "\n",
    "    with open(config_path / \"metrics.json\", \"w\") as f:\n",
    "        json.dump({\"accuracies\": accuracies, \"average_accuracy\": sum(accuracies) / len(accuracies)}, f, indent=4)\n",
    "\n",
    "    logger.info(f\"Configuration {j + 1}/{len(grid)} completed in {time.time() - conf_start:.2f} seconds.\")\n",
    "    missing_confs = len(grid) - (j + 1)\n",
    "    duration_points = min(duration_points + 1, 10)  # At most 10 points to average over, otherwise too smooth.\n",
    "    average_duration = (average_duration * (duration_points - 1) + (time.time() - conf_start)) / duration_points\n",
    "    logger.info(f\"Missing configurations: {missing_confs}. ETA: {average_duration * missing_confs:.2f} seconds.\")"
   ]
  },
  {
   "cell_type": "markdown",
   "id": "7bfb2e02",
   "metadata": {},
   "source": [
    "Let's look at the results from the grid search."
   ]
  },
  {
   "cell_type": "code",
   "execution_count": null,
   "id": "4cb95070",
   "metadata": {},
   "outputs": [
    {
     "data": {
      "application/vnd.microsoft.datawrangler.viewer.v0+json": {
       "columns": [
        {
         "name": "index",
         "rawType": "int64",
         "type": "integer"
        },
        {
         "name": "configuration",
         "rawType": "object",
         "type": "unknown"
        },
        {
         "name": "average_accuracy",
         "rawType": "float64",
         "type": "float"
        }
       ],
       "ref": "44f5f82b-88cf-4acc-935f-9c081117381f",
       "rows": [
        [
         "601",
         "../data/models/rfc/gridsearch/configuration-531",
         "0.9458142528496442"
        ],
        [
         "489",
         "../data/models/rfc/gridsearch/configuration-600",
         "0.9458142528496442"
        ],
        [
         "378",
         "../data/models/rfc/gridsearch/configuration-528",
         "0.9458142528496442"
        ],
        [
         "433",
         "../data/models/rfc/gridsearch/configuration-603",
         "0.9458142528496442"
        ],
        [
         "521",
         "../data/models/rfc/gridsearch/configuration-384",
         "0.9457654642189033"
        ],
        [
         "158",
         "../data/models/rfc/gridsearch/configuration-315",
         "0.9457654642189033"
        ],
        [
         "342",
         "../data/models/rfc/gridsearch/configuration-387",
         "0.9457654642189033"
        ],
        [
         "215",
         "../data/models/rfc/gridsearch/configuration-312",
         "0.9457654642189033"
        ],
        [
         "565",
         "../data/models/rfc/gridsearch/configuration-525",
         "0.9457364720508193"
        ],
        [
         "57",
         "../data/models/rfc/gridsearch/configuration-597",
         "0.9457364720508193"
        ],
        [
         "364",
         "../data/models/rfc/gridsearch/configuration-522",
         "0.9457364720508193"
        ],
        [
         "300",
         "../data/models/rfc/gridsearch/configuration-594",
         "0.9457364720508193"
        ],
        [
         "292",
         "../data/models/rfc/gridsearch/configuration-309",
         "0.9455643857386116"
        ],
        [
         "546",
         "../data/models/rfc/gridsearch/configuration-306",
         "0.9455643857386116"
        ],
        [
         "633",
         "../data/models/rfc/gridsearch/configuration-381",
         "0.9455643857386116"
        ],
        [
         "183",
         "../data/models/rfc/gridsearch/configuration-378",
         "0.9455643857386116"
        ],
        [
         "111",
         "../data/models/rfc/gridsearch/configuration-171",
         "0.9455623937125072"
        ],
        [
         "202",
         "../data/models/rfc/gridsearch/configuration-96",
         "0.9455623937125072"
        ],
        [
         "441",
         "../data/models/rfc/gridsearch/configuration-99",
         "0.9455623937125072"
        ],
        [
         "401",
         "../data/models/rfc/gridsearch/configuration-168",
         "0.9455623937125072"
        ],
        [
         "205",
         "../data/models/rfc/gridsearch/configuration-609",
         "0.9453753590658384"
        ],
        [
         "44",
         "../data/models/rfc/gridsearch/configuration-537",
         "0.9453753590658384"
        ],
        [
         "79",
         "../data/models/rfc/gridsearch/configuration-534",
         "0.9453753590658384"
        ],
        [
         "454",
         "../data/models/rfc/gridsearch/configuration-606",
         "0.9453753590658384"
        ],
        [
         "451",
         "../data/models/rfc/gridsearch/configuration-243",
         "0.9453668422525225"
        ],
        [
         "643",
         "../data/models/rfc/gridsearch/configuration-240",
         "0.9453668422525225"
        ],
        [
         "143",
         "../data/models/rfc/gridsearch/configuration-456",
         "0.9453363975540837"
        ],
        [
         "314",
         "../data/models/rfc/gridsearch/configuration-459",
         "0.9453363975540837"
        ],
        [
         "584",
         "../data/models/rfc/gridsearch/configuration-93",
         "0.9453038896149705"
        ],
        [
         "443",
         "../data/models/rfc/gridsearch/configuration-165",
         "0.9453038896149705"
        ],
        [
         "455",
         "../data/models/rfc/gridsearch/configuration-90",
         "0.9453038896149705"
        ],
        [
         "503",
         "../data/models/rfc/gridsearch/configuration-162",
         "0.9453038896149705"
        ],
        [
         "67",
         "../data/models/rfc/gridsearch/configuration-321",
         "0.9452363398493733"
        ],
        [
         "510",
         "../data/models/rfc/gridsearch/configuration-390",
         "0.9452363398493733"
        ],
        [
         "247",
         "../data/models/rfc/gridsearch/configuration-393",
         "0.9452363398493733"
        ],
        [
         "345",
         "../data/models/rfc/gridsearch/configuration-318",
         "0.9452363398493733"
        ],
        [
         "494",
         "../data/models/rfc/gridsearch/configuration-27",
         "0.9451887679664853"
        ],
        [
         "260",
         "../data/models/rfc/gridsearch/configuration-24",
         "0.9451887679664853"
        ],
        [
         "172",
         "../data/models/rfc/gridsearch/configuration-453",
         "0.9451471620106215"
        ],
        [
         "392",
         "../data/models/rfc/gridsearch/configuration-450",
         "0.9451471620106215"
        ],
        [
         "187",
         "../data/models/rfc/gridsearch/configuration-237",
         "0.9450396080359376"
        ],
        [
         "514",
         "../data/models/rfc/gridsearch/configuration-234",
         "0.9450396080359376"
        ],
        [
         "423",
         "../data/models/rfc/gridsearch/configuration-465",
         "0.9448894040143794"
        ],
        [
         "109",
         "../data/models/rfc/gridsearch/configuration-462",
         "0.9448894040143794"
        ],
        [
         "568",
         "../data/models/rfc/gridsearch/configuration-177",
         "0.9448449049956767"
        ],
        [
         "544",
         "../data/models/rfc/gridsearch/configuration-105",
         "0.9448449049956767"
        ],
        [
         "429",
         "../data/models/rfc/gridsearch/configuration-174",
         "0.9448449049956767"
        ],
        [
         "316",
         "../data/models/rfc/gridsearch/configuration-102",
         "0.9448449049956767"
        ],
        [
         "473",
         "../data/models/rfc/gridsearch/configuration-246",
         "0.944677641022427"
        ],
        [
         "213",
         "../data/models/rfc/gridsearch/configuration-249",
         "0.944677641022427"
        ]
       ],
       "shape": {
        "columns": 2,
        "rows": 648
       }
      },
      "text/html": [
       "<div>\n",
       "<style scoped>\n",
       "    .dataframe tbody tr th:only-of-type {\n",
       "        vertical-align: middle;\n",
       "    }\n",
       "\n",
       "    .dataframe tbody tr th {\n",
       "        vertical-align: top;\n",
       "    }\n",
       "\n",
       "    .dataframe thead th {\n",
       "        text-align: right;\n",
       "    }\n",
       "</style>\n",
       "<table border=\"1\" class=\"dataframe\">\n",
       "  <thead>\n",
       "    <tr style=\"text-align: right;\">\n",
       "      <th></th>\n",
       "      <th>configuration</th>\n",
       "      <th>average_accuracy</th>\n",
       "    </tr>\n",
       "  </thead>\n",
       "  <tbody>\n",
       "    <tr>\n",
       "      <th>601</th>\n",
       "      <td>../data/models/rfc/gridsearch/configuration-531</td>\n",
       "      <td>0.945814</td>\n",
       "    </tr>\n",
       "    <tr>\n",
       "      <th>489</th>\n",
       "      <td>../data/models/rfc/gridsearch/configuration-600</td>\n",
       "      <td>0.945814</td>\n",
       "    </tr>\n",
       "    <tr>\n",
       "      <th>378</th>\n",
       "      <td>../data/models/rfc/gridsearch/configuration-528</td>\n",
       "      <td>0.945814</td>\n",
       "    </tr>\n",
       "    <tr>\n",
       "      <th>433</th>\n",
       "      <td>../data/models/rfc/gridsearch/configuration-603</td>\n",
       "      <td>0.945814</td>\n",
       "    </tr>\n",
       "    <tr>\n",
       "      <th>521</th>\n",
       "      <td>../data/models/rfc/gridsearch/configuration-384</td>\n",
       "      <td>0.945765</td>\n",
       "    </tr>\n",
       "    <tr>\n",
       "      <th>...</th>\n",
       "      <td>...</td>\n",
       "      <td>...</td>\n",
       "    </tr>\n",
       "    <tr>\n",
       "      <th>136</th>\n",
       "      <td>../data/models/rfc/gridsearch/configuration-250</td>\n",
       "      <td>0.892063</td>\n",
       "    </tr>\n",
       "    <tr>\n",
       "      <th>371</th>\n",
       "      <td>../data/models/rfc/gridsearch/configuration-251</td>\n",
       "      <td>0.891966</td>\n",
       "    </tr>\n",
       "    <tr>\n",
       "      <th>632</th>\n",
       "      <td>../data/models/rfc/gridsearch/configuration-248</td>\n",
       "      <td>0.891966</td>\n",
       "    </tr>\n",
       "    <tr>\n",
       "      <th>99</th>\n",
       "      <td>../data/models/rfc/gridsearch/configuration-34</td>\n",
       "      <td>0.891506</td>\n",
       "    </tr>\n",
       "    <tr>\n",
       "      <th>589</th>\n",
       "      <td>../data/models/rfc/gridsearch/configuration-31</td>\n",
       "      <td>0.891506</td>\n",
       "    </tr>\n",
       "  </tbody>\n",
       "</table>\n",
       "<p>648 rows × 2 columns</p>\n",
       "</div>"
      ],
      "text/plain": [
       "                                       configuration  average_accuracy\n",
       "601  ../data/models/rfc/gridsearch/configuration-531          0.945814\n",
       "489  ../data/models/rfc/gridsearch/configuration-600          0.945814\n",
       "378  ../data/models/rfc/gridsearch/configuration-528          0.945814\n",
       "433  ../data/models/rfc/gridsearch/configuration-603          0.945814\n",
       "521  ../data/models/rfc/gridsearch/configuration-384          0.945765\n",
       "..                                               ...               ...\n",
       "136  ../data/models/rfc/gridsearch/configuration-250          0.892063\n",
       "371  ../data/models/rfc/gridsearch/configuration-251          0.891966\n",
       "632  ../data/models/rfc/gridsearch/configuration-248          0.891966\n",
       "99    ../data/models/rfc/gridsearch/configuration-34          0.891506\n",
       "589   ../data/models/rfc/gridsearch/configuration-31          0.891506\n",
       "\n",
       "[648 rows x 2 columns]"
      ]
     },
     "execution_count": 6,
     "metadata": {},
     "output_type": "execute_result"
    }
   ],
   "source": [
    "grid_search_data = Path(\"../data/models/xgb/gridsearch/\")\n",
    "configurations = [f for f in grid_search_data.iterdir() if f.is_dir()]\n",
    "\n",
    "config_results = []\n",
    "\n",
    "for config in configurations:\n",
    "    with open(config / \"metrics.json\", \"r\") as f:\n",
    "        metrics = json.load(f)\n",
    "    config_results.append(\n",
    "        {\n",
    "            \"configuration\": config,\n",
    "            \"average_accuracy\": metrics[\"average_accuracy\"],\n",
    "        }\n",
    "    )\n",
    "\n",
    "df = pd.DataFrame(config_results)\n",
    "df.sort_values(by=\"average_accuracy\", ascending=False, inplace=True)\n",
    "df"
   ]
  },
  {
   "cell_type": "code",
   "execution_count": null,
   "id": "d51f2910",
   "metadata": {},
   "outputs": [
    {
     "name": "stdout",
     "output_type": "stream",
     "text": [
      "Best configuration: ../data/models/rfc/gridsearch/configuration-531\n",
      "Best configuration data: {\n",
      "  \"n_estimators\": 200,\n",
      "  \"criterion\": \"entropy\",\n",
      "  \"max_depth\": 20,\n",
      "  \"max_features\": \"log2\",\n",
      "  \"oob_score\": true,\n",
      "  \"class_weight\": null\n",
      "}\n"
     ]
    }
   ],
   "source": [
    "# Let's load the best configuration\n",
    "best_config_folder = df.iloc[0][\"configuration\"]\n",
    "print(f\"Best configuration: {best_config_folder}\")\n",
    "\n",
    "with open(best_config_folder / \"configuration.json\", \"r\") as f:\n",
    "    best_configuration = json.load(f)\n",
    "print(f\"Best configuration data: {json.dumps(best_configuration, indent=2)}\")"
   ]
  },
  {
   "cell_type": "markdown",
   "id": "d9fb2116",
   "metadata": {},
   "source": [
    "Now we'll train the Random Forest model with the best hyperparameters found in the grid search."
   ]
  },
  {
   "cell_type": "code",
   "execution_count": null,
   "id": "a22e9aef",
   "metadata": {},
   "outputs": [
    {
     "name": "stdout",
     "output_type": "stream",
     "text": [
      "Model saved to ../data/models/rfc/final-train/model.joblib\n",
      "Accuracy: 0.9460\n"
     ]
    }
   ],
   "source": [
    "from sklearn.ensemble import RandomForestClassifier\n",
    "from sklearn.metrics import accuracy_score\n",
    "\n",
    "model_path = Path(\"../data/models/xgb/final-train\")\n",
    "model_path.mkdir(parents=True, exist_ok=True)\n",
    "\n",
    "with open(model_path / \"configuration.json\", \"w\") as f:\n",
    "    json.dump(best_configuration, f, indent=4)\n",
    "\n",
    "\n",
    "# One-hot encode the training and validation data\n",
    "X_train = one_hot_encode(train_data.drop(columns=[\"row_index\", \"node\", \"is_root\"]))\n",
    "y_train = train_data[\"is_root\"]\n",
    "X_val = one_hot_encode(validation_data.drop(columns=[\"row_index\", \"node\", \"is_root\"]))\n",
    "y_val = validation_data[\"is_root\"]\n",
    "\n",
    "model = XGBClassifier(**best_configuration, random_state=42)\n",
    "\n",
    "model.fit(X_train, y_train)\n",
    "\n",
    "# Save the model\n",
    "joblib.dump(model, model_path / \"model.joblib\")\n",
    "print(f\"Model saved to {model_path / 'model.joblib'}\")\n",
    "\n",
    "y_pred = model.predict(X_val)\n",
    "accuracy = accuracy_score(y_val, y_pred)\n",
    "with open(model_path / \"metrics.json\", \"w\") as f:\n",
    "    json.dump({\"accuracy\": accuracy}, f, indent=4)\n",
    "print(f\"Accuracy: {accuracy:.4f}\")"
   ]
  },
  {
   "cell_type": "markdown",
   "id": "8c91ea30",
   "metadata": {},
   "source": [
    "Now let's try to get its generalization performance with the single-split validation we did"
   ]
  },
  {
   "cell_type": "code",
   "execution_count": null,
   "id": "fb710365",
   "metadata": {},
   "outputs": [],
   "source": [
    "from collections import defaultdict\n",
    "from sklearn.metrics import accuracy_score"
   ]
  },
  {
   "cell_type": "code",
   "execution_count": 15,
   "id": "c9005bcb",
   "metadata": {},
   "outputs": [
    {
     "name": "stdout",
     "output_type": "stream",
     "text": [
      "Node-based accuracy: 0.95\n"
     ]
    }
   ],
   "source": [
    "predictions = model.predict(X_val)\n",
    "print(f\"Node-based accuracy: {accuracy_score(y_val, predictions):.2f}\")"
   ]
  },
  {
   "cell_type": "code",
   "execution_count": 16,
   "id": "94064da4",
   "metadata": {},
   "outputs": [
    {
     "name": "stdout",
     "output_type": "stream",
     "text": [
      "Sentence-based accuracy: 0.27\n"
     ]
    }
   ],
   "source": [
    "sentence_predictions = defaultdict(dict)\n",
    "sentence_real_root = {}\n",
    "probabilities = model.predict_proba(X_val)\n",
    "for (_, row), probs in zip(validation_data.iterrows(), probabilities):\n",
    "    sentence_predictions[row[\"row_index\"]][int(row[\"node\"])] = probs[1]\n",
    "    if row[\"is_root\"]:\n",
    "        sentence_real_root[row[\"row_index\"]] = row[\"node\"]\n",
    "\n",
    "if not set(sentence_predictions.keys()) == set(sentence_real_root.keys()):\n",
    "    raise ValueError(\"Mismatch between sentence predictions and real roots.\")\n",
    "\n",
    "\n",
    "def get_predicted_root(row: pd.Series) -> str:\n",
    "    \"\"\"\n",
    "    Get the predicted root node for a sentence.\n",
    "    \"\"\"\n",
    "    sentence_id = row.name\n",
    "    probs = sentence_predictions[sentence_id]\n",
    "    return max(probs.keys(), key=probs.get)\n",
    "\n",
    "\n",
    "validation_prediction = pd.DataFrame.from_dict(sentence_real_root, orient=\"index\", columns=[\"root\"])\n",
    "validation_prediction[\"predicted_root\"] = validation_prediction.apply(get_predicted_root, axis=1)\n",
    "print(\n",
    "    f\"Sentence-based accuracy: {accuracy_score(validation_prediction['root'], validation_prediction['predicted_root']):.2f}\"\n",
    ")"
   ]
  }
 ],
 "metadata": {
  "kernelspec": {
   "display_name": "base",
   "language": "python",
   "name": "python3"
  },
  "language_info": {
   "codemirror_mode": {
    "name": "ipython",
    "version": 3
   },
   "file_extension": ".py",
   "mimetype": "text/x-python",
   "name": "python",
   "nbconvert_exporter": "python",
   "pygments_lexer": "ipython3",
   "version": "3.11.7"
  }
 },
 "nbformat": 4,
 "nbformat_minor": 5
}

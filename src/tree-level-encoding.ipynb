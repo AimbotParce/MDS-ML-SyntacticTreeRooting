{
 "cells": [
  {
   "cell_type": "code",
   "execution_count": 1,
   "id": "65996dc4",
   "metadata": {},
   "outputs": [
    {
     "name": "stderr",
     "output_type": "stream",
     "text": [
      "2025-05-03 20:55:02.676393: E external/local_xla/xla/stream_executor/cuda/cuda_fft.cc:467] Unable to register cuFFT factory: Attempting to register factory for plugin cuFFT when one has already been registered\n",
      "WARNING: All log messages before absl::InitializeLog() is called are written to STDERR\n",
      "E0000 00:00:1746298502.690793  167569 cuda_dnn.cc:8579] Unable to register cuDNN factory: Attempting to register factory for plugin cuDNN when one has already been registered\n",
      "E0000 00:00:1746298502.695000  167569 cuda_blas.cc:1407] Unable to register cuBLAS factory: Attempting to register factory for plugin cuBLAS when one has already been registered\n",
      "W0000 00:00:1746298502.705707  167569 computation_placer.cc:177] computation placer already registered. Please check linkage and avoid linking the same target more than once.\n",
      "W0000 00:00:1746298502.705731  167569 computation_placer.cc:177] computation placer already registered. Please check linkage and avoid linking the same target more than once.\n",
      "W0000 00:00:1746298502.705733  167569 computation_placer.cc:177] computation placer already registered. Please check linkage and avoid linking the same target more than once.\n",
      "W0000 00:00:1746298502.705733  167569 computation_placer.cc:177] computation placer already registered. Please check linkage and avoid linking the same target more than once.\n",
      "2025-05-03 20:55:02.709126: I tensorflow/core/platform/cpu_feature_guard.cc:210] This TensorFlow binary is optimized to use available CPU instructions in performance-critical operations.\n",
      "To enable the following instructions: AVX2 FMA, in other operations, rebuild TensorFlow with the appropriate compiler flags.\n"
     ]
    }
   ],
   "source": [
    "import pandas as pd\n",
    "from lib.trees import get_tree, parse_edge_list, to_torch\n",
    "from lib.training import TrainingLoop\n",
    "from lib.training.callbacks import EarlyStopping\n",
    "from lib.dataset import split_training_validation\n",
    "import random\n",
    "import matplotlib.pyplot as plt\n",
    "from torch_geometric.nn import GCNConv\n",
    "from tqdm import tqdm\n",
    "import torch.nn.functional as F\n",
    "from torch_geometric.loader import DataLoader\n",
    "import networkx as nx\n",
    "import torch\n",
    "from sklearn.manifold import TSNE"
   ]
  },
  {
   "cell_type": "code",
   "execution_count": 2,
   "id": "4206cd78",
   "metadata": {},
   "outputs": [
    {
     "data": {
      "application/vnd.microsoft.datawrangler.viewer.v0+json": {
       "columns": [
        {
         "name": "index",
         "rawType": "int64",
         "type": "integer"
        },
        {
         "name": "language",
         "rawType": "category",
         "type": "unknown"
        },
        {
         "name": "sentence",
         "rawType": "int64",
         "type": "integer"
        },
        {
         "name": "n",
         "rawType": "int64",
         "type": "integer"
        },
        {
         "name": "edgelist",
         "rawType": "object",
         "type": "unknown"
        },
        {
         "name": "root",
         "rawType": "int64",
         "type": "integer"
        },
        {
         "name": "tree",
         "rawType": "object",
         "type": "unknown"
        }
       ],
       "conversionMethod": "pd.DataFrame",
       "ref": "7dfed4c6-a26a-467e-a962-433a2f2c06a6",
       "rows": [
        [
         "0",
         "Japanese",
         "2",
         "23",
         "[(6, 4), (2, 6), (2, 23), (20, 2), (15, 20), (3, 5), (14, 3), (8, 14), (12, 8), (15, 12), (9, 15), (18, 9), (13, 18), (19, 13), (21, 19), (19, 1), (1, 22), (10, 21), (16, 7), (17, 16), (10, 17), (10, 11)]",
         "10",
         "Graph with 23 nodes and 22 edges"
        ],
        [
         "1",
         "Japanese",
         "5",
         "18",
         "[(8, 9), (14, 8), (4, 14), (5, 4), (1, 2), (6, 1), (17, 12), (6, 17), (6, 3), (7, 6), (11, 7), (7, 16), (16, 18), (15, 11), (5, 15), (10, 5), (10, 13)]",
         "10",
         "Graph with 18 nodes and 17 edges"
        ],
        [
         "2",
         "Japanese",
         "8",
         "33",
         "[(2, 10), (2, 14), (4, 2), (16, 4), (6, 16), (12, 32), (26, 12), (3, 26), (29, 27), (22, 29), (15, 22), (24, 18), (13, 24), (15, 13), (6, 15), (11, 5), (11, 23), (11, 21), (19, 11), (19, 20), (19, 33), (19, 8), (9, 19), (7, 9), (1, 28), (25, 1), (30, 25), (7, 30), (7, 17), (31, 7), (6, 31), (3, 6)]",
         "3",
         "Graph with 33 nodes and 32 edges"
        ],
        [
         "3",
         "Japanese",
         "11",
         "30",
         "[(30, 1), (14, 24), (21, 14), (3, 21), (7, 3), (12, 7), (7, 27), (27, 16), (8, 5), (26, 8), (6, 26), (12, 6), (25, 12), (22, 25), (25, 18), (18, 15), (15, 28), (22, 29), (19, 22), (23, 19), (13, 23), (10, 13), (11, 2), (30, 11), (17, 20), (9, 17), (4, 9), (10, 4), (30, 10)]",
         "30",
         "Graph with 30 nodes and 29 edges"
        ],
        [
         "4",
         "Japanese",
         "12",
         "19",
         "[(19, 13), (16, 19), (2, 16), (4, 10), (4, 15), (4, 5), (14, 4), (12, 14), (3, 12), (2, 3), (1, 8), (1, 18), (1, 7), (17, 1), (6, 17), (2, 6), (11, 2), (11, 9)]",
         "11",
         "Graph with 19 nodes and 18 edges"
        ]
       ],
       "shape": {
        "columns": 6,
        "rows": 5
       }
      },
      "text/html": [
       "<div>\n",
       "<style scoped>\n",
       "    .dataframe tbody tr th:only-of-type {\n",
       "        vertical-align: middle;\n",
       "    }\n",
       "\n",
       "    .dataframe tbody tr th {\n",
       "        vertical-align: top;\n",
       "    }\n",
       "\n",
       "    .dataframe thead th {\n",
       "        text-align: right;\n",
       "    }\n",
       "</style>\n",
       "<table border=\"1\" class=\"dataframe\">\n",
       "  <thead>\n",
       "    <tr style=\"text-align: right;\">\n",
       "      <th></th>\n",
       "      <th>language</th>\n",
       "      <th>sentence</th>\n",
       "      <th>n</th>\n",
       "      <th>edgelist</th>\n",
       "      <th>root</th>\n",
       "      <th>tree</th>\n",
       "    </tr>\n",
       "  </thead>\n",
       "  <tbody>\n",
       "    <tr>\n",
       "      <th>0</th>\n",
       "      <td>Japanese</td>\n",
       "      <td>2</td>\n",
       "      <td>23</td>\n",
       "      <td>[(6, 4), (2, 6), (2, 23), (20, 2), (15, 20), (...</td>\n",
       "      <td>10</td>\n",
       "      <td>(6, 4, 2, 23, 20, 15, 3, 5, 14, 8, 12, 9, 18, ...</td>\n",
       "    </tr>\n",
       "    <tr>\n",
       "      <th>1</th>\n",
       "      <td>Japanese</td>\n",
       "      <td>5</td>\n",
       "      <td>18</td>\n",
       "      <td>[(8, 9), (14, 8), (4, 14), (5, 4), (1, 2), (6,...</td>\n",
       "      <td>10</td>\n",
       "      <td>(8, 9, 14, 4, 5, 1, 2, 6, 17, 12, 3, 7, 11, 16...</td>\n",
       "    </tr>\n",
       "    <tr>\n",
       "      <th>2</th>\n",
       "      <td>Japanese</td>\n",
       "      <td>8</td>\n",
       "      <td>33</td>\n",
       "      <td>[(2, 10), (2, 14), (4, 2), (16, 4), (6, 16), (...</td>\n",
       "      <td>3</td>\n",
       "      <td>(2, 10, 14, 4, 16, 6, 12, 32, 26, 3, 29, 27, 2...</td>\n",
       "    </tr>\n",
       "    <tr>\n",
       "      <th>3</th>\n",
       "      <td>Japanese</td>\n",
       "      <td>11</td>\n",
       "      <td>30</td>\n",
       "      <td>[(30, 1), (14, 24), (21, 14), (3, 21), (7, 3),...</td>\n",
       "      <td>30</td>\n",
       "      <td>(30, 1, 14, 24, 21, 3, 7, 12, 27, 16, 8, 5, 26...</td>\n",
       "    </tr>\n",
       "    <tr>\n",
       "      <th>4</th>\n",
       "      <td>Japanese</td>\n",
       "      <td>12</td>\n",
       "      <td>19</td>\n",
       "      <td>[(19, 13), (16, 19), (2, 16), (4, 10), (4, 15)...</td>\n",
       "      <td>11</td>\n",
       "      <td>(19, 13, 16, 2, 4, 10, 15, 5, 14, 12, 3, 1, 8,...</td>\n",
       "    </tr>\n",
       "  </tbody>\n",
       "</table>\n",
       "</div>"
      ],
      "text/plain": [
       "   language  sentence   n                                           edgelist  \\\n",
       "0  Japanese         2  23  [(6, 4), (2, 6), (2, 23), (20, 2), (15, 20), (...   \n",
       "1  Japanese         5  18  [(8, 9), (14, 8), (4, 14), (5, 4), (1, 2), (6,...   \n",
       "2  Japanese         8  33  [(2, 10), (2, 14), (4, 2), (16, 4), (6, 16), (...   \n",
       "3  Japanese        11  30  [(30, 1), (14, 24), (21, 14), (3, 21), (7, 3),...   \n",
       "4  Japanese        12  19  [(19, 13), (16, 19), (2, 16), (4, 10), (4, 15)...   \n",
       "\n",
       "   root                                               tree  \n",
       "0    10  (6, 4, 2, 23, 20, 15, 3, 5, 14, 8, 12, 9, 18, ...  \n",
       "1    10  (8, 9, 14, 4, 5, 1, 2, 6, 17, 12, 3, 7, 11, 16...  \n",
       "2     3  (2, 10, 14, 4, 16, 6, 12, 32, 26, 3, 29, 27, 2...  \n",
       "3    30  (30, 1, 14, 24, 21, 3, 7, 12, 27, 16, 8, 5, 26...  \n",
       "4    11  (19, 13, 16, 2, 4, 10, 15, 5, 14, 12, 3, 1, 8,...  "
      ]
     },
     "execution_count": 2,
     "metadata": {},
     "output_type": "execute_result"
    }
   ],
   "source": [
    "sentences = pd.read_csv(\"../data/train.csv\")\n",
    "sentences[\"language\"] = sentences[\"language\"].astype(\"category\")\n",
    "sentences[\"edgelist\"] = sentences[\"edgelist\"].apply(parse_edge_list)\n",
    "sentences[\"tree\"] = sentences[\"edgelist\"].apply(get_tree)\n",
    "sentences.head()"
   ]
  },
  {
   "cell_type": "code",
   "execution_count": 3,
   "id": "b6a63ae4",
   "metadata": {},
   "outputs": [
    {
     "name": "stdout",
     "output_type": "stream",
     "text": [
      "Training set size: 8400\n",
      "Validation set size: 2100\n"
     ]
    }
   ],
   "source": [
    "random.seed(42)\n",
    "training, validation = split_training_validation(sentences, 0.2)\n",
    "\n",
    "print(\"Training set size:\", len(training))\n",
    "print(\"Validation set size:\", len(validation))"
   ]
  },
  {
   "cell_type": "markdown",
   "id": "b17da169",
   "metadata": {},
   "source": [
    "Let's experiment with adding no features to the nodes or the edges, and just letting the model learn the structure of the graph."
   ]
  },
  {
   "cell_type": "code",
   "execution_count": 4,
   "id": "e0d4cd8a",
   "metadata": {},
   "outputs": [],
   "source": [
    "def get_node_labels(row: pd.Series):\n",
    "    return {n: [float(n == row[\"root\"]), float(n != row[\"root\"])] for n in row[\"tree\"].nodes()}\n",
    "\n",
    "\n",
    "def get_node_features(row: pd.Series):\n",
    "    tree = row[\"tree\"]\n",
    "    degree_centrality = nx.degree_centrality(tree)\n",
    "    harmonic_centrality = nx.harmonic_centrality(tree)\n",
    "    betweenness_centrality = nx.betweenness_centrality(tree)\n",
    "    pagerank = nx.pagerank(tree)\n",
    "\n",
    "    return {\n",
    "        n: [degree_centrality[n], harmonic_centrality[n], betweenness_centrality[n], pagerank[n]] for n in tree.nodes()\n",
    "    }\n",
    "\n",
    "\n",
    "trees = training.apply(\n",
    "    lambda r: to_torch(r[\"tree\"], node_features=get_node_features(r), node_labels=get_node_labels(r)), axis=1\n",
    ").tolist()\n",
    "train_dataset = DataLoader(trees, batch_size=32, shuffle=True)\n",
    "# DataLoader groups sub-graphs into mini-batches. See https://pytorch-geometric.readthedocs.io/en/latest/advanced/batching.html\n",
    "# for more details. Basically, it combines the smaller graphs into a single large\n",
    "# disconnected graph without padding, using smart indexing and concatenation\n",
    "# techniques.\n",
    "\n",
    "validation_trees = validation.apply(\n",
    "    lambda r: to_torch(r[\"tree\"], node_features=get_node_features(r), node_labels=get_node_labels(r)), axis=1\n",
    ").tolist()\n",
    "validation_dataset = DataLoader(validation_trees, batch_size=32, shuffle=False)"
   ]
  },
  {
   "cell_type": "code",
   "execution_count": 5,
   "id": "c88abc27",
   "metadata": {},
   "outputs": [],
   "source": [
    "class GCN(torch.nn.Module):\n",
    "    def __init__(self, num_features: int, hidden_channels: int, num_classes: int, hidden_layers: int = 10):\n",
    "        super(GCN, self).__init__()\n",
    "        torch.manual_seed(42)\n",
    "        self.conv1 = GCNConv(num_features, hidden_channels)\n",
    "        self.hidden_layers = [GCNConv(hidden_channels, hidden_channels) for _ in range(hidden_layers)]\n",
    "        self.dense = torch.nn.Linear(hidden_channels, num_classes)\n",
    "\n",
    "    def forward(self, x, edge_index):\n",
    "        x = self.conv1(x, edge_index)\n",
    "        x = F.relu(x)\n",
    "        x = F.dropout(x, p=0.1, training=self.training)\n",
    "        for layer in self.hidden_layers:\n",
    "            x = layer(x, edge_index)\n",
    "            x = F.relu(x)\n",
    "            x = F.dropout(x, p=0.1, training=self.training)\n",
    "        x = self.dense(x)\n",
    "        return F.softmax(x, dim=1)"
   ]
  },
  {
   "cell_type": "code",
   "execution_count": 6,
   "id": "8468a686",
   "metadata": {},
   "outputs": [
    {
     "name": "stderr",
     "output_type": "stream",
     "text": [
      "                                                                                                    \r"
     ]
    },
    {
     "name": "stdout",
     "output_type": "stream",
     "text": [
      "Epoch 1/100: loss=0.02797 val_loss=0.02903\n"
     ]
    },
    {
     "name": "stderr",
     "output_type": "stream",
     "text": [
      "                                                                                                    \r"
     ]
    },
    {
     "name": "stdout",
     "output_type": "stream",
     "text": [
      "Epoch 2/100: loss=0.02467 val_loss=0.02876\n"
     ]
    },
    {
     "name": "stderr",
     "output_type": "stream",
     "text": [
      "                                                                                                    \r"
     ]
    },
    {
     "name": "stdout",
     "output_type": "stream",
     "text": [
      "Epoch 3/100: loss=0.03156 val_loss=0.02851\n"
     ]
    },
    {
     "name": "stderr",
     "output_type": "stream",
     "text": [
      "                                                                                                    \r"
     ]
    },
    {
     "name": "stdout",
     "output_type": "stream",
     "text": [
      "Epoch 4/100: loss=0.02597 val_loss=0.02833\n"
     ]
    },
    {
     "name": "stderr",
     "output_type": "stream",
     "text": [
      "                                                                                                    \r"
     ]
    },
    {
     "name": "stdout",
     "output_type": "stream",
     "text": [
      "Epoch 5/100: loss=0.02813 val_loss=0.02822\n"
     ]
    },
    {
     "name": "stderr",
     "output_type": "stream",
     "text": [
      "                                                                                                    \r"
     ]
    },
    {
     "name": "stdout",
     "output_type": "stream",
     "text": [
      "Epoch 6/100: loss=0.02890 val_loss=0.02818\n"
     ]
    },
    {
     "name": "stderr",
     "output_type": "stream",
     "text": [
      "                                                                                                    \r"
     ]
    },
    {
     "name": "stdout",
     "output_type": "stream",
     "text": [
      "Epoch 7/100: loss=0.02725 val_loss=0.02818\n"
     ]
    },
    {
     "name": "stderr",
     "output_type": "stream",
     "text": [
      "                                                                                                    \r"
     ]
    },
    {
     "name": "stdout",
     "output_type": "stream",
     "text": [
      "Epoch 8/100: loss=0.02692 val_loss=0.02818\n"
     ]
    },
    {
     "name": "stderr",
     "output_type": "stream",
     "text": [
      "                                                                                                    \r"
     ]
    },
    {
     "name": "stdout",
     "output_type": "stream",
     "text": [
      "Epoch 9/100: loss=0.02647 val_loss=0.02819\n"
     ]
    },
    {
     "name": "stderr",
     "output_type": "stream",
     "text": [
      "                                                                                                    \r"
     ]
    },
    {
     "name": "stdout",
     "output_type": "stream",
     "text": [
      "Epoch 10/100: loss=0.02818 val_loss=0.02818\n"
     ]
    },
    {
     "name": "stderr",
     "output_type": "stream",
     "text": [
      "                                                                                                    \r"
     ]
    },
    {
     "name": "stdout",
     "output_type": "stream",
     "text": [
      "Epoch 11/100: loss=0.02809 val_loss=0.02818\n"
     ]
    },
    {
     "name": "stderr",
     "output_type": "stream",
     "text": [
      "                                                                                                    \r"
     ]
    },
    {
     "name": "stdout",
     "output_type": "stream",
     "text": [
      "Epoch 12/100: loss=0.02456 val_loss=0.02818\n"
     ]
    },
    {
     "name": "stderr",
     "output_type": "stream",
     "text": [
      "                                                                                                    \r"
     ]
    },
    {
     "name": "stdout",
     "output_type": "stream",
     "text": [
      "Epoch 13/100: loss=0.02899 val_loss=0.02817\n"
     ]
    },
    {
     "name": "stderr",
     "output_type": "stream",
     "text": [
      "                                                                                                    \r"
     ]
    },
    {
     "name": "stdout",
     "output_type": "stream",
     "text": [
      "Epoch 14/100: loss=0.02985 val_loss=0.02818\n"
     ]
    },
    {
     "name": "stderr",
     "output_type": "stream",
     "text": [
      "                                                                                                    \r"
     ]
    },
    {
     "name": "stdout",
     "output_type": "stream",
     "text": [
      "Epoch 15/100: loss=0.02637 val_loss=0.02817\n"
     ]
    },
    {
     "name": "stderr",
     "output_type": "stream",
     "text": [
      "                                                                                                    \r"
     ]
    },
    {
     "name": "stdout",
     "output_type": "stream",
     "text": [
      "Epoch 16/100: loss=0.02890 val_loss=0.02818\n"
     ]
    },
    {
     "name": "stderr",
     "output_type": "stream",
     "text": [
      "                                                                                                    \r"
     ]
    },
    {
     "name": "stdout",
     "output_type": "stream",
     "text": [
      "Epoch 17/100: loss=0.03036 val_loss=0.02818\n"
     ]
    },
    {
     "name": "stderr",
     "output_type": "stream",
     "text": [
      "                                                                                                    \r"
     ]
    },
    {
     "name": "stdout",
     "output_type": "stream",
     "text": [
      "Epoch 18/100: loss=0.02766 val_loss=0.02818\n"
     ]
    },
    {
     "name": "stderr",
     "output_type": "stream",
     "text": [
      "                                                                                                    \r"
     ]
    },
    {
     "name": "stdout",
     "output_type": "stream",
     "text": [
      "Epoch 19/100: loss=0.03234 val_loss=0.02817\n"
     ]
    },
    {
     "name": "stderr",
     "output_type": "stream",
     "text": [
      "                                                                                                    \r"
     ]
    },
    {
     "name": "stdout",
     "output_type": "stream",
     "text": [
      "Epoch 20/100: loss=0.02469 val_loss=0.02818\n"
     ]
    },
    {
     "name": "stderr",
     "output_type": "stream",
     "text": [
      "                                                                                                    \r"
     ]
    },
    {
     "name": "stdout",
     "output_type": "stream",
     "text": [
      "Epoch 21/100: loss=0.02677 val_loss=0.02819\n"
     ]
    },
    {
     "name": "stderr",
     "output_type": "stream",
     "text": [
      "                                                                                                    \r"
     ]
    },
    {
     "name": "stdout",
     "output_type": "stream",
     "text": [
      "Epoch 22/100: loss=0.02685 val_loss=0.02818\n"
     ]
    },
    {
     "name": "stderr",
     "output_type": "stream",
     "text": [
      "                                                                                                    \r"
     ]
    },
    {
     "name": "stdout",
     "output_type": "stream",
     "text": [
      "Epoch 23/100: loss=0.02599 val_loss=0.02817\n"
     ]
    },
    {
     "name": "stderr",
     "output_type": "stream",
     "text": [
      "                                                                                                    \r"
     ]
    },
    {
     "name": "stdout",
     "output_type": "stream",
     "text": [
      "Epoch 24/100: loss=0.02565 val_loss=0.02818\n"
     ]
    },
    {
     "name": "stderr",
     "output_type": "stream",
     "text": [
      "                                                                                                    \r"
     ]
    },
    {
     "name": "stdout",
     "output_type": "stream",
     "text": [
      "Epoch 25/100: loss=0.02609 val_loss=0.02818\n"
     ]
    },
    {
     "name": "stderr",
     "output_type": "stream",
     "text": [
      "                                                                                                    \r"
     ]
    },
    {
     "name": "stdout",
     "output_type": "stream",
     "text": [
      "Epoch 26/100: loss=0.02948 val_loss=0.02821\n"
     ]
    },
    {
     "name": "stderr",
     "output_type": "stream",
     "text": [
      "                                                                                                    \r"
     ]
    },
    {
     "name": "stdout",
     "output_type": "stream",
     "text": [
      "Epoch 27/100: loss=0.02751 val_loss=0.02819\n"
     ]
    },
    {
     "name": "stderr",
     "output_type": "stream",
     "text": [
      "                                                                                                    \r"
     ]
    },
    {
     "name": "stdout",
     "output_type": "stream",
     "text": [
      "Epoch 28/100: loss=0.02765 val_loss=0.02817\n"
     ]
    },
    {
     "name": "stderr",
     "output_type": "stream",
     "text": [
      "                                                                                                    \r"
     ]
    },
    {
     "name": "stdout",
     "output_type": "stream",
     "text": [
      "Epoch 29/100: loss=0.02602 val_loss=0.02819\n"
     ]
    },
    {
     "name": "stderr",
     "output_type": "stream",
     "text": [
      "                                                                                                    \r"
     ]
    },
    {
     "name": "stdout",
     "output_type": "stream",
     "text": [
      "Epoch 30/100: loss=0.02749 val_loss=0.02818\n"
     ]
    },
    {
     "name": "stderr",
     "output_type": "stream",
     "text": [
      "                                                                                                    \r"
     ]
    },
    {
     "name": "stdout",
     "output_type": "stream",
     "text": [
      "Epoch 31/100: loss=0.02684 val_loss=0.02817\n"
     ]
    },
    {
     "name": "stderr",
     "output_type": "stream",
     "text": [
      "                                                                                                    \r"
     ]
    },
    {
     "name": "stdout",
     "output_type": "stream",
     "text": [
      "Epoch 32/100: loss=0.02401 val_loss=0.02822\n"
     ]
    },
    {
     "name": "stderr",
     "output_type": "stream",
     "text": [
      "                                                                                                    "
     ]
    },
    {
     "name": "stdout",
     "output_type": "stream",
     "text": [
      "Epoch 33/100: loss=0.02701 val_loss=0.02818\n"
     ]
    },
    {
     "name": "stderr",
     "output_type": "stream",
     "text": [
      "\r"
     ]
    }
   ],
   "source": [
    "model = GCN(num_features=trees[0].x.shape[1], hidden_channels=16, num_classes=2, hidden_layers=10)\n",
    "optimizer = torch.optim.Adam(model.parameters(), lr=0.01, weight_decay=5e-4)\n",
    "\n",
    "class_weights = {0: 0.1, 1: 1.0}\n",
    "\n",
    "\n",
    "def custom_mse_loss(y_pred, y_true):\n",
    "    \"\"\"\n",
    "    MSE loss function with class weights.\n",
    "    \"\"\"\n",
    "    y_pred = y_pred.view(-1)\n",
    "    y_true = y_true.view(-1)\n",
    "    weights = torch.tensor([class_weights[int(y)] for y in y_true], dtype=torch.float32).to(y_pred.device)\n",
    "    loss = F.mse_loss(y_pred, y_true, reduction=\"none\")\n",
    "    return (loss * weights).mean()\n",
    "\n",
    "\n",
    "TrainingLoop(\n",
    "    model=model,\n",
    "    optimizer=optimizer,\n",
    "    loss_fn=custom_mse_loss,\n",
    "    train_loader=train_dataset,\n",
    "    val_loader=validation_dataset,\n",
    "    epochs=100,\n",
    "    callbacks=[EarlyStopping(patience=10)],\n",
    ").train()"
   ]
  },
  {
   "cell_type": "code",
   "execution_count": 7,
   "id": "2593dcff",
   "metadata": {},
   "outputs": [
    {
     "name": "stderr",
     "output_type": "stream",
     "text": [
      "                                                    "
     ]
    },
    {
     "name": "stdout",
     "output_type": "stream",
     "text": [
      "Accuracy: 0.5933\n"
     ]
    },
    {
     "name": "stderr",
     "output_type": "stream",
     "text": [
      "\r"
     ]
    }
   ],
   "source": [
    "correct = 0\n",
    "for tree in tqdm(validation_trees, leave=False):\n",
    "    with torch.no_grad():\n",
    "        out = model(tree.x, tree.edge_index)\n",
    "        expected = torch.argmax(tree.y, dim=0)[0]\n",
    "        predicted = torch.argmax(out, dim=0)[0]\n",
    "        if predicted == expected:\n",
    "            correct += 1\n",
    "accuracy = correct / len(validation_dataset.dataset)\n",
    "print(f\"Accuracy: {accuracy:.4f}\")"
   ]
  }
 ],
 "metadata": {
  "kernelspec": {
   "display_name": ".venv",
   "language": "python",
   "name": "python3"
  },
  "language_info": {
   "codemirror_mode": {
    "name": "ipython",
    "version": 3
   },
   "file_extension": ".py",
   "mimetype": "text/x-python",
   "name": "python",
   "nbconvert_exporter": "python",
   "pygments_lexer": "ipython3",
   "version": "3.12.3"
  }
 },
 "nbformat": 4,
 "nbformat_minor": 5
}
